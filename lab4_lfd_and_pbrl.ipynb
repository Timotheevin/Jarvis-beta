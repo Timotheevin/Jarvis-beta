{
  "cells": [
    {
      "cell_type": "markdown",
      "metadata": {
        "id": "CNwPDQHs2b2m"
      },
      "source": [
        "# Learning from Demonstrations\n",
        "\n",
        "<img src=\"https://raw.githubusercontent.com/jeremiedecock/polytechnique-csc-53439-ep-2025-students/refs/heads/main/assets/logo.jpg?raw=true\" style=\"float: left; width: 15%\" />\n",
        "\n",
        "[CSC_53439_EP-2025](https://moodle.ip-paris.fr/course/view.php?id=10716) Lab session #4\n",
        "\n",
        "2019-2025 Jérémie Decock"
      ]
    },
    {
      "cell_type": "markdown",
      "metadata": {
        "id": "ZfIG39Sc2b2q"
      },
      "source": [
        "[![Open in Google Colab](https://colab.research.google.com/assets/colab-badge.svg)](https://colab.research.google.com/github/jeremiedecock/polytechnique-csc-53439-ep-2025-students/blob/main/lab4_lfd_and_pbrl.ipynb)\n",
        "\n",
        "[![My Binder](https://mybinder.org/badge_logo.svg)](https://mybinder.org/v2/gh/jeremiedecock/polytechnique-csc-53439-ep-2025-students/main?filepath=lab4_lfd_and_pbrl.ipynb)\n",
        "\n",
        "[![NbViewer](https://raw.githubusercontent.com/jupyter/design/master/logos/Badges/nbviewer_badge.svg)](https://nbviewer.jupyter.org/github/jeremiedecock/polytechnique-csc-53439-ep-2025-students/blob/main/lab4_lfd_and_pbrl.ipynb)\n",
        "\n",
        "[![Local](https://img.shields.io/badge/Local-Save%20As...-blue)](https://github.com/jeremiedecock/polytechnique-csc-53439-ep-2025-students/raw/main/lab4_lfd_and_pbrl.ipynb)"
      ]
    },
    {
      "cell_type": "markdown",
      "metadata": {
        "id": "2yjjh1cL2b2r"
      },
      "source": [
        "## Introduction\n",
        "\n",
        "The purpose of this lab is to introduce some classic algorithms of *Learning from Demonstrations*. We will see how they work, their caveats and benefits.\n",
        "\n",
        "*Learning from Demonstrations* (LfD) is an approach in reinforcement learning where an agent learns behaviors by observing examples provided by a demonstrator. This field is divided into two main branches: *Imitation Learning* and *Inverse Reinforcement Learning* (IRL).\n",
        "\n",
        "- **Imitation Learning** involves directly mimicking the demonstrator's actions. The agent learns to replicate the demonstrated behavior without attempting to infer the underlying objectives or rewards driving the actions. It focuses on reproducing successful behaviors in a given task, often through supervised learning.\n",
        "\n",
        "- **Inverse Reinforcement Learning (IRL)**, on the other hand, seeks to infer the demonstrator's underlying reward function. Instead of copying actions, the agent tries to discover the goals or preferences that motivated the demonstrator’s behavior. Once the reward function is learned, the agent can optimize its own policy to achieve similar outcomes.\n",
        "\n",
        "The main objective of *Learning from Demonstrations* is to enable agents to learn effectively in settings where the reward function is unknown or poorly defined, by leveraging expert demonstrations as a source of supervisory signal."
      ]
    },
    {
      "cell_type": "markdown",
      "metadata": {
        "id": "TKnxjF-u2b2s"
      },
      "source": [
        "Both parts of this lab will focus on *Imitation Learning*. In the first part, we will implement the *Behavioral Cloning* algorithm, while the second part will introduce the *GAIL* algorithm."
      ]
    },
    {
      "cell_type": "markdown",
      "metadata": {
        "id": "2NmaB4V92b2s"
      },
      "source": [
        "You can either:\n",
        "- open, edit and execute the notebook in *Google Colab* following this link: https://colab.research.google.com/github/jeremiedecock/polytechnique-csc-53439-ep-2025-students/blob/main/lab4_lfd_and_pbrl.ipynb ; this is the **recommended** choice as you have nothing to install on your computer\n",
        "- open, edit and execute the notebook in *MyBinder* (if for any reason the Google Colab solution doesn't work): https://mybinder.org/v2/gh/jeremiedecock/polytechnique-csc-53439-ep-2025-students/main?filepath=lab4_lfd_and_pbrl.ipynb\n",
        "- download, edit and execute the notebook on your computer if Python3 and JypyterLab are already installed: https://github.com/jeremiedecock/polytechnique-csc-53439-ep-2025-students/raw/main/lab4_lfd_and_pbrl.ipynb\n",
        "\n",
        "If you work with Google Colab or MyBinder, **remember to save or download your work regularly or you may lose it!**"
      ]
    },
    {
      "cell_type": "markdown",
      "metadata": {
        "id": "OOTm07fa2b2t"
      },
      "source": [
        "## Lab Submission\n",
        "\n",
        "Please submit your completed notebook in [Moodle : \"Lab 4 - Submission\"](https://moodle.ip-paris.fr/mod/assign/view.php?id=185691).\n",
        "\n",
        "### Submission Guidelines\n",
        "\n",
        "1. **File Naming:** Rename your notebook as follows: **`firstname_lastname-04.ipynb`** where `firstname` and `lastname` match your email address. *Example: `jesse_read-04.ipynb`*\n",
        "2. **Clear Output Cells:** To reduce file size (**must be under 500 KB**), clear all output cells before submitting. This includes rendered images, videos, plots, and dataframes...\n",
        "   - **JupyterLab:**\n",
        "     - Click **\"Kernel\" → \"Restart Kernel and Clear Outputs of All Cells...\"**\n",
        "     - Then go to **\"File\" → \"Save Notebook As...\"**\n",
        "   - **Google Colab:**\n",
        "     - Click **\"Edit\" → \"Clear all outputs\"**\n",
        "     - Then go to **\"File\" → \"Download\" → \"Download.ipynb\"**\n",
        "   - **VSCode:**\n",
        "     - Click **\"Clear All Outputs\"**\n",
        "     - Then **save your file**\n",
        "3. **Upload Your File:** Only **`.ipynb`** files are accepted.\n",
        "\n",
        "**Note:** Bonus parts (if any) are optional, as their name suggests."
      ]
    },
    {
      "cell_type": "markdown",
      "metadata": {
        "id": "LUQyX9z82b2t"
      },
      "source": [
        "## Setup the Python environment"
      ]
    },
    {
      "cell_type": "markdown",
      "metadata": {
        "id": "-4hHwnQA2b2u"
      },
      "source": [
        "This notebook relies on several libraries including `torch`, `gymnasium`, `numpy`, `pandas`, `seaborn`, `imageio`, `pygame`, and `tqdm`.\n",
        "A complete list of dependencies can be found in the following [requirements_lab4.txt](https://raw.githubusercontent.com/jeremiedecock/polytechnique-csc-53439-ep-2025-students/main/requirements_lab4.txt) file."
      ]
    },
    {
      "cell_type": "markdown",
      "metadata": {
        "id": "8M3y21Vf2b2u"
      },
      "source": [
        "### If you use Google Colab\n",
        "\n",
        "If you use Google Colab, execute the next cell to install required libraries."
      ]
    },
    {
      "cell_type": "code",
      "execution_count": 1,
      "metadata": {
        "id": "YMIIY2jt2b2u",
        "outputId": "fad16acd-ec43-4180-9a12-13b2dbd1c9af",
        "colab": {
          "base_uri": "https://localhost:8080/"
        }
      },
      "outputs": [
        {
          "output_type": "stream",
          "name": "stdout",
          "text": [
            "Reading package lists...\n",
            "Building dependency tree...\n",
            "Reading state information...\n",
            "The following additional packages will be installed:\n",
            "swig4.0\n",
            "Suggested packages:\n",
            "swig-doc swig-examples swig4.0-examples swig4.0-doc\n",
            "The following NEW packages will be installed:\n",
            "swig swig4.0\n",
            "0 upgraded, 2 newly installed, 0 to remove and 38 not upgraded.\n",
            "Need to get 1,116 kB of archives.\n",
            "After this operation, 5,542 kB of additional disk space will be used.\n",
            "Get:1 http://archive.ubuntu.com/ubuntu jammy/universe amd64 swig4.0 amd64 4.0.2-1ubuntu1 [1,110 kB]\n",
            "Get:2 http://archive.ubuntu.com/ubuntu jammy/universe amd64 swig all 4.0.2-1ubuntu1 [5,632 B]\n",
            "Fetched 1,116 kB in 1s (1,048 kB/s)\n",
            "Selecting previously unselected package swig4.0.\n",
            "(Reading database ... 126675 files and directories currently installed.)\n",
            "Preparing to unpack .../swig4.0_4.0.2-1ubuntu1_amd64.deb ...\n",
            "Unpacking swig4.0 (4.0.2-1ubuntu1) ...\n",
            "Selecting previously unselected package swig.\n",
            "Preparing to unpack .../swig_4.0.2-1ubuntu1_all.deb ...\n",
            "Unpacking swig (4.0.2-1ubuntu1) ...\n",
            "Setting up swig4.0 (4.0.2-1ubuntu1) ...\n",
            "Setting up swig (4.0.2-1ubuntu1) ...\n",
            "Processing triggers for man-db (2.10.2-1) ...\n",
            "Requirement already satisfied: torch~=2.8.0 in /usr/local/lib/python3.12/dist-packages (from -r https://raw.githubusercontent.com/jeremiedecock/polytechnique-csc-53439-ep-2025-students/main/requirements_lab4_google_colab.txt (line 13)) (2.8.0+cu126)\n",
            "Requirement already satisfied: gymnasium~=1.2.1 in /usr/local/lib/python3.12/dist-packages (from gymnasium[box2d,classic-control]~=1.2.1->-r https://raw.githubusercontent.com/jeremiedecock/polytechnique-csc-53439-ep-2025-students/main/requirements_lab4_google_colab.txt (line 23)) (1.2.1)\n",
            "Requirement already satisfied: imageio~=2.37.0 in /usr/local/lib/python3.12/dist-packages (from -r https://raw.githubusercontent.com/jeremiedecock/polytechnique-csc-53439-ep-2025-students/main/requirements_lab4_google_colab.txt (line 45)) (2.37.0)\n",
            "Collecting ipywidgets~=8.1.7 (from -r https://raw.githubusercontent.com/jeremiedecock/polytechnique-csc-53439-ep-2025-students/main/requirements_lab4_google_colab.txt (line 47))\n",
            "Downloading ipywidgets-8.1.7-py3-none-any.whl.metadata (2.4 kB)\n",
            "Collecting matplotlib~=3.10.6 (from -r https://raw.githubusercontent.com/jeremiedecock/polytechnique-csc-53439-ep-2025-students/main/requirements_lab4_google_colab.txt (line 49))\n",
            "Downloading matplotlib-3.10.7-cp312-cp312-manylinux2014_x86_64.manylinux_2_17_x86_64.whl.metadata (11 kB)\n",
            "Collecting pandas~=2.3.2 (from -r https://raw.githubusercontent.com/jeremiedecock/polytechnique-csc-53439-ep-2025-students/main/requirements_lab4_google_colab.txt (line 51))\n",
            "Downloading pandas-2.3.3-cp312-cp312-manylinux_2_24_x86_64.manylinux_2_28_x86_64.whl.metadata (91 kB)\n",
            "━━━━━━━━━━━━━━━━━━━━━━━━━━━━━━━━━━━━━━━━ 91.2/91.2 kB 3.3 MB/s eta 0:00:00\n",
            "Collecting pyvirtualdisplay~=3.0 (from -r https://raw.githubusercontent.com/jeremiedecock/polytechnique-csc-53439-ep-2025-students/main/requirements_lab4_google_colab.txt (line 54))\n",
            "Downloading PyVirtualDisplay-3.0-py3-none-any.whl.metadata (943 bytes)\n",
            "Requirement already satisfied: seaborn~=0.13.2 in /usr/local/lib/python3.12/dist-packages (from -r https://raw.githubusercontent.com/jeremiedecock/polytechnique-csc-53439-ep-2025-students/main/requirements_lab4_google_colab.txt (line 56)) (0.13.2)\n",
            "Requirement already satisfied: tqdm~=4.67.1 in /usr/local/lib/python3.12/dist-packages (from -r https://raw.githubusercontent.com/jeremiedecock/polytechnique-csc-53439-ep-2025-students/main/requirements_lab4_google_colab.txt (line 57)) (4.67.1)\n",
            "Requirement already satisfied: moviepy in /usr/local/lib/python3.12/dist-packages (from -r https://raw.githubusercontent.com/jeremiedecock/polytechnique-csc-53439-ep-2025-students/main/requirements_lab4_google_colab.txt (line 63)) (1.0.3)\n",
            "Requirement already satisfied: jupytext~=1.17.3 in /usr/local/lib/python3.12/dist-packages (from -r https://raw.githubusercontent.com/jeremiedecock/polytechnique-csc-53439-ep-2025-students/main/requirements_lab4_google_colab.txt (line 72)) (1.17.3)\n",
            "Collecting mypy~=1.18.2 (from -r https://raw.githubusercontent.com/jeremiedecock/polytechnique-csc-53439-ep-2025-students/main/requirements_lab4_google_colab.txt (line 73))\n",
            "Downloading mypy-1.18.2-cp312-cp312-manylinux2014_x86_64.manylinux_2_17_x86_64.manylinux_2_28_x86_64.whl.metadata (2.2 kB)\n",
            "Collecting ruff~=0.13.2 (from -r https://raw.githubusercontent.com/jeremiedecock/polytechnique-csc-53439-ep-2025-students/main/requirements_lab4_google_colab.txt (line 75))\n",
            "Downloading ruff-0.13.3-py3-none-manylinux_2_17_x86_64.manylinux2014_x86_64.whl.metadata (25 kB)\n",
            "Requirement already satisfied: filelock in /usr/local/lib/python3.12/dist-packages (from torch~=2.8.0->-r https://raw.githubusercontent.com/jeremiedecock/polytechnique-csc-53439-ep-2025-students/main/requirements_lab4_google_colab.txt (line 13)) (3.20.0)\n",
            "Requirement already satisfied: typing-extensions>=4.10.0 in /usr/local/lib/python3.12/dist-packages (from torch~=2.8.0->-r https://raw.githubusercontent.com/jeremiedecock/polytechnique-csc-53439-ep-2025-students/main/requirements_lab4_google_colab.txt (line 13)) (4.15.0)\n",
            "Requirement already satisfied: setuptools in /usr/local/lib/python3.12/dist-packages (from torch~=2.8.0->-r https://raw.githubusercontent.com/jeremiedecock/polytechnique-csc-53439-ep-2025-students/main/requirements_lab4_google_colab.txt (line 13)) (75.2.0)\n",
            "Requirement already satisfied: sympy>=1.13.3 in /usr/local/lib/python3.12/dist-packages (from torch~=2.8.0->-r https://raw.githubusercontent.com/jeremiedecock/polytechnique-csc-53439-ep-2025-students/main/requirements_lab4_google_colab.txt (line 13)) (1.13.3)\n",
            "Requirement already satisfied: networkx in /usr/local/lib/python3.12/dist-packages (from torch~=2.8.0->-r https://raw.githubusercontent.com/jeremiedecock/polytechnique-csc-53439-ep-2025-students/main/requirements_lab4_google_colab.txt (line 13)) (3.5)\n",
            "Requirement already satisfied: jinja2 in /usr/local/lib/python3.12/dist-packages (from torch~=2.8.0->-r https://raw.githubusercontent.com/jeremiedecock/polytechnique-csc-53439-ep-2025-students/main/requirements_lab4_google_colab.txt (line 13)) (3.1.6)\n",
            "Requirement already satisfied: fsspec in /usr/local/lib/python3.12/dist-packages (from torch~=2.8.0->-r https://raw.githubusercontent.com/jeremiedecock/polytechnique-csc-53439-ep-2025-students/main/requirements_lab4_google_colab.txt (line 13)) (2025.3.0)\n",
            "Requirement already satisfied: nvidia-cuda-nvrtc-cu12==12.6.77 in /usr/local/lib/python3.12/dist-packages (from torch~=2.8.0->-r https://raw.githubusercontent.com/jeremiedecock/polytechnique-csc-53439-ep-2025-students/main/requirements_lab4_google_colab.txt (line 13)) (12.6.77)\n",
            "Requirement already satisfied: nvidia-cuda-runtime-cu12==12.6.77 in /usr/local/lib/python3.12/dist-packages (from torch~=2.8.0->-r https://raw.githubusercontent.com/jeremiedecock/polytechnique-csc-53439-ep-2025-students/main/requirements_lab4_google_colab.txt (line 13)) (12.6.77)\n",
            "Requirement already satisfied: nvidia-cuda-cupti-cu12==12.6.80 in /usr/local/lib/python3.12/dist-packages (from torch~=2.8.0->-r https://raw.githubusercontent.com/jeremiedecock/polytechnique-csc-53439-ep-2025-students/main/requirements_lab4_google_colab.txt (line 13)) (12.6.80)\n",
            "Requirement already satisfied: nvidia-cudnn-cu12==9.10.2.21 in /usr/local/lib/python3.12/dist-packages (from torch~=2.8.0->-r https://raw.githubusercontent.com/jeremiedecock/polytechnique-csc-53439-ep-2025-students/main/requirements_lab4_google_colab.txt (line 13)) (9.10.2.21)\n",
            "Requirement already satisfied: nvidia-cublas-cu12==12.6.4.1 in /usr/local/lib/python3.12/dist-packages (from torch~=2.8.0->-r https://raw.githubusercontent.com/jeremiedecock/polytechnique-csc-53439-ep-2025-students/main/requirements_lab4_google_colab.txt (line 13)) (12.6.4.1)\n",
            "Requirement already satisfied: nvidia-cufft-cu12==11.3.0.4 in /usr/local/lib/python3.12/dist-packages (from torch~=2.8.0->-r https://raw.githubusercontent.com/jeremiedecock/polytechnique-csc-53439-ep-2025-students/main/requirements_lab4_google_colab.txt (line 13)) (11.3.0.4)\n",
            "Requirement already satisfied: nvidia-curand-cu12==10.3.7.77 in /usr/local/lib/python3.12/dist-packages (from torch~=2.8.0->-r https://raw.githubusercontent.com/jeremiedecock/polytechnique-csc-53439-ep-2025-students/main/requirements_lab4_google_colab.txt (line 13)) (10.3.7.77)\n",
            "Requirement already satisfied: nvidia-cusolver-cu12==11.7.1.2 in /usr/local/lib/python3.12/dist-packages (from torch~=2.8.0->-r https://raw.githubusercontent.com/jeremiedecock/polytechnique-csc-53439-ep-2025-students/main/requirements_lab4_google_colab.txt (line 13)) (11.7.1.2)\n",
            "Requirement already satisfied: nvidia-cusparse-cu12==12.5.4.2 in /usr/local/lib/python3.12/dist-packages (from torch~=2.8.0->-r https://raw.githubusercontent.com/jeremiedecock/polytechnique-csc-53439-ep-2025-students/main/requirements_lab4_google_colab.txt (line 13)) (12.5.4.2)\n",
            "Requirement already satisfied: nvidia-cusparselt-cu12==0.7.1 in /usr/local/lib/python3.12/dist-packages (from torch~=2.8.0->-r https://raw.githubusercontent.com/jeremiedecock/polytechnique-csc-53439-ep-2025-students/main/requirements_lab4_google_colab.txt (line 13)) (0.7.1)\n",
            "Requirement already satisfied: nvidia-nccl-cu12==2.27.3 in /usr/local/lib/python3.12/dist-packages (from torch~=2.8.0->-r https://raw.githubusercontent.com/jeremiedecock/polytechnique-csc-53439-ep-2025-students/main/requirements_lab4_google_colab.txt (line 13)) (2.27.3)\n",
            "Requirement already satisfied: nvidia-nvtx-cu12==12.6.77 in /usr/local/lib/python3.12/dist-packages (from torch~=2.8.0->-r https://raw.githubusercontent.com/jeremiedecock/polytechnique-csc-53439-ep-2025-students/main/requirements_lab4_google_colab.txt (line 13)) (12.6.77)\n",
            "Requirement already satisfied: nvidia-nvjitlink-cu12==12.6.85 in /usr/local/lib/python3.12/dist-packages (from torch~=2.8.0->-r https://raw.githubusercontent.com/jeremiedecock/polytechnique-csc-53439-ep-2025-students/main/requirements_lab4_google_colab.txt (line 13)) (12.6.85)\n",
            "Requirement already satisfied: nvidia-cufile-cu12==1.11.1.6 in /usr/local/lib/python3.12/dist-packages (from torch~=2.8.0->-r https://raw.githubusercontent.com/jeremiedecock/polytechnique-csc-53439-ep-2025-students/main/requirements_lab4_google_colab.txt (line 13)) (1.11.1.6)\n",
            "Requirement already satisfied: triton==3.4.0 in /usr/local/lib/python3.12/dist-packages (from torch~=2.8.0->-r https://raw.githubusercontent.com/jeremiedecock/polytechnique-csc-53439-ep-2025-students/main/requirements_lab4_google_colab.txt (line 13)) (3.4.0)\n",
            "Requirement already satisfied: numpy>=1.21.0 in /usr/local/lib/python3.12/dist-packages (from gymnasium~=1.2.1->gymnasium[box2d,classic-control]~=1.2.1->-r https://raw.githubusercontent.com/jeremiedecock/polytechnique-csc-53439-ep-2025-students/main/requirements_lab4_google_colab.txt (line 23)) (2.0.2)\n",
            "Requirement already satisfied: cloudpickle>=1.2.0 in /usr/local/lib/python3.12/dist-packages (from gymnasium~=1.2.1->gymnasium[box2d,classic-control]~=1.2.1->-r https://raw.githubusercontent.com/jeremiedecock/polytechnique-csc-53439-ep-2025-students/main/requirements_lab4_google_colab.txt (line 23)) (3.1.1)\n",
            "Requirement already satisfied: farama-notifications>=0.0.1 in /usr/local/lib/python3.12/dist-packages (from gymnasium~=1.2.1->gymnasium[box2d,classic-control]~=1.2.1->-r https://raw.githubusercontent.com/jeremiedecock/polytechnique-csc-53439-ep-2025-students/main/requirements_lab4_google_colab.txt (line 23)) (0.0.4)\n",
            "Requirement already satisfied: pillow>=8.3.2 in /usr/local/lib/python3.12/dist-packages (from imageio~=2.37.0->-r https://raw.githubusercontent.com/jeremiedecock/polytechnique-csc-53439-ep-2025-students/main/requirements_lab4_google_colab.txt (line 45)) (11.3.0)\n",
            "Collecting comm>=0.1.3 (from ipywidgets~=8.1.7->-r https://raw.githubusercontent.com/jeremiedecock/polytechnique-csc-53439-ep-2025-students/main/requirements_lab4_google_colab.txt (line 47))\n",
            "Downloading comm-0.2.3-py3-none-any.whl.metadata (3.7 kB)\n",
            "Requirement already satisfied: ipython>=6.1.0 in /usr/local/lib/python3.12/dist-packages (from ipywidgets~=8.1.7->-r https://raw.githubusercontent.com/jeremiedecock/polytechnique-csc-53439-ep-2025-students/main/requirements_lab4_google_colab.txt (line 47)) (7.34.0)\n",
            "Requirement already satisfied: traitlets>=4.3.1 in /usr/local/lib/python3.12/dist-packages (from ipywidgets~=8.1.7->-r https://raw.githubusercontent.com/jeremiedecock/polytechnique-csc-53439-ep-2025-students/main/requirements_lab4_google_colab.txt (line 47)) (5.7.1)\n",
            "Collecting widgetsnbextension~=4.0.14 (from ipywidgets~=8.1.7->-r https://raw.githubusercontent.com/jeremiedecock/polytechnique-csc-53439-ep-2025-students/main/requirements_lab4_google_colab.txt (line 47))\n",
            "Downloading widgetsnbextension-4.0.14-py3-none-any.whl.metadata (1.6 kB)\n",
            "Requirement already satisfied: jupyterlab_widgets~=3.0.15 in /usr/local/lib/python3.12/dist-packages (from ipywidgets~=8.1.7->-r https://raw.githubusercontent.com/jeremiedecock/polytechnique-csc-53439-ep-2025-students/main/requirements_lab4_google_colab.txt (line 47)) (3.0.15)\n",
            "Requirement already satisfied: contourpy>=1.0.1 in /usr/local/lib/python3.12/dist-packages (from matplotlib~=3.10.6->-r https://raw.githubusercontent.com/jeremiedecock/polytechnique-csc-53439-ep-2025-students/main/requirements_lab4_google_colab.txt (line 49)) (1.3.3)\n",
            "Requirement already satisfied: cycler>=0.10 in /usr/local/lib/python3.12/dist-packages (from matplotlib~=3.10.6->-r https://raw.githubusercontent.com/jeremiedecock/polytechnique-csc-53439-ep-2025-students/main/requirements_lab4_google_colab.txt (line 49)) (0.12.1)\n",
            "Requirement already satisfied: fonttools>=4.22.0 in /usr/local/lib/python3.12/dist-packages (from matplotlib~=3.10.6->-r https://raw.githubusercontent.com/jeremiedecock/polytechnique-csc-53439-ep-2025-students/main/requirements_lab4_google_colab.txt (line 49)) (4.60.1)\n",
            "Requirement already satisfied: kiwisolver>=1.3.1 in /usr/local/lib/python3.12/dist-packages (from matplotlib~=3.10.6->-r https://raw.githubusercontent.com/jeremiedecock/polytechnique-csc-53439-ep-2025-students/main/requirements_lab4_google_colab.txt (line 49)) (1.4.9)\n",
            "Requirement already satisfied: packaging>=20.0 in /usr/local/lib/python3.12/dist-packages (from matplotlib~=3.10.6->-r https://raw.githubusercontent.com/jeremiedecock/polytechnique-csc-53439-ep-2025-students/main/requirements_lab4_google_colab.txt (line 49)) (25.0)\n",
            "Requirement already satisfied: pyparsing>=3 in /usr/local/lib/python3.12/dist-packages (from matplotlib~=3.10.6->-r https://raw.githubusercontent.com/jeremiedecock/polytechnique-csc-53439-ep-2025-students/main/requirements_lab4_google_colab.txt (line 49)) (3.2.5)\n",
            "Requirement already satisfied: python-dateutil>=2.7 in /usr/local/lib/python3.12/dist-packages (from matplotlib~=3.10.6->-r https://raw.githubusercontent.com/jeremiedecock/polytechnique-csc-53439-ep-2025-students/main/requirements_lab4_google_colab.txt (line 49)) (2.9.0.post0)\n",
            "Requirement already satisfied: pytz>=2020.1 in /usr/local/lib/python3.12/dist-packages (from pandas~=2.3.2->-r https://raw.githubusercontent.com/jeremiedecock/polytechnique-csc-53439-ep-2025-students/main/requirements_lab4_google_colab.txt (line 51)) (2025.2)\n",
            "Requirement already satisfied: tzdata>=2022.7 in /usr/local/lib/python3.12/dist-packages (from pandas~=2.3.2->-r https://raw.githubusercontent.com/jeremiedecock/polytechnique-csc-53439-ep-2025-students/main/requirements_lab4_google_colab.txt (line 51)) (2025.2)\n",
            "Requirement already satisfied: decorator<5.0,>=4.0.2 in /usr/local/lib/python3.12/dist-packages (from moviepy->-r https://raw.githubusercontent.com/jeremiedecock/polytechnique-csc-53439-ep-2025-students/main/requirements_lab4_google_colab.txt (line 63)) (4.4.2)\n",
            "Requirement already satisfied: requests<3.0,>=2.8.1 in /usr/local/lib/python3.12/dist-packages (from moviepy->-r https://raw.githubusercontent.com/jeremiedecock/polytechnique-csc-53439-ep-2025-students/main/requirements_lab4_google_colab.txt (line 63)) (2.32.4)\n",
            "Requirement already satisfied: proglog<=1.0.0 in /usr/local/lib/python3.12/dist-packages (from moviepy->-r https://raw.githubusercontent.com/jeremiedecock/polytechnique-csc-53439-ep-2025-students/main/requirements_lab4_google_colab.txt (line 63)) (0.1.12)\n",
            "Requirement already satisfied: imageio-ffmpeg>=0.2.0 in /usr/local/lib/python3.12/dist-packages (from moviepy->-r https://raw.githubusercontent.com/jeremiedecock/polytechnique-csc-53439-ep-2025-students/main/requirements_lab4_google_colab.txt (line 63)) (0.6.0)\n",
            "Requirement already satisfied: markdown-it-py>=1.0 in /usr/local/lib/python3.12/dist-packages (from jupytext~=1.17.3->-r https://raw.githubusercontent.com/jeremiedecock/polytechnique-csc-53439-ep-2025-students/main/requirements_lab4_google_colab.txt (line 72)) (4.0.0)\n",
            "Requirement already satisfied: mdit-py-plugins in /usr/local/lib/python3.12/dist-packages (from jupytext~=1.17.3->-r https://raw.githubusercontent.com/jeremiedecock/polytechnique-csc-53439-ep-2025-students/main/requirements_lab4_google_colab.txt (line 72)) (0.5.0)\n",
            "Requirement already satisfied: nbformat in /usr/local/lib/python3.12/dist-packages (from jupytext~=1.17.3->-r https://raw.githubusercontent.com/jeremiedecock/polytechnique-csc-53439-ep-2025-students/main/requirements_lab4_google_colab.txt (line 72)) (5.10.4)\n",
            "Requirement already satisfied: pyyaml in /usr/local/lib/python3.12/dist-packages (from jupytext~=1.17.3->-r https://raw.githubusercontent.com/jeremiedecock/polytechnique-csc-53439-ep-2025-students/main/requirements_lab4_google_colab.txt (line 72)) (6.0.3)\n",
            "Collecting mypy_extensions>=1.0.0 (from mypy~=1.18.2->-r https://raw.githubusercontent.com/jeremiedecock/polytechnique-csc-53439-ep-2025-students/main/requirements_lab4_google_colab.txt (line 73))\n",
            "Downloading mypy_extensions-1.1.0-py3-none-any.whl.metadata (1.1 kB)\n",
            "Collecting pathspec>=0.9.0 (from mypy~=1.18.2->-r https://raw.githubusercontent.com/jeremiedecock/polytechnique-csc-53439-ep-2025-students/main/requirements_lab4_google_colab.txt (line 73))\n",
            "Downloading pathspec-0.12.1-py3-none-any.whl.metadata (21 kB)\n",
            "Collecting box2d-py==2.3.5 (from gymnasium[box2d,classic-control]~=1.2.1->-r https://raw.githubusercontent.com/jeremiedecock/polytechnique-csc-53439-ep-2025-students/main/requirements_lab4_google_colab.txt (line 23))\n",
            "Downloading box2d-py-2.3.5.tar.gz (374 kB)\n",
            "━━━━━━━━━━━━━━━━━━━━━━━━━━━━━━━━━━━━━━ 374.4/374.4 kB 12.6 MB/s eta 0:00:00\n",
            "Preparing metadata (setup.py): started\n",
            "Preparing metadata (setup.py): finished with status 'done'\n",
            "Requirement already satisfied: pygame>=2.1.3 in /usr/local/lib/python3.12/dist-packages (from gymnasium[box2d,classic-control]~=1.2.1->-r https://raw.githubusercontent.com/jeremiedecock/polytechnique-csc-53439-ep-2025-students/main/requirements_lab4_google_colab.txt (line 23)) (2.6.1)\n",
            "Collecting swig==4.* (from gymnasium[box2d,classic-control]~=1.2.1->-r https://raw.githubusercontent.com/jeremiedecock/polytechnique-csc-53439-ep-2025-students/main/requirements_lab4_google_colab.txt (line 23))\n",
            "Downloading swig-4.3.1.post0-py3-none-manylinux_2_12_x86_64.manylinux2010_x86_64.whl.metadata (3.5 kB)\n",
            "Collecting jedi>=0.16 (from ipython>=6.1.0->ipywidgets~=8.1.7->-r https://raw.githubusercontent.com/jeremiedecock/polytechnique-csc-53439-ep-2025-students/main/requirements_lab4_google_colab.txt (line 47))\n",
            "Downloading jedi-0.19.2-py2.py3-none-any.whl.metadata (22 kB)\n",
            "Requirement already satisfied: pickleshare in /usr/local/lib/python3.12/dist-packages (from ipython>=6.1.0->ipywidgets~=8.1.7->-r https://raw.githubusercontent.com/jeremiedecock/polytechnique-csc-53439-ep-2025-students/main/requirements_lab4_google_colab.txt (line 47)) (0.7.5)\n",
            "Requirement already satisfied: prompt-toolkit!=3.0.0,!=3.0.1,<3.1.0,>=2.0.0 in /usr/local/lib/python3.12/dist-packages (from ipython>=6.1.0->ipywidgets~=8.1.7->-r https://raw.githubusercontent.com/jeremiedecock/polytechnique-csc-53439-ep-2025-students/main/requirements_lab4_google_colab.txt (line 47)) (3.0.52)\n",
            "Requirement already satisfied: pygments in /usr/local/lib/python3.12/dist-packages (from ipython>=6.1.0->ipywidgets~=8.1.7->-r https://raw.githubusercontent.com/jeremiedecock/polytechnique-csc-53439-ep-2025-students/main/requirements_lab4_google_colab.txt (line 47)) (2.19.2)\n",
            "Requirement already satisfied: backcall in /usr/local/lib/python3.12/dist-packages (from ipython>=6.1.0->ipywidgets~=8.1.7->-r https://raw.githubusercontent.com/jeremiedecock/polytechnique-csc-53439-ep-2025-students/main/requirements_lab4_google_colab.txt (line 47)) (0.2.0)\n",
            "Requirement already satisfied: matplotlib-inline in /usr/local/lib/python3.12/dist-packages (from ipython>=6.1.0->ipywidgets~=8.1.7->-r https://raw.githubusercontent.com/jeremiedecock/polytechnique-csc-53439-ep-2025-students/main/requirements_lab4_google_colab.txt (line 47)) (0.1.7)\n",
            "Requirement already satisfied: pexpect>4.3 in /usr/local/lib/python3.12/dist-packages (from ipython>=6.1.0->ipywidgets~=8.1.7->-r https://raw.githubusercontent.com/jeremiedecock/polytechnique-csc-53439-ep-2025-students/main/requirements_lab4_google_colab.txt (line 47)) (4.9.0)\n",
            "Requirement already satisfied: mdurl~=0.1 in /usr/local/lib/python3.12/dist-packages (from markdown-it-py>=1.0->jupytext~=1.17.3->-r https://raw.githubusercontent.com/jeremiedecock/polytechnique-csc-53439-ep-2025-students/main/requirements_lab4_google_colab.txt (line 72)) (0.1.2)\n",
            "Requirement already satisfied: six>=1.5 in /usr/local/lib/python3.12/dist-packages (from python-dateutil>=2.7->matplotlib~=3.10.6->-r https://raw.githubusercontent.com/jeremiedecock/polytechnique-csc-53439-ep-2025-students/main/requirements_lab4_google_colab.txt (line 49)) (1.17.0)\n",
            "Requirement already satisfied: charset_normalizer<4,>=2 in /usr/local/lib/python3.12/dist-packages (from requests<3.0,>=2.8.1->moviepy->-r https://raw.githubusercontent.com/jeremiedecock/polytechnique-csc-53439-ep-2025-students/main/requirements_lab4_google_colab.txt (line 63)) (3.4.4)\n",
            "Requirement already satisfied: idna<4,>=2.5 in /usr/local/lib/python3.12/dist-packages (from requests<3.0,>=2.8.1->moviepy->-r https://raw.githubusercontent.com/jeremiedecock/polytechnique-csc-53439-ep-2025-students/main/requirements_lab4_google_colab.txt (line 63)) (3.11)\n",
            "Requirement already satisfied: urllib3<3,>=1.21.1 in /usr/local/lib/python3.12/dist-packages (from requests<3.0,>=2.8.1->moviepy->-r https://raw.githubusercontent.com/jeremiedecock/polytechnique-csc-53439-ep-2025-students/main/requirements_lab4_google_colab.txt (line 63)) (2.5.0)\n",
            "Requirement already satisfied: certifi>=2017.4.17 in /usr/local/lib/python3.12/dist-packages (from requests<3.0,>=2.8.1->moviepy->-r https://raw.githubusercontent.com/jeremiedecock/polytechnique-csc-53439-ep-2025-students/main/requirements_lab4_google_colab.txt (line 63)) (2025.10.5)\n",
            "Requirement already satisfied: mpmath<1.4,>=1.1.0 in /usr/local/lib/python3.12/dist-packages (from sympy>=1.13.3->torch~=2.8.0->-r https://raw.githubusercontent.com/jeremiedecock/polytechnique-csc-53439-ep-2025-students/main/requirements_lab4_google_colab.txt (line 13)) (1.3.0)\n",
            "Requirement already satisfied: MarkupSafe>=2.0 in /usr/local/lib/python3.12/dist-packages (from jinja2->torch~=2.8.0->-r https://raw.githubusercontent.com/jeremiedecock/polytechnique-csc-53439-ep-2025-students/main/requirements_lab4_google_colab.txt (line 13)) (3.0.3)\n",
            "Requirement already satisfied: fastjsonschema>=2.15 in /usr/local/lib/python3.12/dist-packages (from nbformat->jupytext~=1.17.3->-r https://raw.githubusercontent.com/jeremiedecock/polytechnique-csc-53439-ep-2025-students/main/requirements_lab4_google_colab.txt (line 72)) (2.21.2)\n",
            "Requirement already satisfied: jsonschema>=2.6 in /usr/local/lib/python3.12/dist-packages (from nbformat->jupytext~=1.17.3->-r https://raw.githubusercontent.com/jeremiedecock/polytechnique-csc-53439-ep-2025-students/main/requirements_lab4_google_colab.txt (line 72)) (4.25.1)\n",
            "Requirement already satisfied: jupyter-core!=5.0.*,>=4.12 in /usr/local/lib/python3.12/dist-packages (from nbformat->jupytext~=1.17.3->-r https://raw.githubusercontent.com/jeremiedecock/polytechnique-csc-53439-ep-2025-students/main/requirements_lab4_google_colab.txt (line 72)) (5.8.1)\n",
            "Requirement already satisfied: parso<0.9.0,>=0.8.4 in /usr/local/lib/python3.12/dist-packages (from jedi>=0.16->ipython>=6.1.0->ipywidgets~=8.1.7->-r https://raw.githubusercontent.com/jeremiedecock/polytechnique-csc-53439-ep-2025-students/main/requirements_lab4_google_colab.txt (line 47)) (0.8.5)\n",
            "Requirement already satisfied: attrs>=22.2.0 in /usr/local/lib/python3.12/dist-packages (from jsonschema>=2.6->nbformat->jupytext~=1.17.3->-r https://raw.githubusercontent.com/jeremiedecock/polytechnique-csc-53439-ep-2025-students/main/requirements_lab4_google_colab.txt (line 72)) (25.4.0)\n",
            "Requirement already satisfied: jsonschema-specifications>=2023.03.6 in /usr/local/lib/python3.12/dist-packages (from jsonschema>=2.6->nbformat->jupytext~=1.17.3->-r https://raw.githubusercontent.com/jeremiedecock/polytechnique-csc-53439-ep-2025-students/main/requirements_lab4_google_colab.txt (line 72)) (2025.9.1)\n",
            "Requirement already satisfied: referencing>=0.28.4 in /usr/local/lib/python3.12/dist-packages (from jsonschema>=2.6->nbformat->jupytext~=1.17.3->-r https://raw.githubusercontent.com/jeremiedecock/polytechnique-csc-53439-ep-2025-students/main/requirements_lab4_google_colab.txt (line 72)) (0.37.0)\n",
            "Requirement already satisfied: rpds-py>=0.7.1 in /usr/local/lib/python3.12/dist-packages (from jsonschema>=2.6->nbformat->jupytext~=1.17.3->-r https://raw.githubusercontent.com/jeremiedecock/polytechnique-csc-53439-ep-2025-students/main/requirements_lab4_google_colab.txt (line 72)) (0.27.1)\n",
            "Requirement already satisfied: platformdirs>=2.5 in /usr/local/lib/python3.12/dist-packages (from jupyter-core!=5.0.*,>=4.12->nbformat->jupytext~=1.17.3->-r https://raw.githubusercontent.com/jeremiedecock/polytechnique-csc-53439-ep-2025-students/main/requirements_lab4_google_colab.txt (line 72)) (4.5.0)\n",
            "Requirement already satisfied: ptyprocess>=0.5 in /usr/local/lib/python3.12/dist-packages (from pexpect>4.3->ipython>=6.1.0->ipywidgets~=8.1.7->-r https://raw.githubusercontent.com/jeremiedecock/polytechnique-csc-53439-ep-2025-students/main/requirements_lab4_google_colab.txt (line 47)) (0.7.0)\n",
            "Requirement already satisfied: wcwidth in /usr/local/lib/python3.12/dist-packages (from prompt-toolkit!=3.0.0,!=3.0.1,<3.1.0,>=2.0.0->ipython>=6.1.0->ipywidgets~=8.1.7->-r https://raw.githubusercontent.com/jeremiedecock/polytechnique-csc-53439-ep-2025-students/main/requirements_lab4_google_colab.txt (line 47)) (0.2.14)\n",
            "Downloading ipywidgets-8.1.7-py3-none-any.whl (139 kB)\n",
            "━━━━━━━━━━━━━━━━━━━━━━━━━━━━━━━━━━━━━━━━ 139.8/139.8 kB 10.9 MB/s eta 0:00:00\n",
            "Downloading matplotlib-3.10.7-cp312-cp312-manylinux2014_x86_64.manylinux_2_17_x86_64.whl (8.7 MB)\n",
            "━━━━━━━━━━━━━━━━━━━━━━━━━━━━━━━━━━━━━━━━ 8.7/8.7 MB 114.3 MB/s eta 0:00:00\n",
            "Downloading pandas-2.3.3-cp312-cp312-manylinux_2_24_x86_64.manylinux_2_28_x86_64.whl (12.4 MB)\n",
            "━━━━━━━━━━━━━━━━━━━━━━━━━━━━━━━━━━━━━━━━ 12.4/12.4 MB 129.4 MB/s eta 0:00:00\n",
            "Downloading PyVirtualDisplay-3.0-py3-none-any.whl (15 kB)\n",
            "Downloading mypy-1.18.2-cp312-cp312-manylinux2014_x86_64.manylinux_2_17_x86_64.manylinux_2_28_x86_64.whl (13.3 MB)\n",
            "━━━━━━━━━━━━━━━━━━━━━━━━━━━━━━━━━━━━━━━━ 13.3/13.3 MB 147.4 MB/s eta 0:00:00\n",
            "Downloading ruff-0.13.3-py3-none-manylinux_2_17_x86_64.manylinux2014_x86_64.whl (13.4 MB)\n",
            "━━━━━━━━━━━━━━━━━━━━━━━━━━━━━━━━━━━━━━━━ 13.4/13.4 MB 131.2 MB/s eta 0:00:00\n",
            "Downloading swig-4.3.1.post0-py3-none-manylinux_2_12_x86_64.manylinux2010_x86_64.whl (1.9 MB)\n",
            "━━━━━━━━━━━━━━━━━━━━━━━━━━━━━━━━━━━━━━━━ 1.9/1.9 MB 95.0 MB/s eta 0:00:00\n",
            "Downloading comm-0.2.3-py3-none-any.whl (7.3 kB)\n",
            "Downloading mypy_extensions-1.1.0-py3-none-any.whl (5.0 kB)\n",
            "Downloading pathspec-0.12.1-py3-none-any.whl (31 kB)\n",
            "Downloading widgetsnbextension-4.0.14-py3-none-any.whl (2.2 MB)\n",
            "━━━━━━━━━━━━━━━━━━━━━━━━━━━━━━━━━━━━━━━━ 2.2/2.2 MB 101.3 MB/s eta 0:00:00\n",
            "Downloading jedi-0.19.2-py2.py3-none-any.whl (1.6 MB)\n",
            "━━━━━━━━━━━━━━━━━━━━━━━━━━━━━━━━━━━━━━━━ 1.6/1.6 MB 81.5 MB/s eta 0:00:00\n",
            "Building wheels for collected packages: box2d-py\n",
            "Building wheel for box2d-py (setup.py): started\n",
            "Building wheel for box2d-py (setup.py): finished with status 'done'\n",
            "Created wheel for box2d-py: filename=box2d_py-2.3.5-cp312-cp312-linux_x86_64.whl size=2381960 sha256=b54c79994453ae64b581d7ef58475713dc1b105f1884e5954c5909ec0e8d76de\n",
            "Stored in directory: /root/.cache/pip/wheels/2a/e9/60/774da0bcd07f7dc7761a8590fa2d065e4069568e78dcdc3318\n",
            "Successfully built box2d-py\n",
            "Installing collected packages: swig, pyvirtualdisplay, box2d-py, widgetsnbextension, ruff, pathspec, mypy_extensions, jedi, comm, pandas, mypy, matplotlib, ipywidgets\n",
            "Attempting uninstall: widgetsnbextension\n",
            "Found existing installation: widgetsnbextension 3.6.10\n",
            "Uninstalling widgetsnbextension-3.6.10:\n",
            "Successfully uninstalled widgetsnbextension-3.6.10\n",
            "Attempting uninstall: ruff\n",
            "Found existing installation: ruff 0.14.0\n",
            "Uninstalling ruff-0.14.0:\n",
            "Successfully uninstalled ruff-0.14.0\n",
            "Attempting uninstall: pandas\n",
            "Found existing installation: pandas 2.2.2\n",
            "Uninstalling pandas-2.2.2:\n",
            "Successfully uninstalled pandas-2.2.2\n",
            "Attempting uninstall: matplotlib\n",
            "Found existing installation: matplotlib 3.10.0\n",
            "Uninstalling matplotlib-3.10.0:\n",
            "Successfully uninstalled matplotlib-3.10.0\n",
            "Attempting uninstall: ipywidgets\n",
            "Found existing installation: ipywidgets 7.7.1\n",
            "Uninstalling ipywidgets-7.7.1:\n",
            "Successfully uninstalled ipywidgets-7.7.1\n",
            "Successfully installed box2d-py-2.3.5 comm-0.2.3 ipywidgets-8.1.7 jedi-0.19.2 matplotlib-3.10.7 mypy-1.18.2 mypy_extensions-1.1.0 pandas-2.3.3 pathspec-0.12.1 pyvirtualdisplay-3.0 ruff-0.13.3 swig-4.3.1.post0 widgetsnbextension-4.0.14\n"
          ]
        }
      ],
      "source": [
        "import sys, subprocess\n",
        "\n",
        "def is_colab():\n",
        "    return \"google.colab\" in sys.modules\n",
        "\n",
        "def run_subprocess_command(cmd):\n",
        "    # run the command\n",
        "    process = subprocess.Popen(cmd.split(), stdout=subprocess.PIPE)\n",
        "    # print the output\n",
        "    for line in process.stdout:\n",
        "        print(line.decode().strip())\n",
        "\n",
        "if is_colab():\n",
        "    run_subprocess_command(\"apt install swig\")\n",
        "    run_subprocess_command(\"pip install -r https://raw.githubusercontent.com/jeremiedecock/polytechnique-csc-53439-ep-2025-students/main/requirements_lab4_google_colab.txt\")"
      ]
    },
    {
      "cell_type": "markdown",
      "metadata": {
        "id": "AKtuK9k-2b2w"
      },
      "source": [
        "### If you have downloaded the notebook on your computer and execute it in your own Python environment"
      ]
    },
    {
      "cell_type": "markdown",
      "metadata": {
        "id": "WVrE_wNZ2b2w"
      },
      "source": [
        "To set up the necessary dependencies, run the following commands to establish a [Python virtual environment (venv)](https://docs.python.org/3/library/venv.html) that includes all the essential libraries for this lab.\n",
        "\n",
        "#### On Posix systems (Linux, MacOSX, WSL, ...)\n",
        "\n",
        "```bash\n",
        "python3 -m venv env-lab4\n",
        "source env-lab4/bin/activate\n",
        "python3 -m pip install --upgrade pip\n",
        "python3 -m pip install -r https://raw.githubusercontent.com/jeremiedecock/polytechnique-csc-53439-ep-2025-students/main/requirements_lab4.txt\n",
        "```\n",
        "\n",
        "#### On Windows\n",
        "\n",
        "```bash\n",
        "python3 -m venv env-lab4\n",
        "env-lab4\\Scripts\\activate.bat\n",
        "python3 -m pip install --upgrade pip\n",
        "python3 -m pip install -r https://raw.githubusercontent.com/jeremiedecock/polytechnique-csc-53439-ep-2025-students/main/requirements_lab4.txt\n",
        "```"
      ]
    },
    {
      "cell_type": "markdown",
      "metadata": {
        "id": "0GrKMnkI2b2w"
      },
      "source": [
        "### Run CSC-53439-EP notebooks locally in a dedicated Docker container\n",
        "\n",
        "If you are familiar with Docker (or Podman), an image is available on Docker Hub for this lab:\n",
        "\n",
        "```bash\n",
        "docker run -it --rm --user root -p 8888:8888 -e NB_UID=$(id -u) -e NB_GID=$(id -g) -v \"${PWD}\":/home/jovyan/work jdhp/csc-53439-ep-lab4:latest\n",
        "```"
      ]
    },
    {
      "cell_type": "markdown",
      "metadata": {
        "id": "ISMV-ZVf2b2w"
      },
      "source": [
        "### Import required packages"
      ]
    },
    {
      "cell_type": "code",
      "execution_count": 2,
      "metadata": {
        "id": "8XQsbm5i2b2w"
      },
      "outputs": [],
      "source": [
        "import gymnasium as gym\n",
        "from IPython.display import Video\n",
        "import json\n",
        "import lzma\n",
        "import numpy as np\n",
        "from numpy.typing import NDArray\n",
        "import pandas as pd\n",
        "from pathlib import Path\n",
        "import torch\n",
        "from typing import List, Tuple, Deque, Optional, Callable"
      ]
    },
    {
      "cell_type": "code",
      "execution_count": 3,
      "metadata": {
        "id": "CwxJjjEk2b2x"
      },
      "outputs": [],
      "source": [
        "%matplotlib inline\n",
        "\n",
        "import matplotlib.pyplot as plt\n",
        "\n",
        "import seaborn as sns\n",
        "from tqdm.notebook import tqdm"
      ]
    },
    {
      "cell_type": "code",
      "execution_count": 4,
      "metadata": {
        "id": "NfTLmxE-2b2x",
        "outputId": "7f58b001-d0ee-44be-98f9-49b9df72e30e",
        "colab": {
          "base_uri": "https://localhost:8080/",
          "height": 36
        }
      },
      "outputs": [
        {
          "output_type": "execute_result",
          "data": {
            "text/plain": [
              "'1.2.1'"
            ],
            "application/vnd.google.colaboratory.intrinsic+json": {
              "type": "string"
            }
          },
          "metadata": {},
          "execution_count": 4
        }
      ],
      "source": [
        "gym.__version__"
      ]
    },
    {
      "cell_type": "code",
      "execution_count": 5,
      "metadata": {
        "id": "1IKOBCzE2b2x"
      },
      "outputs": [],
      "source": [
        "sns.set_context(\"talk\")"
      ]
    },
    {
      "cell_type": "code",
      "execution_count": 6,
      "metadata": {
        "id": "_cHcbUO92b2x"
      },
      "outputs": [],
      "source": [
        "FIGS_DIR = Path(\"figs/\")       # Where to save figures (.gif files)\n",
        "PLOTS_DIR = Path(\"figs/\")      # Where to save plots (.png or .svg files)\n",
        "MODELS_DIR = Path(\"models/\")   # Where to save models (.pth files)"
      ]
    },
    {
      "cell_type": "code",
      "execution_count": 7,
      "metadata": {
        "id": "gIHBhMoN2b2y"
      },
      "outputs": [],
      "source": [
        "if not FIGS_DIR.exists():\n",
        "    FIGS_DIR.mkdir()\n",
        "if not PLOTS_DIR.exists():\n",
        "    PLOTS_DIR.mkdir()\n",
        "if not MODELS_DIR.exists():\n",
        "    MODELS_DIR.mkdir()"
      ]
    },
    {
      "cell_type": "markdown",
      "metadata": {
        "id": "pG9YIlsC2b2y"
      },
      "source": [
        "## PyTorch setup"
      ]
    },
    {
      "cell_type": "markdown",
      "metadata": {
        "id": "ViYpSQvw2b2y"
      },
      "source": [
        "PyTorch can run on both CPUs and GPUs. The following cell will determine the device PyTorch will use. If a GPU is available, PyTorch will use it; otherwise, it will use the CPU."
      ]
    },
    {
      "cell_type": "code",
      "execution_count": 8,
      "metadata": {
        "id": "18XMKiqS2b2y"
      },
      "outputs": [],
      "source": [
        "device = torch.device(\"cuda\" if torch.cuda.is_available() else \"cpu\")  # Set the device to CUDA if available, otherwise use CPU"
      ]
    },
    {
      "cell_type": "markdown",
      "metadata": {
        "id": "M2Ii7pbg2b2y"
      },
      "source": [
        "\n",
        "For utilizing a GPU on Google Colab, you also have to activate it following the steps outlined [here](https://colab.research.google.com/notebooks/gpu.ipynb)."
      ]
    },
    {
      "cell_type": "code",
      "execution_count": 9,
      "metadata": {
        "id": "NUvaddAD2b2y",
        "outputId": "856f13fc-d3f6-4b38-bd73-34fd79f825a0",
        "colab": {
          "base_uri": "https://localhost:8080/"
        }
      },
      "outputs": [
        {
          "output_type": "stream",
          "name": "stdout",
          "text": [
            "Available GPUs:\n",
            "- No GPU available.\n"
          ]
        }
      ],
      "source": [
        "print(\"Available GPUs:\")\n",
        "if torch.cuda.is_available():\n",
        "    for i in range(torch.cuda.device_count()):\n",
        "        print(f\"- Device {i}: {torch.cuda.get_device_name(i)}\")\n",
        "else:\n",
        "    print(\"- No GPU available.\")"
      ]
    },
    {
      "cell_type": "markdown",
      "metadata": {
        "id": "V2IOm1FK2b2z"
      },
      "source": [
        "If you have a very recent GPU and want to use it, you might need to install a specific version of PyTorch compatible with your Cuda version.\n",
        "For this, you will have to edit the [requirements_lab4.txt](https://raw.githubusercontent.com/jeremiedecock/polytechnique-csc-53439-ep-2025-students/main/requirements_lab4.txt) file and replace the current version of PyTorch with the one compatible with your Cuda version.\n",
        "Check the [official PyTorch website](https://pytorch.org/get-started/locally/) for more information."
      ]
    },
    {
      "cell_type": "markdown",
      "metadata": {
        "id": "ffo4eSsd2b2z"
      },
      "source": [
        "Note that the GPU is not very useful for CartPole (but useful for MuJoCo) because CartPole is a simple and quick problem to solve, and CUDA spends more time transferring data between the CPU and GPU than processing it directly on the CPU.\n",
        "\n",
        "You can uncomment the next cell to explicitly instruct PyTorch to train neural networks using the CPU."
      ]
    },
    {
      "cell_type": "code",
      "execution_count": 10,
      "metadata": {
        "id": "7ErdwXTo2b2z"
      },
      "outputs": [],
      "source": [
        "# device = \"cpu\""
      ]
    },
    {
      "cell_type": "code",
      "execution_count": 11,
      "metadata": {
        "id": "jpJjDt4u2b2z",
        "outputId": "36149a1e-aec6-47c1-9d30-5771c6ca0d8d",
        "colab": {
          "base_uri": "https://localhost:8080/"
        }
      },
      "outputs": [
        {
          "output_type": "stream",
          "name": "stdout",
          "text": [
            "PyTorch will train and test neural networks on cpu\n"
          ]
        }
      ],
      "source": [
        "print(f\"PyTorch will train and test neural networks on {device}\")"
      ]
    },
    {
      "cell_type": "markdown",
      "metadata": {
        "id": "_qwS4lqo2b2z"
      },
      "source": [
        "## Part 1: Behavioral Cloning"
      ]
    },
    {
      "cell_type": "markdown",
      "metadata": {
        "id": "QEobEQ4P2b2z"
      },
      "source": [
        "### Exercise 1: Hands on MountainCar environment"
      ]
    },
    {
      "cell_type": "markdown",
      "metadata": {
        "id": "VBinsM-q2b20"
      },
      "source": [
        "The MountainCar is a classic reinforcement learning environment. In this simple 2D scenario, an underpowered car must navigate a hill, but it lacks the power to ascend directly. Instead, the car must learn to use the hill's slopes to build momentum and ultimately reach the flag at the top. While the environment is straightforward, it becomes interesting due to its sparse reward signal, making it an excellent candidate for learning from demonstrations."
      ]
    },
    {
      "cell_type": "markdown",
      "metadata": {
        "id": "VKXjcMZn2b20"
      },
      "source": [
        "**Task 1:** refer to the following link [MountainCar Environment](https://gymnasium.farama.org/environments/classic_control/mountain_car/) to familiarize yourself with the MountainCar environment if you are not already."
      ]
    },
    {
      "cell_type": "markdown",
      "metadata": {
        "id": "iKwNK53Z2b20"
      },
      "source": [
        "Print some information about the environment:"
      ]
    },
    {
      "cell_type": "code",
      "execution_count": 12,
      "metadata": {
        "scrolled": true,
        "id": "ZTZwcIT-2b20",
        "outputId": "01ba53a9-64e4-4cf1-92d0-7abb158c4f18",
        "colab": {
          "base_uri": "https://localhost:8080/"
        }
      },
      "outputs": [
        {
          "output_type": "stream",
          "name": "stdout",
          "text": [
            "State space size is: Box([-1.2  -0.07], [0.6  0.07], (2,), float32)\n",
            "Action space size is: Discrete(3)\n",
            "Actions are: {0, 1, 2}\n"
          ]
        }
      ],
      "source": [
        "env = gym.make('MountainCar-v0', render_mode=\"rgb_array\")\n",
        "\n",
        "mountain_car_state_dim = env.observation_space.shape[0]\n",
        "mountain_car_action_dim = env.action_space.n.item()\n",
        "\n",
        "print(f\"State space size is: { env.observation_space }\")\n",
        "print(f\"Action space size is: { env.action_space }\")\n",
        "print(\"Actions are: {\" + \", \".join([str(a) for a in range(env.action_space.n)]) + \"}\")\n",
        "\n",
        "env.close()"
      ]
    },
    {
      "cell_type": "markdown",
      "metadata": {
        "id": "zRvuoHzs2b20"
      },
      "source": [
        "**Task 2:** Run the following cells and check different basic\n",
        "policies (for instance constant actions or randomly drawn actions) to discover the MountainCar environment."
      ]
    },
    {
      "cell_type": "markdown",
      "metadata": {
        "tags": [],
        "id": "7KRtfvv02b20"
      },
      "source": [
        "#### Test the MountainCar environment with a constant policy"
      ]
    },
    {
      "cell_type": "code",
      "execution_count": null,
      "metadata": {
        "id": "2ZWOaWrM2b20"
      },
      "outputs": [],
      "source": [
        "import warnings\n",
        "warnings.filterwarnings(\"ignore\", category=UserWarning)"
      ]
    },
    {
      "cell_type": "code",
      "execution_count": null,
      "metadata": {
        "id": "FDC1Yb7g2b21"
      },
      "outputs": [],
      "source": [
        "VIDEO_DIRNAME = \"lab4_mountain-car_action0\"\n",
        "\n",
        "env = gym.make('MountainCar-v0', render_mode='rgb_array')\n",
        "env = gym.wrappers.RecordVideo(env, FIGS_DIR / VIDEO_DIRNAME)\n",
        "\n",
        "observation, info = env.reset()\n",
        "done = False\n",
        "\n",
        "for t in range(200):\n",
        "    action = 0\n",
        "    observation, reward, done, truncated, info = env.step(action)\n",
        "\n",
        "env.close()\n",
        "\n",
        "Video(FIGS_DIR / VIDEO_DIRNAME / \"rl-video-episode-0.mp4\", embed=True, html_attributes=\"controls autoplay loop\")"
      ]
    },
    {
      "cell_type": "code",
      "execution_count": null,
      "metadata": {
        "id": "X4gI5WIt2b3C"
      },
      "outputs": [],
      "source": [
        "VIDEO_DIRNAME = \"lab4_mountain-car_action1\"\n",
        "\n",
        "env = gym.make('MountainCar-v0', render_mode='rgb_array')\n",
        "env = gym.wrappers.RecordVideo(env, FIGS_DIR / VIDEO_DIRNAME)\n",
        "\n",
        "observation, info = env.reset()\n",
        "done = False\n",
        "\n",
        "for t in range(200):\n",
        "    action = 1\n",
        "    observation, reward, done, truncated, info = env.step(action)\n",
        "\n",
        "env.close()\n",
        "\n",
        "Video(FIGS_DIR / VIDEO_DIRNAME / \"rl-video-episode-0.mp4\", embed=True, html_attributes=\"controls autoplay loop\")"
      ]
    },
    {
      "cell_type": "code",
      "execution_count": null,
      "metadata": {
        "id": "tuTR4S8r2b3C"
      },
      "outputs": [],
      "source": [
        "VIDEO_DIRNAME = \"lab4_mountain-car_action2\"\n",
        "\n",
        "env = gym.make('MountainCar-v0', render_mode='rgb_array')\n",
        "env = gym.wrappers.RecordVideo(env, FIGS_DIR / VIDEO_DIRNAME)\n",
        "\n",
        "observation, info = env.reset()\n",
        "done = False\n",
        "\n",
        "for t in range(200):\n",
        "    action = 2\n",
        "    observation, reward, done, truncated, info = env.step(action)\n",
        "\n",
        "env.close()\n",
        "\n",
        "Video(FIGS_DIR / VIDEO_DIRNAME / \"rl-video-episode-0.mp4\", embed=True, html_attributes=\"controls autoplay loop\")"
      ]
    },
    {
      "cell_type": "markdown",
      "metadata": {
        "id": "OCuCNtkv2b3F"
      },
      "source": [
        "#### Test the MountainCar environment with a random policy"
      ]
    },
    {
      "cell_type": "code",
      "execution_count": null,
      "metadata": {
        "id": "Eyld45ZO2b3F"
      },
      "outputs": [],
      "source": [
        "VIDEO_DIRNAME = \"lab4_mountain-car_random_action\"\n",
        "\n",
        "env = gym.make('MountainCar-v0', render_mode='rgb_array')\n",
        "env = gym.wrappers.RecordVideo(env, FIGS_DIR / VIDEO_DIRNAME)\n",
        "\n",
        "observation, info = env.reset()\n",
        "done = False\n",
        "\n",
        "for t in range(200):\n",
        "    action = env.action_space.sample()\n",
        "    observation, reward, done, truncated, info = env.step(action)\n",
        "\n",
        "env.close()\n",
        "\n",
        "Video(FIGS_DIR / VIDEO_DIRNAME / \"rl-video-episode-0.mp4\", embed=True, html_attributes=\"controls autoplay loop\")"
      ]
    },
    {
      "cell_type": "markdown",
      "metadata": {
        "id": "WAutOWoL2b3F"
      },
      "source": [
        "#### Test the MountainCar environment with a good handcrafted policy"
      ]
    },
    {
      "cell_type": "markdown",
      "metadata": {
        "id": "GIFd9ikj2b3F"
      },
      "source": [
        "**Task 3:** The MountainCar environment is simple in design but poses a significant challenge for many algorithms, such as PPO, due to its sparse reward structure. The agent must engage in extensive exploration before receiving its first positive reward, which occurs only when it successfully reaches the flag at the top of the hill. Despite this, the task can be solved with a surprisingly simple policy. Can you discover it?"
      ]
    },
    {
      "cell_type": "code",
      "execution_count": null,
      "metadata": {
        "id": "KfIkGpin2b3F"
      },
      "outputs": [],
      "source": [
        "VIDEO_DIRNAME = \"lab4_mountain-car_random_action\"\n",
        "\n",
        "env = gym.make('MountainCar-v0', render_mode='rgb_array')\n",
        "env = gym.wrappers.RecordVideo(env, FIGS_DIR / VIDEO_DIRNAME)\n",
        "\n",
        "observation, info = env.reset()\n",
        "done = False\n",
        "\n",
        "for t in range(200):\n",
        "\n",
        "    # TODO...\n",
        "\n",
        "    observation, reward, done, truncated, info = env.step(action)\n",
        "\n",
        "env.close()\n",
        "\n",
        "Video(FIGS_DIR / VIDEO_DIRNAME / \"rl-video-episode-0.mp4\", embed=True, html_attributes=\"controls autoplay loop\")"
      ]
    },
    {
      "cell_type": "markdown",
      "metadata": {
        "id": "YX-Rd31e2b3G"
      },
      "source": [
        "### Behavioral Cloning"
      ]
    },
    {
      "cell_type": "markdown",
      "metadata": {
        "id": "5WxbuqDF2b3G"
      },
      "source": [
        "*Behavioral Cloning* ([D. A. Pomerleau, *Efficient Training of Artificial Neural Networks for Autonomous Navigation*, Neural Computation, vol. 3, no. 1, pp. 88–97, 1991](https://cours.etsmtl.ca/sys843/REFS/ORG/pomerleau_alvinn.pdf)) is one of the most fundamental approaches to *Imitation Learning*. The concept is straightforward: an *expert* provides high-quality traces, or demonstrations, and the learning agent's task is to mimic the expert’s behavior.\n",
        "In *Imitation Learning*, *traces* or *demonstrations* refer to sequences of state-action pairs generated by an expert while performing a task. These demonstrations serve as examples for the agent to learn from. Each demonstration consists of a series of observations (states) encountered by the expert, along with the corresponding actions taken in those states.\n",
        "For example, in a driving task, a demonstration might be a series of snapshots of the environment (such as the car’s position and speed) and the actions the expert driver took at each moment (such as steering or braking). These state-action pairs are recorded and used to train the agent, enabling it to learn how to behave similarly in similar situations.\n",
        "\n",
        "The goal of *Behavioral Cloning* is to map states to the actions the expert would take, essentially allowing the agent to \"clone\" the expert's behavior. The quality and variety of these demonstrations are critical for successful learning, as they provide the agent with the knowledge it needs to act appropriately across different scenarios.\n",
        "Typically, expert demonstrations are obtained by recording human behavior, which is then used to train the agent.\n",
        "\n",
        "**Note**: In the original publication, the algorithm learns a stochastic policy by maximizing the likelihood of the expert's actions. However, in this lab, we will train a deterministic policy by minimizing the Categorical Cross Entropy between the expert's actions and the model’s predictions."
      ]
    },
    {
      "cell_type": "markdown",
      "metadata": {
        "id": "C0iSE_GL2b3G"
      },
      "source": [
        "### Exercise 2: Behavioral Cloning on MountainCar"
      ]
    },
    {
      "cell_type": "markdown",
      "metadata": {
        "id": "IeHWkOc72b3G"
      },
      "source": [
        "#### Make a PyTorch dataset from the demonstrations"
      ]
    },
    {
      "cell_type": "markdown",
      "metadata": {
        "id": "xaeAHfXC2b3G"
      },
      "source": [
        "##### Download expert demonstrations\n",
        "\n",
        "The expert demonstrations are available at the following URL: https://github.com/jeremiedecock/polytechnique-csc-53439-ep-2025-students/raw/refs/heads/main/models/lab4_expert_mountaincar-v0_handcrafted/demonstrations.json.xz"
      ]
    },
    {
      "cell_type": "code",
      "execution_count": null,
      "metadata": {
        "id": "VVjFEff32b3H"
      },
      "outputs": [],
      "source": [
        "!mkdir -p models/lab4_expert_mountaincar-v0_handcrafted"
      ]
    },
    {
      "cell_type": "code",
      "execution_count": null,
      "metadata": {
        "id": "2KikyRNW2b3H"
      },
      "outputs": [],
      "source": [
        "!wget https://github.com/jeremiedecock/polytechnique-csc-53439-ep-2025-students/raw/refs/heads/main/models/lab4_expert_mountaincar-v0_handcrafted/demonstrations.json.xz -O models/lab4_expert_mountaincar-v0_handcrafted/demonstrations.json.xz"
      ]
    },
    {
      "cell_type": "markdown",
      "metadata": {
        "id": "6K9cmhbt2b3H"
      },
      "source": [
        "##### Make the dataset"
      ]
    },
    {
      "cell_type": "code",
      "execution_count": null,
      "metadata": {
        "id": "F9ATeWk32b3H"
      },
      "outputs": [],
      "source": [
        "class ExpertDemonstrationsDataset(torch.utils.data.Dataset):\n",
        "    def __init__(self, json_demonstrations_file_path, transform=None, target_transform=None):\n",
        "        super().__init__()\n",
        "        self.json_demonstrations_file_path = json_demonstrations_file_path\n",
        "\n",
        "        with lzma.open(self.json_demonstrations_file_path, \"rt\") as f:\n",
        "            demonstrations_list = json.load(f)\n",
        "\n",
        "        self._observations_tensor = torch.tensor([transition[\"observation\"] for transition in demonstrations_list], dtype=torch.float32)\n",
        "        self._actions_tensor = torch.tensor([transition[\"action\"] for transition in demonstrations_list], dtype=torch.long)\n",
        "\n",
        "        self.transform = transform\n",
        "        self.target_transform = target_transform\n",
        "\n",
        "    def __len__(self):\n",
        "        return len(self._observations_tensor)\n",
        "\n",
        "    def __getitem__(self, idx):\n",
        "        observation = self._observations_tensor[idx]\n",
        "        action = self._actions_tensor[idx]\n",
        "\n",
        "        if self.transform:\n",
        "            observation = self.transform(observation)\n",
        "        if self.target_transform:\n",
        "            action = self.target_transform(action)\n",
        "\n",
        "        return observation, action"
      ]
    },
    {
      "cell_type": "code",
      "execution_count": null,
      "metadata": {
        "id": "IK1DxWRK2b3H"
      },
      "outputs": [],
      "source": [
        "mountain_car_expert_dataset = ExpertDemonstrationsDataset(Path(\"models\") / \"lab4_expert_mountaincar-v0_handcrafted\" / \"demonstrations.json.xz\")"
      ]
    },
    {
      "cell_type": "markdown",
      "metadata": {
        "id": "ZK4TibtS2b3I"
      },
      "source": [
        "**Task1**: Take time to check the definition and the content of this dataset."
      ]
    },
    {
      "cell_type": "markdown",
      "metadata": {
        "id": "GiitxeDT2b3I"
      },
      "source": [
        "##### Plot the dataset"
      ]
    },
    {
      "cell_type": "code",
      "execution_count": null,
      "metadata": {
        "id": "0JoOK4082b3I"
      },
      "outputs": [],
      "source": [
        "expert_policy_df = pd.DataFrame([{\"s_1\": observation_tensor[0], \"s_2\": observation_tensor[1], \"a\": action_tensor} for observation_tensor, action_tensor in mountain_car_expert_dataset])\n",
        "expert_policy_df.plot(kind=\"scatter\", x=\"s_1\", y=\"s_2\", c=\"a\", colormap=\"viridis\", colorbar=True, figsize=(10, 7), s=2);"
      ]
    },
    {
      "cell_type": "markdown",
      "metadata": {
        "id": "hJVbViKK2b3I"
      },
      "source": [
        "#### Define the neural network"
      ]
    },
    {
      "cell_type": "markdown",
      "metadata": {
        "id": "cIyUKu6v2b3J"
      },
      "source": [
        "**Task2**: Implement a neural network that takes the state as input and outputs the action. The neural network should have the following architecture:\n",
        "- A first fully connected layer with `hidden_units` units and ReLU activation function\n",
        "- A second fully connected layer with `n_actions` units and no activation function"
      ]
    },
    {
      "cell_type": "code",
      "execution_count": null,
      "metadata": {
        "id": "qCBShyu22b3J"
      },
      "outputs": [],
      "source": [
        "class DiscretePolicyNetwork(torch.nn.Module):\n",
        "\n",
        "    def __init__(self, n_observations: int, n_actions: int, hidden_units: int):\n",
        "\n",
        "        super(DiscretePolicyNetwork, self).__init__()\n",
        "\n",
        "        # TODO...\n",
        "\n",
        "    def forward(self, x: torch.Tensor) -> torch.Tensor:\n",
        "\n",
        "        # TODO...\n",
        "\n",
        "        return logits"
      ]
    },
    {
      "cell_type": "code",
      "execution_count": null,
      "metadata": {
        "id": "MpmDeG0a2b3J"
      },
      "outputs": [],
      "source": [
        "mountain_car_model = DiscretePolicyNetwork(n_observations=mountain_car_state_dim, n_actions=mountain_car_action_dim, hidden_units=8).to(device)\n",
        "print(mountain_car_model)"
      ]
    },
    {
      "cell_type": "markdown",
      "metadata": {
        "id": "dL9yML4r2b3J"
      },
      "source": [
        "#### Define the training loop"
      ]
    },
    {
      "cell_type": "markdown",
      "metadata": {
        "id": "3X0OKeOw2b3J"
      },
      "source": [
        "**Task3**: Implement a classical supervised learning training function that train one epoch of the neural network on the dataset. This function will be called at each epoch in the *Train the model* cell defined below."
      ]
    },
    {
      "cell_type": "code",
      "execution_count": null,
      "metadata": {
        "id": "QwwzSu7D2b3J"
      },
      "outputs": [],
      "source": [
        "def train(dataloader, model, loss_fn, optimizer, verbose=True):\n",
        "\n",
        "    # TODO..."
      ]
    },
    {
      "cell_type": "markdown",
      "metadata": {
        "id": "q1PRZAL42b3J"
      },
      "source": [
        "#### Define the testing loop"
      ]
    },
    {
      "cell_type": "markdown",
      "metadata": {
        "id": "bLD6_Abs2b3K"
      },
      "source": [
        "**Task4**: Implement a classical supervised learning testing function that assess the performance of the neural network on the test dataset at each epoch. This function will be called at each epoch in the *Train the model* cell defined below."
      ]
    },
    {
      "cell_type": "code",
      "execution_count": null,
      "metadata": {
        "id": "2kvJeneQ2b3K"
      },
      "outputs": [],
      "source": [
        "def test(dataloader, model, loss_fn):\n",
        "\n",
        "    # TODO..."
      ]
    },
    {
      "cell_type": "markdown",
      "metadata": {
        "id": "YnmG4zdK2b3K"
      },
      "source": [
        "#### Split the dataset"
      ]
    },
    {
      "cell_type": "markdown",
      "metadata": {
        "id": "8ToILs2a2b3K"
      },
      "source": [
        "In the following cell, we will split the dataset (expert demonstrations) into a training and a test set."
      ]
    },
    {
      "cell_type": "code",
      "execution_count": null,
      "metadata": {
        "id": "sZayP6cB2b3K"
      },
      "outputs": [],
      "source": [
        "train_size = int(0.8 * len(mountain_car_expert_dataset))\n",
        "test_size = len(mountain_car_expert_dataset) - train_size\n",
        "\n",
        "train_subset, test_subset = torch.utils.data.random_split(mountain_car_expert_dataset, [train_size, test_size])\n",
        "\n",
        "mountain_car_train_dataloader = torch.utils.data.DataLoader(train_subset, batch_size=32, shuffle=True)\n",
        "mountain_car_test_dataloader = torch.utils.data.DataLoader(test_subset, batch_size=32, shuffle=False)"
      ]
    },
    {
      "cell_type": "markdown",
      "metadata": {
        "id": "Oz_Eq6pt2b3K"
      },
      "source": [
        "#### Define the loss function and the optimizer"
      ]
    },
    {
      "cell_type": "markdown",
      "metadata": {
        "id": "6-CS89Bg2b3L"
      },
      "source": [
        "**Task5**: Define the loss function used to train the neural network."
      ]
    },
    {
      "cell_type": "code",
      "execution_count": null,
      "metadata": {
        "id": "GiReg4qd2b3L"
      },
      "outputs": [],
      "source": [
        "mountain_car_loss_fn = # TODO...\n",
        "\n",
        "mountain_car_optimizer = torch.optim.Adam(mountain_car_model.parameters())"
      ]
    },
    {
      "cell_type": "markdown",
      "metadata": {
        "id": "bj4gCR8D2b3L"
      },
      "source": [
        "#### Train the model"
      ]
    },
    {
      "cell_type": "code",
      "execution_count": null,
      "metadata": {
        "id": "omXTu8nX2b3L"
      },
      "outputs": [],
      "source": [
        "epochs = 50\n",
        "for epoch in range(epochs):\n",
        "    print(f\"Epoch {epoch+1}/{epochs}\\n-------------------------------\")\n",
        "\n",
        "    train(mountain_car_train_dataloader, mountain_car_model, mountain_car_loss_fn, mountain_car_optimizer, verbose=False)\n",
        "    test(mountain_car_test_dataloader, mountain_car_model, mountain_car_loss_fn)"
      ]
    },
    {
      "cell_type": "markdown",
      "metadata": {
        "id": "2ZiXITkC2b3L"
      },
      "source": [
        "##### Plot the learned policy"
      ]
    },
    {
      "cell_type": "markdown",
      "metadata": {
        "id": "hEZqGg_E2b3L"
      },
      "source": [
        "You can now compare the learned policy with the expert's policy."
      ]
    },
    {
      "cell_type": "code",
      "execution_count": null,
      "metadata": {
        "id": "CR3Ii1E22b3L"
      },
      "outputs": [],
      "source": [
        "# expert_policy_df = pd.DataFrame([{\"s_1\": test_subset[idx][0][0], \"s_2\": test_subset[idx][0][1], \"a\": test_subset[idx][1]} for idx in range(len(test_subset))])\n",
        "# expert_policy_df.plot(kind=\"scatter\", x=\"s_1\", y=\"s_2\", c=\"a\", colormap=\"viridis\", colorbar=True, figsize=(10, 7), s=2);"
      ]
    },
    {
      "cell_type": "code",
      "execution_count": null,
      "metadata": {
        "id": "Zck4fP3b2b3M"
      },
      "outputs": [],
      "source": [
        "expert_policy_df = pd.DataFrame([{\"s_1\": test_subset[idx][0][0], \"s_2\": test_subset[idx][0][1], \"a\": mountain_car_model(test_subset[idx][0]).argmax().item()} for idx in range(len(test_subset))])\n",
        "expert_policy_df.plot(kind=\"scatter\", x=\"s_1\", y=\"s_2\", c=\"a\", colormap=\"viridis\", colorbar=True, figsize=(10, 7), s=2);"
      ]
    },
    {
      "cell_type": "markdown",
      "metadata": {
        "id": "E7wqD2uX2b3M"
      },
      "source": [
        "#### Test the learned policy"
      ]
    },
    {
      "cell_type": "code",
      "execution_count": null,
      "metadata": {
        "id": "rzws1c5s2b3M"
      },
      "outputs": [],
      "source": [
        "VIDEO_DIRNAME = \"lab4_mountain-car_trained_policy\"\n",
        "\n",
        "env = gym.make('MountainCar-v0', render_mode='rgb_array')\n",
        "env = gym.wrappers.RecordVideo(env, FIGS_DIR / VIDEO_DIRNAME)\n",
        "\n",
        "observation, info = env.reset()\n",
        "done = False\n",
        "\n",
        "for t in range(200):\n",
        "    observation_tensor = torch.tensor(observation, dtype=torch.float32).to(device)\n",
        "    action = mountain_car_model(observation_tensor).argmax().item()\n",
        "    observation, reward, done, truncated, info = env.step(action)\n",
        "\n",
        "env.close()\n",
        "\n",
        "Video(FIGS_DIR / VIDEO_DIRNAME / \"rl-video-episode-0.mp4\", embed=True, html_attributes=\"controls autoplay loop\")"
      ]
    },
    {
      "cell_type": "markdown",
      "metadata": {
        "id": "CVfultxK2b3M"
      },
      "source": [
        "### Exercise 3: Hands on LunarLander environment"
      ]
    },
    {
      "cell_type": "markdown",
      "metadata": {
        "id": "y_B2qWHq2b3M"
      },
      "source": [
        "In this exercise, we will apply the *Behavioral Cloning* algorithm to the LunarLander environment. The LunarLander environment is a classic reinforcement learning task where an agent must learn to land a spacecraft safely on the moon. The agent controls the spacecraft's engines, which can fire in four directions: do nothing, fire left, fire right, or fire both engines downward. The agent receives a reward for successfully landing the spacecraft and a penalty for crashing or running out of fuel.\n",
        "\n",
        "The reward signal is less sparse than in the MountainCar environment, but the dynamics is more complex making it interesting too for *Imitation Learning*."
      ]
    },
    {
      "cell_type": "markdown",
      "metadata": {
        "id": "ncj2WF_O2b3M"
      },
      "source": [
        "**Task 1:** refer to the following link [LunarLander-v3 Environment](https://gymnasium.farama.org/environments/box2d/lunar_lander/) to familiarize yourself with the LunarLander-v3 environment if you are not already."
      ]
    },
    {
      "cell_type": "markdown",
      "metadata": {
        "id": "ekXsuRGK2b3M"
      },
      "source": [
        "Print some information about the environment:"
      ]
    },
    {
      "cell_type": "code",
      "execution_count": null,
      "metadata": {
        "id": "L59QEP9a2b3N"
      },
      "outputs": [],
      "source": [
        "env = gym.make('LunarLander-v3', render_mode=\"rgb_array\")\n",
        "\n",
        "lunar_lander_state_dim = env.observation_space.shape[0]\n",
        "lunar_lander_action_dim = env.action_space.n.item()\n",
        "\n",
        "print(f\"State space size is: { env.observation_space }\")\n",
        "print(f\"Action space size is: { env.action_space }\")\n",
        "print(\"Actions are: {\" + \", \".join([str(a) for a in range(env.action_space.n)]) + \"}\")\n",
        "\n",
        "env.close()"
      ]
    },
    {
      "cell_type": "markdown",
      "metadata": {
        "id": "iwRBWsI32b3N"
      },
      "source": [
        "**Task 2:** Run the following cells and check different basic\n",
        "policies (for instance constant actions or randomly drawn actions) to discover the LunarLander-v3 environment."
      ]
    },
    {
      "cell_type": "markdown",
      "metadata": {
        "id": "oq-iU8MC2b3N"
      },
      "source": [
        "#### Test the LunarLander environment with a constant policy"
      ]
    },
    {
      "cell_type": "code",
      "execution_count": null,
      "metadata": {
        "id": "SjLC9o8D2b3N"
      },
      "outputs": [],
      "source": [
        "import warnings\n",
        "warnings.filterwarnings(\"ignore\", category=UserWarning)"
      ]
    },
    {
      "cell_type": "code",
      "execution_count": null,
      "metadata": {
        "id": "EPGtAfAa2b3N"
      },
      "outputs": [],
      "source": [
        "VIDEO_DIRNAME = \"lab4_lunar-lander_action0\"\n",
        "\n",
        "env = gym.make('LunarLander-v3', render_mode='rgb_array')\n",
        "env = gym.wrappers.RecordVideo(env, FIGS_DIR / VIDEO_DIRNAME)\n",
        "\n",
        "observation, info = env.reset()\n",
        "done = False\n",
        "\n",
        "for t in range(200):\n",
        "    action = 0\n",
        "    observation, reward, done, truncated, info = env.step(action)\n",
        "\n",
        "env.close()\n",
        "\n",
        "Video(FIGS_DIR / VIDEO_DIRNAME / \"rl-video-episode-0.mp4\", embed=True, html_attributes=\"controls autoplay loop\")"
      ]
    },
    {
      "cell_type": "code",
      "execution_count": null,
      "metadata": {
        "id": "20hOFFH22b3N"
      },
      "outputs": [],
      "source": [
        "VIDEO_DIRNAME = \"lab4_lunar-lander_action1\"\n",
        "\n",
        "env = gym.make('LunarLander-v3', render_mode='rgb_array')\n",
        "env = gym.wrappers.RecordVideo(env, FIGS_DIR / VIDEO_DIRNAME)\n",
        "\n",
        "observation, info = env.reset()\n",
        "done = False\n",
        "\n",
        "for t in range(200):\n",
        "    action = 1\n",
        "    observation, reward, done, truncated, info = env.step(action)\n",
        "\n",
        "env.close()\n",
        "\n",
        "Video(FIGS_DIR / VIDEO_DIRNAME / \"rl-video-episode-0.mp4\", embed=True, html_attributes=\"controls autoplay loop\")"
      ]
    },
    {
      "cell_type": "code",
      "execution_count": null,
      "metadata": {
        "id": "4TS6Dxj32b3O"
      },
      "outputs": [],
      "source": [
        "VIDEO_DIRNAME = \"lab4_lunar-lander_action2\"\n",
        "\n",
        "env = gym.make('LunarLander-v3', render_mode='rgb_array')\n",
        "env = gym.wrappers.RecordVideo(env, FIGS_DIR / VIDEO_DIRNAME)\n",
        "\n",
        "observation, info = env.reset()\n",
        "done = False\n",
        "\n",
        "for t in range(200):\n",
        "    action = 2\n",
        "    observation, reward, done, truncated, info = env.step(action)\n",
        "\n",
        "env.close()\n",
        "\n",
        "Video(FIGS_DIR / VIDEO_DIRNAME / \"rl-video-episode-0.mp4\", embed=True, html_attributes=\"controls autoplay loop\")"
      ]
    },
    {
      "cell_type": "code",
      "execution_count": null,
      "metadata": {
        "id": "teX_A9SC2b3O"
      },
      "outputs": [],
      "source": [
        "VIDEO_DIRNAME = \"lab4_lunar-lander_action3\"\n",
        "\n",
        "env = gym.make('LunarLander-v3', render_mode='rgb_array')\n",
        "env = gym.wrappers.RecordVideo(env, FIGS_DIR / VIDEO_DIRNAME)\n",
        "\n",
        "observation, info = env.reset()\n",
        "done = False\n",
        "\n",
        "for t in range(200):\n",
        "    action = 3\n",
        "    observation, reward, done, truncated, info = env.step(action)\n",
        "\n",
        "env.close()\n",
        "\n",
        "Video(FIGS_DIR / VIDEO_DIRNAME / \"rl-video-episode-0.mp4\", embed=True, html_attributes=\"controls autoplay loop\")"
      ]
    },
    {
      "cell_type": "markdown",
      "metadata": {
        "id": "9_z5s6nf2b3O"
      },
      "source": [
        "#### Test the LunarLander environment with a random policy"
      ]
    },
    {
      "cell_type": "code",
      "execution_count": null,
      "metadata": {
        "id": "40DDDnE42b3O"
      },
      "outputs": [],
      "source": [
        "VIDEO_DIRNAME = \"lab4_lunar-lander_random_action\"\n",
        "\n",
        "env = gym.make('LunarLander-v3', render_mode='rgb_array')\n",
        "env = gym.wrappers.RecordVideo(env, FIGS_DIR / VIDEO_DIRNAME)\n",
        "\n",
        "observation, info = env.reset()\n",
        "done = False\n",
        "\n",
        "for t in range(200):\n",
        "    action = env.action_space.sample()\n",
        "    observation, reward, done, truncated, info = env.step(action)\n",
        "\n",
        "env.close()\n",
        "\n",
        "Video(FIGS_DIR / VIDEO_DIRNAME / \"rl-video-episode-0.mp4\", embed=True, html_attributes=\"controls autoplay loop\")"
      ]
    },
    {
      "cell_type": "markdown",
      "metadata": {
        "id": "Bk0gqpJ62b3O"
      },
      "source": [
        "### Exercise 4: Behavioral Cloning on LunarLander"
      ]
    },
    {
      "cell_type": "markdown",
      "metadata": {
        "id": "9cNi24qX2b3P"
      },
      "source": [
        "In this exercise, we will reuse most of the code from the previous exercise to apply the *Behavioral Cloning* algorithm to the LunarLander environment.\n",
        "There are very little to do except check that the code of the previous exercise is still working on the LunarLander environment."
      ]
    },
    {
      "cell_type": "markdown",
      "metadata": {
        "id": "GvH6WoGU2b3P"
      },
      "source": [
        "#### Make a PyTorch dataset from the demonstrations"
      ]
    },
    {
      "cell_type": "markdown",
      "metadata": {
        "id": "1leirtfR2b3P"
      },
      "source": [
        "##### Download expert demonstrations\n",
        "\n",
        "The expert demonstrations are available at the following URL: https://github.com/jeremiedecock/polytechnique-csc-53439-ep-2025-students/raw/refs/heads/main/models/lab4_expert_lunar-lander-v2-discrete-nowind_ppo/demonstrations.json.xz"
      ]
    },
    {
      "cell_type": "code",
      "execution_count": null,
      "metadata": {
        "id": "q5VLuXp72b3P"
      },
      "outputs": [],
      "source": [
        "!mkdir -p models/lab4_expert_lunar-lander-v2-discrete-nowind_ppo"
      ]
    },
    {
      "cell_type": "code",
      "execution_count": null,
      "metadata": {
        "id": "fs8zlA7D2b3P"
      },
      "outputs": [],
      "source": [
        "!wget https://github.com/jeremiedecock/polytechnique-csc-53439-ep-2025-students/raw/refs/heads/main/models/lab4_expert_lunar-lander-v2-discrete-nowind_ppo/demonstrations.json.xz -O models/lab4_expert_lunar-lander-v2-discrete-nowind_ppo/demonstrations.json.xz"
      ]
    },
    {
      "cell_type": "code",
      "execution_count": null,
      "metadata": {
        "id": "KTp7PtTY2b3P"
      },
      "outputs": [],
      "source": [
        "lunar_lander_expert_dataset = ExpertDemonstrationsDataset(Path(\"models\") / \"lab4_expert_lunar-lander-v2-discrete-nowind_ppo\" / \"demonstrations.json.xz\")"
      ]
    },
    {
      "cell_type": "markdown",
      "metadata": {
        "id": "4G6xOJhz2b3P"
      },
      "source": [
        "#### Define the neural network"
      ]
    },
    {
      "cell_type": "code",
      "execution_count": null,
      "metadata": {
        "id": "OlWhRKJX2b3P"
      },
      "outputs": [],
      "source": [
        "lunar_lander_model = DiscretePolicyNetwork(n_observations=lunar_lander_state_dim, n_actions=lunar_lander_action_dim, hidden_units=64).to(device)\n",
        "print(lunar_lander_model)"
      ]
    },
    {
      "cell_type": "markdown",
      "metadata": {
        "id": "dOma09Cm2b3Q"
      },
      "source": [
        "#### Split the dataset"
      ]
    },
    {
      "cell_type": "code",
      "execution_count": null,
      "metadata": {
        "id": "w-S_epMI2b3Q"
      },
      "outputs": [],
      "source": [
        "train_size = int(0.8 * len(lunar_lander_expert_dataset))\n",
        "test_size = len(lunar_lander_expert_dataset) - train_size\n",
        "\n",
        "train_subset, test_subset = torch.utils.data.random_split(lunar_lander_expert_dataset, [train_size, test_size])\n",
        "\n",
        "lunar_lander_train_dataloader = torch.utils.data.DataLoader(train_subset, batch_size=32, shuffle=True)\n",
        "lunar_lander_test_dataloader = torch.utils.data.DataLoader(test_subset, batch_size=32, shuffle=False)"
      ]
    },
    {
      "cell_type": "markdown",
      "metadata": {
        "id": "ZDSPdPwU2b3Q"
      },
      "source": [
        "#### Define the loss function and the optimizer"
      ]
    },
    {
      "cell_type": "markdown",
      "metadata": {
        "id": "b1khbMDS2b3Q"
      },
      "source": [
        "**Task1**: Define the loss function used to train the neural network."
      ]
    },
    {
      "cell_type": "code",
      "execution_count": null,
      "metadata": {
        "id": "yrC5_Rxt2b3Q"
      },
      "outputs": [],
      "source": [
        "lunar_lander_loss_fn = # TODO...\n",
        "\n",
        "lunar_lander_optimizer = torch.optim.Adam(lunar_lander_model.parameters())"
      ]
    },
    {
      "cell_type": "markdown",
      "metadata": {
        "id": "GXCq0egO2b3Q"
      },
      "source": [
        "#### Train the model"
      ]
    },
    {
      "cell_type": "code",
      "execution_count": null,
      "metadata": {
        "id": "jSQ-7lj42b3R"
      },
      "outputs": [],
      "source": [
        "epochs = 10\n",
        "for epoch in range(epochs):\n",
        "    print(f\"Epoch {epoch+1}/{epochs}\\n-------------------------------\")\n",
        "\n",
        "    train(lunar_lander_train_dataloader, lunar_lander_model, lunar_lander_loss_fn, lunar_lander_optimizer, verbose=False)\n",
        "    test(lunar_lander_test_dataloader, lunar_lander_model, lunar_lander_loss_fn)"
      ]
    },
    {
      "cell_type": "markdown",
      "metadata": {
        "id": "PE2GNdbj2b3R"
      },
      "source": [
        "#### Test the learned policy"
      ]
    },
    {
      "cell_type": "code",
      "execution_count": null,
      "metadata": {
        "id": "jc5ILUur2b3R"
      },
      "outputs": [],
      "source": [
        "VIDEO_DIRNAME = \"lab4_lunar-lander_trained_policy\"\n",
        "\n",
        "env = gym.make('LunarLander-v3', render_mode='rgb_array')\n",
        "env = gym.wrappers.RecordVideo(env, FIGS_DIR / VIDEO_DIRNAME)\n",
        "\n",
        "observation, info = env.reset()\n",
        "done = False\n",
        "\n",
        "for t in range(200):\n",
        "    observation_tensor = torch.tensor(observation, dtype=torch.float32).to(device)\n",
        "    action = lunar_lander_model(observation_tensor).argmax().item()\n",
        "    observation, reward, done, truncated, info = env.step(action)\n",
        "\n",
        "env.close()\n",
        "\n",
        "Video(FIGS_DIR / VIDEO_DIRNAME / \"rl-video-episode-0.mp4\", embed=True, html_attributes=\"controls autoplay loop\")"
      ]
    },
    {
      "cell_type": "markdown",
      "metadata": {
        "id": "csgjb-z_2b3R"
      },
      "source": [
        "## Part 2: GAIL (bonus part)"
      ]
    },
    {
      "cell_type": "markdown",
      "metadata": {
        "id": "XHztmMSD2b3S"
      },
      "source": [
        "### Introduction to GAIL\n",
        "\n",
        "**Generative Adversarial Imitation Learning (GAIL)** ([Ho & Ermon, 2016](https://proceedings.neurips.cc/paper_files/paper/2016/file/cc7e2b878868cbae992d1fb743995d8f-Paper.pdf)) is an advanced imitation learning algorithm that combines ideas from Generative Adversarial Networks (GANs) and Inverse Reinforcement Learning (IRL).\n",
        "\n",
        "Unlike Behavioral Cloning, which directly learns to map states to actions through supervised learning, GAIL learns both a policy and a reward function simultaneously:\n",
        "\n",
        "1. **Discriminator**: A neural network that tries to distinguish between state-action pairs from expert demonstrations and those generated by the current policy\n",
        "2. **Policy (Generator)**: A neural network that tries to generate trajectories that fool the discriminator into thinking they come from the expert\n",
        "\n",
        "The key insight is that the discriminator provides a learned reward signal to train the policy using reinforcement learning (typically PPO). This approach addresses some limitations of behavioral cloning:\n",
        "- It can handle distribution mismatch between training and test states\n",
        "- It doesn't require explicit reward functions\n",
        "- It's more robust to imperfect demonstrations"
      ]
    },
    {
      "cell_type": "markdown",
      "metadata": {
        "id": "R0ZHj11a2b3S"
      },
      "source": [
        "### Exercise 3: GAIL on MountainCar"
      ]
    },
    {
      "cell_type": "markdown",
      "metadata": {
        "id": "oHJ28htC2b3S"
      },
      "source": [
        "**Note**: This implementation of GAIL is intentionally kept simple to focus on understanding the core algorithm without the complexity of advanced policy training procedures. We use the **REINFORCE** algorithm (vanilla policy gradient) to train the policy, which makes the learning process transparent and easier to follow."
      ]
    },
    {
      "cell_type": "markdown",
      "metadata": {
        "id": "o62uQbDG2b3S"
      },
      "source": [
        "#### Define the policy network"
      ]
    },
    {
      "cell_type": "markdown",
      "metadata": {
        "id": "GKalnzSA2b3S"
      },
      "source": [
        "**Task1**: Implement a neural network that takes the state as input and outputs the action. The neural network should have the following architecture:\n",
        "- Input Layer:\n",
        "  - The network takes an input with a dimension of obs_dim.\n",
        "- Hidden Layer:\n",
        "  - The first hidden layer is a fully connected (Linear) layer with 128 units.\n",
        "  - This is followed by a ReLU activation function.\n",
        "- Output Layer:\n",
        "  - The output layer is a fully connected (Linear) layer with act_dim units.\n",
        "  - This is followed by a Softmax activation function, which ensures that the output is a probability distribution over actions."
      ]
    },
    {
      "cell_type": "code",
      "execution_count": null,
      "metadata": {
        "id": "BpVGH2Rk2b3S"
      },
      "outputs": [],
      "source": [
        "class PolicyNetwork(torch.nn.Module):\n",
        "    \"\"\"Policy network for REINFORCE training in GAIL\"\"\"\n",
        "\n",
        "    def __init__(self, obs_dim, act_dim):\n",
        "        super(PolicyNetwork, self).__init__()\n",
        "\n",
        "        # TODO...\n",
        "\n",
        "    def forward(self, x: torch.Tensor) -> torch.Tensor:\n",
        "        \"\"\"\n",
        "        Forward pass of the policy network.\n",
        "\n",
        "        Parameters\n",
        "        ----------\n",
        "        x : torch.Tensor\n",
        "            State tensor of shape (n_observations)\n",
        "\n",
        "        Returns\n",
        "        -------\n",
        "        torch.Tensor\n",
        "            Action probabilities, shape (n_actions)\n",
        "        \"\"\"\n",
        "\n",
        "        # TODO...\n",
        "\n",
        "        return action_probs"
      ]
    },
    {
      "cell_type": "markdown",
      "metadata": {
        "id": "buV-eyBs2b3T"
      },
      "source": [
        "#### Define the discriminator neural network"
      ]
    },
    {
      "cell_type": "markdown",
      "metadata": {
        "id": "3DqwcRwE2b3T"
      },
      "source": [
        "**Task2**: Implement a neural network that takes the state-action pair as input and outputs the probability that the pair comes from the expert policy. The neural network should have the following architecture:\n",
        "- Input Layer:\n",
        "  - The network takes a concatenated input of observations and actions with a combined dimension of obs_dim + act_dim.\n",
        "- Hidden Layer:\n",
        "  - The first hidden layer is a fully connected (Linear) layer with 128 units.\n",
        "  - This is followed by a ReLU activation function.\n",
        "- Output Layer:\n",
        "  - The output layer is a fully connected (Linear) layer with 1 unit.\n",
        "  - This is followed by a Sigmoid activation function, which outputs a probability indicating whether the input is from the expert or the generated policy."
      ]
    },
    {
      "cell_type": "code",
      "execution_count": null,
      "metadata": {
        "id": "3pNoZ8Th2b3T"
      },
      "outputs": [],
      "source": [
        "class Discriminator(torch.nn.Module):\n",
        "    \"\"\"Discriminator network that distinguishes expert from policy trajectories\"\"\"\n",
        "\n",
        "    def __init__(self, observations_dim: int, actions_dim: int):\n",
        "        super(Discriminator, self).__init__()\n",
        "\n",
        "        # TODO...\n",
        "\n",
        "    def forward(self, observations: torch.Tensor, action: torch.Tensor) -> torch.Tensor:\n",
        "\n",
        "        # TODO...\n",
        "\n",
        "        return prob"
      ]
    },
    {
      "cell_type": "markdown",
      "metadata": {
        "id": "k5QGaAq42b3T"
      },
      "source": [
        "#### Environment initialization"
      ]
    },
    {
      "cell_type": "code",
      "execution_count": null,
      "metadata": {
        "id": "uPuAH_YZ2b3T"
      },
      "outputs": [],
      "source": [
        "env = gym.make('LunarLander-v3')\n",
        "\n",
        "obs_dim = env.observation_space.shape[0]  # Dimensions de l'observation\n",
        "act_dim = env.action_space.n              # Nombre d'actions possibles"
      ]
    },
    {
      "cell_type": "markdown",
      "metadata": {
        "id": "7WIKSCDe2b3U"
      },
      "source": [
        "#### Initialize the policy and the discriminator networks and their optimizers"
      ]
    },
    {
      "cell_type": "code",
      "execution_count": null,
      "metadata": {
        "id": "rkd5Uh5c2b3U"
      },
      "outputs": [],
      "source": [
        "# Initialization of the networks\n",
        "policy = PolicyNetwork(obs_dim, act_dim)\n",
        "discriminator = Discriminator(obs_dim, act_dim)\n",
        "\n",
        "# Optimizers\n",
        "policy_optimizer = torch.optim.Adam(policy.parameters(), lr=1e-3)\n",
        "discriminator_optimizer = torch.optim.Adam(discriminator.parameters(), lr=1e-3)"
      ]
    },
    {
      "cell_type": "markdown",
      "metadata": {
        "id": "AXaWf1f92b3U"
      },
      "source": [
        "#### Load expert demonstrations"
      ]
    },
    {
      "cell_type": "code",
      "execution_count": null,
      "metadata": {
        "id": "1GdwIDKI2b3U"
      },
      "outputs": [],
      "source": [
        "expert_dataset = ExpertDemonstrationsDataset(Path(\"models\") / \"lab4_expert_lunar-lander-v2-discrete-nowind_ppo\" / \"demonstrations.json.xz\")\n",
        "expert_loader = torch.utils.data.DataLoader(expert_dataset, batch_size=64, shuffle=True)"
      ]
    },
    {
      "cell_type": "markdown",
      "metadata": {
        "id": "ZRTdOcK42b3U"
      },
      "source": [
        "#### Function to collect agent trajectories\n",
        "\n",
        "The following function collects the agent's trajectories using the given policy."
      ]
    },
    {
      "cell_type": "code",
      "execution_count": null,
      "metadata": {
        "id": "5ESXaUvr2b3U"
      },
      "outputs": [],
      "source": [
        "def collect_agent_trajectories(\n",
        "    policy: PolicyNetwork,\n",
        "    env: gym.Env,\n",
        "    num_episodes: int=10\n",
        "):\n",
        "    \"\"\"\n",
        "    Collect trajectories from the agent using the given policy.\n",
        "\n",
        "    Parameters\n",
        "    ----------\n",
        "    policy : PolicyNetwork\n",
        "        The neural network policy that outputs action probabilities\n",
        "    env : gym.Env\n",
        "        The gymnasium environment\n",
        "    num_episodes : int, optional\n",
        "        Number of episodes to collect (default: 10)\n",
        "\n",
        "    Returns\n",
        "    -------\n",
        "    trajectories : list of tuple\n",
        "        List of tuples (obs_list, action_list) for each episode, where:\n",
        "        - obs_list : list of numpy.ndarray\n",
        "            Observations collected during the episode\n",
        "        - action_list : list of int\n",
        "            Actions taken during the episode\n",
        "    \"\"\"\n",
        "    trajectories = []\n",
        "\n",
        "    # Collect multiple episodes\n",
        "    for _ in range(num_episodes):\n",
        "        obs_list = []\n",
        "        action_list = []\n",
        "\n",
        "        # Reset the environment to start a new episode\n",
        "        obs, _ = env.reset()\n",
        "        done = False\n",
        "\n",
        "        # Run one episode until termination\n",
        "        while not done:\n",
        "            # Convert observation to tensor for the policy network\n",
        "            obs_tensor = torch.tensor(obs, dtype=torch.float32)\n",
        "\n",
        "            # Get action probabilities from the policy (no gradient needed for inference)\n",
        "            with torch.no_grad():\n",
        "                action_probs = policy(obs_tensor)\n",
        "\n",
        "            # Sample an action from the probability distribution\n",
        "            action = torch.multinomial(action_probs, 1).item()\n",
        "\n",
        "            # Store the observation and action\n",
        "            obs_list.append(obs)\n",
        "            action_list.append(action)\n",
        "\n",
        "            # Take a step in the environment\n",
        "            obs, reward, done, truncated, info = env.step(action)\n",
        "\n",
        "            # Handle truncated episodes (time limit reached)\n",
        "            if truncated:\n",
        "                done = True\n",
        "\n",
        "        # Store the complete trajectory for this episode\n",
        "        trajectories.append((obs_list, action_list))\n",
        "\n",
        "    return trajectories"
      ]
    },
    {
      "cell_type": "markdown",
      "metadata": {
        "id": "Nle4Rf6F2b3V"
      },
      "source": [
        "#### The main training loop"
      ]
    },
    {
      "cell_type": "markdown",
      "metadata": {
        "id": "lgNaR1w82b3V"
      },
      "source": [
        "**Task3**: Implement the main training loop for the Generative Adversarial Imitation Learning (GAIL) algorithm. Here's a step-by-step explanation:\n",
        "\n",
        "1. **Initialization**:\n",
        "   - `num_iterations`, `num_agent_episodes`, and `gamma` (discount factor) are defined.\n",
        "   - The loop runs for [`num_iterations`.\n",
        "\n",
        "2. **Collecting Agent Trajectories**:\n",
        "   - For each iteration, agent trajectories are collected using the current policy by running `num_agent_episodes` episodes in the environment.\n",
        "\n",
        "3. **Processing Trajectories for Policy Gradient**:\n",
        "   - For each trajectory, observations and actions are converted to tensors.\n",
        "   - Actions are converted to one-hot encoding.\n",
        "   - The discriminator's output is used to compute rewards for the agent.\n",
        "   - Cumulative returns are calculated using the discount factor `gamma`.\n",
        "\n",
        "4. **Concatenation of Data**:\n",
        "   - All observations, actions, and returns from the trajectories are concatenated into single tensors.\n",
        "\n",
        "5. **Policy Update**:\n",
        "   - The policy network is updated using the policy gradient method.\n",
        "   - Log probabilities of the selected actions are computed.\n",
        "   - The policy loss is calculated and backpropagated to update the policy network.\n",
        "\n",
        "6. **Data Preparation for the Discriminator**:\n",
        "   - Agent actions are converted to one-hot encoding.\n",
        "   - A batch of expert data is retrieved.\n",
        "   - Expert actions are also converted to one-hot encoding.\n",
        "\n",
        "7. **Combining and Shuffling Agent and Expert Data**:\n",
        "   - Observations and actions from both agent and expert are concatenated.\n",
        "   - Labels are created (0 for agent data, 1 for expert data).\n",
        "   - The combined data is shuffled.\n",
        "\n",
        "8. **Training the Discriminator**:\n",
        "   - The discriminator is trained to distinguish between agent and expert data.\n",
        "   - The discriminator loss is calculated using binary cross-entropy and backpropagated to update the discriminator network.\n",
        "\n",
        "9. **Logging**:\n",
        "   - Every 10 iterations, the discriminator and policy losses are printed.\n",
        "\n",
        "This loop iteratively improves the policy by making it more similar to the expert's behavior while simultaneously training the discriminator to better distinguish between agent and expert actions."
      ]
    },
    {
      "cell_type": "code",
      "execution_count": null,
      "metadata": {
        "id": "Rl_-Phm02b3V"
      },
      "outputs": [],
      "source": [
        "num_iterations = 500\n",
        "num_agent_episodes = 5\n",
        "gamma = 0.99  # Discount factor\n",
        "\n",
        "discriminator_loss_fn = torch.nn.BCELoss()\n",
        "\n",
        "# Track training metrics\n",
        "training_history = {\n",
        "    'iteration': [],\n",
        "    'discriminator_loss': [],\n",
        "    'policy_loss': [],\n",
        "    # 'mean_reward': []\n",
        "}\n",
        "\n",
        "for iteration in range(num_iterations):\n",
        "\n",
        "    # Collecting agent trajectories\n",
        "    trajectories = collect_agent_trajectories(policy, env, num_episodes=num_agent_episodes)\n",
        "\n",
        "    all_observations = []\n",
        "    all_actions = []\n",
        "    all_returns = []\n",
        "\n",
        "    # ==================================\n",
        "    # STEP 1: Process agent trajectories\n",
        "    # ==================================\n",
        "\n",
        "    # Convert raw trajectories into tensors and compute returns for policy gradient\n",
        "    for transition in trajectories:\n",
        "\n",
        "        # Extract observations and actions from the trajectory\n",
        "        observation_list, action_list = transition\n",
        "\n",
        "        # --------------------\n",
        "        # Process observations\n",
        "        # --------------------\n",
        "\n",
        "        observation_tensor = torch.tensor(observation_list, dtype=torch.float32)\n",
        "        all_observations.append(observation_tensor)\n",
        "\n",
        "        # ---------------\n",
        "        # Process actions\n",
        "        # ---------------\n",
        "\n",
        "        action_tensor = torch.tensor(action_list, dtype=torch.long)\n",
        "\n",
        "        # Convert discrete actions to one-hot encoding for the discriminator\n",
        "        action_tensor_onehot = torch.nn.functional.one_hot(action_tensor, num_classes=act_dim).float()\n",
        "\n",
        "        all_actions.append(action_tensor_onehot)\n",
        "\n",
        "        # ---------------------------------------\n",
        "        # Compute returns using the discriminator\n",
        "        # ---------------------------------------\n",
        "\n",
        "        # TODO...\n",
        "\n",
        "        all_returns.append(returns)\n",
        "\n",
        "    # ======================================\n",
        "    # STEP 2: Prepare data for policy update\n",
        "    # ======================================\n",
        "\n",
        "    # Concatenate all trajectory data into single tensors\n",
        "    all_observations = torch.cat(all_observations, dim=0)  # all_observations.shape = torch.Size([5000, 8])\n",
        "    all_actions = torch.cat(all_actions, dim=0)            # all_actions.shape = torch.Size([5000, 4])\n",
        "    all_returns = torch.cat(all_returns, dim=0)            # all_returns.shape = torch.Size([5000])\n",
        "\n",
        "    # Normalize returns to reduce variance and stabilize training\n",
        "    # This is a common technique in policy gradient methods\n",
        "    all_returns = (all_returns - all_returns.mean()) / (all_returns.std() + 1e-8)\n",
        "\n",
        "    # =================================\n",
        "    # STEP 3: Update the policy network\n",
        "    # =================================\n",
        "\n",
        "    # Compute log probabilities of the actions taken\n",
        "    # The policy outputs action probabilities; we take the log for numerical stability\n",
        "    log_prob_actions_tensor = torch.log(policy(all_observations) + 1e-8)\n",
        "\n",
        "    # Extract log probabilities of the specific actions that were taken\n",
        "    # This multiplies by one-hot encoded actions and sums to get the log prob of the taken action\n",
        "    log_prob_actions_tensor = # TODO...\n",
        "\n",
        "    # Compute policy gradient loss: -E[G_t * log π(a_t|s_t)]\n",
        "    # We maximize expected returns, which is equivalent to minimizing the negative\n",
        "    policy_loss = # TODO...\n",
        "\n",
        "    # Perform gradient descent on the policy\n",
        "    policy_optimizer.zero_grad()\n",
        "    policy_loss.backward()\n",
        "    policy_optimizer.step()\n",
        "\n",
        "    # =============================================\n",
        "    # STEP 4: Prepare data for discriminator update\n",
        "    # =============================================\n",
        "\n",
        "    # Detach agent actions from the computation graph to avoid coupling with policy gradients\n",
        "    agent_actions_onehot = all_actions.detach().float()\n",
        "\n",
        "    # Sample a batch of expert demonstrations\n",
        "    expert_batch = next(iter(expert_loader))\n",
        "    expert_observations, expert_actions = expert_batch\n",
        "\n",
        "    # Convert expert actions to one-hot encoding (same format as agent actions)\n",
        "    expert_actions_onehot = torch.nn.functional.one_hot(expert_actions, num_classes=act_dim).float()\n",
        "\n",
        "    # Combine agent and expert data for discriminator training\n",
        "    # Agent observations and actions (detached from policy gradient)\n",
        "    discriminator_input_observations = torch.cat([all_observations.detach(), expert_observations], dim=0)\n",
        "    discriminator_input_actions = torch.cat([agent_actions_onehot, expert_actions_onehot], dim=0)\n",
        "\n",
        "    # Create binary labels: 0 for agent (fake), 1 for expert (real)\n",
        "    # This follows the standard GAN convention\n",
        "    discriminator_labels = torch.cat([\n",
        "        torch.zeros(len(all_observations)),  # Agent data labeled as 0 (fake)\n",
        "        torch.ones(len(expert_observations))  # Expert data labeled as 1 (real)\n",
        "    ], dim=0)\n",
        "\n",
        "    # Shuffle the combined dataset to prevent the discriminator from learning\n",
        "    # patterns based on the order of agent vs. expert data\n",
        "    perm = torch.randperm(discriminator_input_observations.size(0))\n",
        "    discriminator_input_observations = discriminator_input_observations[perm]\n",
        "    discriminator_input_actions = discriminator_input_actions[perm]\n",
        "    discriminator_labels = discriminator_labels[perm]\n",
        "\n",
        "    # ========================================\n",
        "    # STEP 5: Update the discriminator network\n",
        "    # ========================================\n",
        "\n",
        "    # Train the discriminator to distinguish between agent and expert trajectories\n",
        "    # This is a binary classification task\n",
        "    predictions = # TODO...\n",
        "    discriminator_loss = # TODO...\n",
        "\n",
        "    # Perform gradient descent on the discriminator\n",
        "    discriminator_optimizer.zero_grad()\n",
        "    discriminator_loss.backward()\n",
        "    discriminator_optimizer.step()\n",
        "\n",
        "    # Track metrics\n",
        "    training_history['iteration'].append(iteration)\n",
        "    training_history['discriminator_loss'].append(discriminator_loss.item())\n",
        "    training_history['policy_loss'].append(policy_loss.item())\n",
        "\n",
        "    if iteration % 10 == 0:\n",
        "        print(f\"Iteration {iteration}, Discriminator loss: {discriminator_loss.item()}, Policy loss: {policy_loss.item()}\")"
      ]
    },
    {
      "cell_type": "markdown",
      "metadata": {
        "id": "vUZ_qNMj2b3V"
      },
      "source": [
        "#### Plot Training Metrics"
      ]
    },
    {
      "cell_type": "code",
      "execution_count": null,
      "metadata": {
        "id": "dQ_5Jsy22b3V"
      },
      "outputs": [],
      "source": [
        "fig, axes = plt.subplots(1, 2, figsize=(18, 10))\n",
        "\n",
        "# Discriminator Loss\n",
        "axes[0].plot(training_history['iteration'], training_history['discriminator_loss'])\n",
        "axes[0].set_xlabel('Iteration')\n",
        "axes[0].set_ylabel('Discriminator Loss')\n",
        "axes[0].set_title('Discriminator Loss over Training')\n",
        "axes[0].grid(True)\n",
        "\n",
        "# Policy Loss\n",
        "axes[1].plot(training_history['iteration'], training_history['policy_loss'])\n",
        "axes[1].set_xlabel('Iteration')\n",
        "axes[1].set_ylabel('Policy Loss')\n",
        "axes[1].set_title('Policy Loss over Training')\n",
        "axes[1].grid(True)\n",
        "\n",
        "plt.tight_layout()\n",
        "plt.savefig(PLOTS_DIR / \"gail_training_metrics.png\", dpi=150, bbox_inches='tight')\n",
        "plt.show()"
      ]
    },
    {
      "cell_type": "markdown",
      "metadata": {
        "id": "s1cI6xX62b3W"
      },
      "source": [
        "#### Test the learned policy"
      ]
    },
    {
      "cell_type": "code",
      "execution_count": null,
      "metadata": {
        "id": "WNU70vdA2b3W"
      },
      "outputs": [],
      "source": [
        "VIDEO_DIRNAME = \"lab4_lunar-lander_trained_policy\"\n",
        "\n",
        "env = gym.make('LunarLander-v3', render_mode='rgb_array')\n",
        "env = gym.wrappers.RecordVideo(env, FIGS_DIR / VIDEO_DIRNAME)\n",
        "\n",
        "observation, info = env.reset()\n",
        "done = False\n",
        "\n",
        "for t in range(200):\n",
        "    observation_tensor = torch.tensor(observation, dtype=torch.float32).to(device)\n",
        "    action = policy(observation_tensor).argmax().item()\n",
        "    observation, reward, done, truncated, info = env.step(action)\n",
        "\n",
        "env.close()\n",
        "\n",
        "Video(FIGS_DIR / VIDEO_DIRNAME / \"rl-video-episode-0.mp4\", embed=True, html_attributes=\"controls autoplay loop\")"
      ]
    },
    {
      "cell_type": "markdown",
      "metadata": {
        "id": "EU30roNJ2b3W"
      },
      "source": [
        "### Conclusion\n",
        "\n",
        "This implementation of GAIL is intentionally kept simple to focus on understanding the core algorithm without the complexity of advanced policy training procedures. We use the **REINFORCE** algorithm (vanilla policy gradient) to train the policy, which makes the learning process transparent and easier to follow.\n",
        "\n",
        "However, this simplicity comes at a cost: the training can be **less efficient and less stable** compared to more sophisticated approaches. In the original GAIL paper ([Ho & Ermon, 2016](https://proceedings.neurips.cc/paper_files/paper/2016/file/cc7e2b878868cbae992d1fb743995d8f-Paper.pdf)), the authors used **Trust Region Policy Optimization (TRPO)** to train the policy, which provides better stability and sample efficiency through constrained optimization.\n",
        "\n",
        "In modern practice, **Proximal Policy Optimization (PPO)** has become the most widely used algorithm for training the policy in GAIL implementations. PPO offers a good balance between:\n",
        "- Implementation simplicity (compared to TRPO)\n",
        "- Training stability (compared to REINFORCE)\n",
        "- Sample efficiency\n",
        "- Robustness across different environments\n",
        "\n",
        "For production-level implementations or more challenging environments, consider replacing the REINFORCE-based policy training with PPO or TRPO to achieve significantly better performance and stability."
      ]
    }
  ],
  "metadata": {
    "colab": {
      "provenance": [],
      "toc_visible": true
    },
    "kernelspec": {
      "display_name": "Python 3 (ipykernel)",
      "language": "python",
      "name": "python3"
    },
    "language_info": {
      "codemirror_mode": {
        "name": "ipython",
        "version": 3
      },
      "file_extension": ".py",
      "mimetype": "text/x-python",
      "name": "python",
      "nbconvert_exporter": "python",
      "pygments_lexer": "ipython3",
      "version": "3.13.5"
    }
  },
  "nbformat": 4,
  "nbformat_minor": 0
}