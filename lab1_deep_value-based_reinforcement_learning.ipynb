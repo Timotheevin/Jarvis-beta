{
  "cells": [
    {
      "cell_type": "markdown",
      "metadata": {
        "editable": true,
        "tags": [],
        "id": "deAjWBCCW9ff"
      },
      "source": [
        "# Deep Value-based Reinforcement Learning\n",
        "\n",
        "<img src=\"https://raw.githubusercontent.com/jeremiedecock/polytechnique-csc-53439-ep-2025-students/refs/heads/main/assets/logo.jpg?raw=true\" style=\"float: left; width: 15%\" />\n",
        "\n",
        "[CSC_53439_EP-2025](https://moodle.ip-paris.fr/course/view.php?id=10716) Lab session #1\n",
        "\n",
        "2019-2025 Jérémie Decock"
      ]
    },
    {
      "cell_type": "markdown",
      "metadata": {
        "id": "1JilkWztW9fi"
      },
      "source": [
        "[![Open in Google Colab](https://colab.research.google.com/assets/colab-badge.svg)](https://colab.research.google.com/github/jeremiedecock/polytechnique-csc-53439-ep-2025-students/blob/main/lab1_deep_value-based_reinforcement_learning.ipynb)\n",
        "\n",
        "[![My Binder](https://mybinder.org/badge_logo.svg)](https://mybinder.org/v2/gh/jeremiedecock/polytechnique-csc-53439-ep-2025-students/main?filepath=lab1_deep_value-based_reinforcement_learning.ipynb)\n",
        "\n",
        "[![NbViewer](https://raw.githubusercontent.com/jupyter/design/master/logos/Badges/nbviewer_badge.svg)](https://nbviewer.jupyter.org/github/jeremiedecock/polytechnique-csc-53439-ep-2025-students/blob/main/lab1_deep_value-based_reinforcement_learning.ipynb)\n",
        "\n",
        "[![Local](https://img.shields.io/badge/Local-Save%20As...-blue)](https://github.com/jeremiedecock/polytechnique-csc-53439-ep-2025-students/raw/main/lab1_deep_value-based_reinforcement_learning.ipynb)"
      ]
    },
    {
      "cell_type": "markdown",
      "metadata": {
        "id": "a_I9dyEqW9fj"
      },
      "source": [
        "## Introduction\n",
        "\n",
        "The aim of this lab is to provide an in-depth exploration of the most renowned value-based reinforcement learning techniques, specifically *Deep Q-Networks* and its enhancements.\n",
        "\n",
        "In this Python notebook, you will implement and evaluate *Deep Q-Networks* (DQN) and its various adaptations.\n",
        "\n",
        "You can either:\n",
        "- open, edit and execute the notebook in *Google Colab* following this link: https://colab.research.google.com/github/jeremiedecock/polytechnique-csc-53439-ep-2025-students/blob/main/lab1_deep_value-based_reinforcement_learning.ipynb ; this is the **recommended** choice as you have nothing to install on your computer\n",
        "- open, edit and execute the notebook in *MyBinder* (if for any reason the Google Colab solution doesn't work): https://mybinder.org/v2/gh/jeremiedecock/polytechnique-csc-53439-ep-2025-students/main?filepath=lab1_deep_value-based_reinforcement_learning.ipynb\n",
        "- download, edit and execute the notebook on your computer if Python3 and JypyterLab are already installed: https://github.com/jeremiedecock/polytechnique-csc-53439-ep-2025-students/raw/main/lab1_deep_value-based_reinforcement_learning.ipynb\n",
        "\n",
        "If you work with Google Colab or MyBinder, **remember to save or download your work regularly or you may lose it!**"
      ]
    },
    {
      "cell_type": "markdown",
      "metadata": {
        "id": "nLuMekdmW9fk"
      },
      "source": [
        "### Survey"
      ]
    },
    {
      "cell_type": "markdown",
      "metadata": {
        "id": "gkSfEkdEW9fk"
      },
      "source": [
        "Please answer the following survey to help us improve this lab session: https://moodle.ip-paris.fr/mod/questionnaire/view.php?id=185677"
      ]
    },
    {
      "cell_type": "markdown",
      "metadata": {
        "id": "uCC6uKZ-W9fl"
      },
      "source": [
        "## Lab Submission\n",
        "\n",
        "Please submit your completed notebook in [Moodle : \"Lab 1 - Submission\"](https://moodle.ip-paris.fr/mod/assign/view.php?id=185679).\n",
        "\n",
        "### Submission Guidelines\n",
        "\n",
        "1. **File Naming:** Rename your notebook as follows: **`firstname_lastname-01.ipynb`** where `firstname` and `lastname` match your email address. *Example: `jesse_read-01.ipynb`*\n",
        "2. **Clear Output Cells:** To reduce file size (**must be under 500 KB**), clear all output cells before submitting. This includes rendered images, videos, plots, and dataframes...\n",
        "   - **JupyterLab:**\n",
        "     - Click **\"Kernel\" → \"Restart Kernel and Clear Outputs of All Cells...\"**\n",
        "     - Then go to **\"File\" → \"Save Notebook As...\"**\n",
        "   - **Google Colab:**\n",
        "     - Click **\"Edit\" → \"Clear all outputs\"**\n",
        "     - Then go to **\"File\" → \"Download\" → \"Download.ipynb\"**\n",
        "   - **VSCode:**\n",
        "     - Click **\"Clear All Outputs\"**\n",
        "     - Then **save your file**\n",
        "3. **Upload Your File:** Only **`.ipynb`** files are accepted.\n",
        "\n",
        "**Note:** Bonus parts (if any) are optional, as their name suggests.\n"
      ]
    },
    {
      "cell_type": "markdown",
      "metadata": {
        "editable": true,
        "tags": [],
        "vscode": {
          "languageId": "plaintext"
        },
        "id": "_lmJzW3XW9fl"
      },
      "source": [
        "### Deep value-based reinforcement learning\n",
        "\n",
        "Deep reinforcement learning methods like DQN (Deep Q-Networks) are significant advancements over tabular methods such as Q-Learning because they can handle complex, high-dimensional environments that were previously intractable. While Q-Learning is limited to environments where the state and action spaces are sufficiently small to maintain a table of values, DQN uses neural networks to approximate the Q-value function, allowing it to generalize across similar states and scale to problems with vast state spaces. This enables DQN to learn optimal policies for tasks like video games, robotic control, and other applications where the number of possible states is extraordinarily large.\n",
        "\n",
        "While DQN was designed to tackle large environments like Atari games, the primary focus of this lab is to delve into the underlying algorithms, understand them thoroughly, and evaluate them comprehensively. It's important to note that working with not-so-deep networks captures the essence of deep reinforcement learning, excluding the computational expense. The transition from tabular Q-learning to DQN involves significant implications, primarily due to the ability of DQN to handle high-dimensional state spaces. Moving from DQN to very-deep-DQN is primarily a matter of scale and computational resources. The core principles remain the same, and understanding these principles is the key to mastering reinforcement learning, regardless of the complexity of the network used.\n",
        "For these reasons, in this lab, we will focus on studying the CartPole environment. The CartPole problem is a classic in reinforcement learning, and it provides a simpler and more manageable context for understanding the principles of DQN. The convergence in the CartPole environment is much faster than in Atari games - typically within a minute, as opposed to approximately hours on a well-equipped personal computer for Atari games. This allows us to experiment and iterate more quickly, facilitating a deeper understanding of the algorithms at play.\n",
        "\n",
        "We will therefore focus on algorithms in a simple environment."
      ]
    },
    {
      "cell_type": "markdown",
      "metadata": {
        "id": "cgqG2p5UW9fm"
      },
      "source": [
        "## Setup the Python environment"
      ]
    },
    {
      "cell_type": "markdown",
      "metadata": {
        "id": "JCb8ypqKW9fm"
      },
      "source": [
        "This notebook relies on several libraries including `gymnasium[classic-control]`, `ipywidgets`, `matplotlib`, `numpy`, `pandas`, `pygame`, `seaborn`, `torch`, and `tqdm`.\n",
        "A complete list of dependencies can be found in the following [requirements_lab1.txt](https://raw.githubusercontent.com/jeremiedecock/polytechnique-csc-53439-ep-2025-students/main/requirements_lab1.txt) file."
      ]
    },
    {
      "cell_type": "markdown",
      "metadata": {
        "editable": true,
        "tags": [],
        "id": "oX-0Ao6EW9fm"
      },
      "source": [
        "### If you use Google Colab\n",
        "\n",
        "If you use Google Colab, execute the next cell to install required libraries."
      ]
    },
    {
      "cell_type": "code",
      "execution_count": 1,
      "metadata": {
        "colab": {
          "base_uri": "https://localhost:8080/"
        },
        "id": "xt66Z85AmOI2",
        "outputId": "10bc2223-7b4d-426e-8388-6cc5a10ef19b"
      },
      "outputs": [
        {
          "output_type": "stream",
          "name": "stdout",
          "text": [
            "Requirement already satisfied: torch~=2.8.0 in /usr/local/lib/python3.12/dist-packages (from -r https://raw.githubusercontent.com/jeremiedecock/polytechnique-csc-53439-ep-2025-students/main/requirements_lab1_google_colab.txt (line 13)) (2.8.0+cu126)\n",
            "Collecting gymnasium~=1.2.1 (from gymnasium[classic-control]~=1.2.1->-r https://raw.githubusercontent.com/jeremiedecock/polytechnique-csc-53439-ep-2025-students/main/requirements_lab1_google_colab.txt (line 23))\n",
            "Downloading gymnasium-1.2.1-py3-none-any.whl.metadata (10.0 kB)\n",
            "Requirement already satisfied: imageio~=2.37.0 in /usr/local/lib/python3.12/dist-packages (from -r https://raw.githubusercontent.com/jeremiedecock/polytechnique-csc-53439-ep-2025-students/main/requirements_lab1_google_colab.txt (line 45)) (2.37.0)\n",
            "Collecting ipywidgets~=8.1.7 (from -r https://raw.githubusercontent.com/jeremiedecock/polytechnique-csc-53439-ep-2025-students/main/requirements_lab1_google_colab.txt (line 47))\n",
            "Downloading ipywidgets-8.1.7-py3-none-any.whl.metadata (2.4 kB)\n",
            "Collecting matplotlib~=3.10.6 (from -r https://raw.githubusercontent.com/jeremiedecock/polytechnique-csc-53439-ep-2025-students/main/requirements_lab1_google_colab.txt (line 49))\n",
            "Downloading matplotlib-3.10.6-cp312-cp312-manylinux2014_x86_64.manylinux_2_17_x86_64.whl.metadata (11 kB)\n",
            "Collecting pandas~=2.3.2 (from -r https://raw.githubusercontent.com/jeremiedecock/polytechnique-csc-53439-ep-2025-students/main/requirements_lab1_google_colab.txt (line 51))\n",
            "Downloading pandas-2.3.3-cp312-cp312-manylinux_2_24_x86_64.manylinux_2_28_x86_64.whl.metadata (91 kB)\n",
            "━━━━━━━━━━━━━━━━━━━━━━━━━━━━━━━━━━━━━━━━ 91.2/91.2 kB 3.2 MB/s eta 0:00:00\n",
            "Collecting pyvirtualdisplay (from -r https://raw.githubusercontent.com/jeremiedecock/polytechnique-csc-53439-ep-2025-students/main/requirements_lab1_google_colab.txt (line 54))\n",
            "Downloading PyVirtualDisplay-3.0-py3-none-any.whl.metadata (943 bytes)\n",
            "Requirement already satisfied: seaborn~=0.13.2 in /usr/local/lib/python3.12/dist-packages (from -r https://raw.githubusercontent.com/jeremiedecock/polytechnique-csc-53439-ep-2025-students/main/requirements_lab1_google_colab.txt (line 56)) (0.13.2)\n",
            "Requirement already satisfied: tqdm~=4.67.1 in /usr/local/lib/python3.12/dist-packages (from -r https://raw.githubusercontent.com/jeremiedecock/polytechnique-csc-53439-ep-2025-students/main/requirements_lab1_google_colab.txt (line 57)) (4.67.1)\n",
            "Collecting aim~=3.29.1 (from -r https://raw.githubusercontent.com/jeremiedecock/polytechnique-csc-53439-ep-2025-students/main/requirements_lab1_google_colab.txt (line 62))\n",
            "Downloading aim-3.29.1-cp312-cp312-manylinux_2_28_x86_64.whl.metadata (35 kB)\n",
            "Collecting optuna~=4.5.0 (from -r https://raw.githubusercontent.com/jeremiedecock/polytechnique-csc-53439-ep-2025-students/main/requirements_lab1_google_colab.txt (line 64))\n",
            "Downloading optuna-4.5.0-py3-none-any.whl.metadata (17 kB)\n",
            "Collecting tensorboard~=2.20.0 (from -r https://raw.githubusercontent.com/jeremiedecock/polytechnique-csc-53439-ep-2025-students/main/requirements_lab1_google_colab.txt (line 66))\n",
            "Downloading tensorboard-2.20.0-py3-none-any.whl.metadata (1.8 kB)\n",
            "Requirement already satisfied: jupytext~=1.17.3 in /usr/local/lib/python3.12/dist-packages (from -r https://raw.githubusercontent.com/jeremiedecock/polytechnique-csc-53439-ep-2025-students/main/requirements_lab1_google_colab.txt (line 72)) (1.17.3)\n",
            "Collecting mypy~=1.18.2 (from -r https://raw.githubusercontent.com/jeremiedecock/polytechnique-csc-53439-ep-2025-students/main/requirements_lab1_google_colab.txt (line 73))\n",
            "Downloading mypy-1.18.2-cp312-cp312-manylinux2014_x86_64.manylinux_2_17_x86_64.manylinux_2_28_x86_64.whl.metadata (2.2 kB)\n",
            "Collecting ruff~=0.13.2 (from -r https://raw.githubusercontent.com/jeremiedecock/polytechnique-csc-53439-ep-2025-students/main/requirements_lab1_google_colab.txt (line 75))\n",
            "Downloading ruff-0.13.3-py3-none-manylinux_2_17_x86_64.manylinux2014_x86_64.whl.metadata (25 kB)\n",
            "Requirement already satisfied: filelock in /usr/local/lib/python3.12/dist-packages (from torch~=2.8.0->-r https://raw.githubusercontent.com/jeremiedecock/polytechnique-csc-53439-ep-2025-students/main/requirements_lab1_google_colab.txt (line 13)) (3.19.1)\n",
            "Requirement already satisfied: typing-extensions>=4.10.0 in /usr/local/lib/python3.12/dist-packages (from torch~=2.8.0->-r https://raw.githubusercontent.com/jeremiedecock/polytechnique-csc-53439-ep-2025-students/main/requirements_lab1_google_colab.txt (line 13)) (4.15.0)\n",
            "Requirement already satisfied: setuptools in /usr/local/lib/python3.12/dist-packages (from torch~=2.8.0->-r https://raw.githubusercontent.com/jeremiedecock/polytechnique-csc-53439-ep-2025-students/main/requirements_lab1_google_colab.txt (line 13)) (75.2.0)\n",
            "Requirement already satisfied: sympy>=1.13.3 in /usr/local/lib/python3.12/dist-packages (from torch~=2.8.0->-r https://raw.githubusercontent.com/jeremiedecock/polytechnique-csc-53439-ep-2025-students/main/requirements_lab1_google_colab.txt (line 13)) (1.13.3)\n",
            "Requirement already satisfied: networkx in /usr/local/lib/python3.12/dist-packages (from torch~=2.8.0->-r https://raw.githubusercontent.com/jeremiedecock/polytechnique-csc-53439-ep-2025-students/main/requirements_lab1_google_colab.txt (line 13)) (3.5)\n",
            "Requirement already satisfied: jinja2 in /usr/local/lib/python3.12/dist-packages (from torch~=2.8.0->-r https://raw.githubusercontent.com/jeremiedecock/polytechnique-csc-53439-ep-2025-students/main/requirements_lab1_google_colab.txt (line 13)) (3.1.6)\n",
            "Requirement already satisfied: fsspec in /usr/local/lib/python3.12/dist-packages (from torch~=2.8.0->-r https://raw.githubusercontent.com/jeremiedecock/polytechnique-csc-53439-ep-2025-students/main/requirements_lab1_google_colab.txt (line 13)) (2025.3.0)\n",
            "Requirement already satisfied: nvidia-cuda-nvrtc-cu12==12.6.77 in /usr/local/lib/python3.12/dist-packages (from torch~=2.8.0->-r https://raw.githubusercontent.com/jeremiedecock/polytechnique-csc-53439-ep-2025-students/main/requirements_lab1_google_colab.txt (line 13)) (12.6.77)\n",
            "Requirement already satisfied: nvidia-cuda-runtime-cu12==12.6.77 in /usr/local/lib/python3.12/dist-packages (from torch~=2.8.0->-r https://raw.githubusercontent.com/jeremiedecock/polytechnique-csc-53439-ep-2025-students/main/requirements_lab1_google_colab.txt (line 13)) (12.6.77)\n",
            "Requirement already satisfied: nvidia-cuda-cupti-cu12==12.6.80 in /usr/local/lib/python3.12/dist-packages (from torch~=2.8.0->-r https://raw.githubusercontent.com/jeremiedecock/polytechnique-csc-53439-ep-2025-students/main/requirements_lab1_google_colab.txt (line 13)) (12.6.80)\n",
            "Requirement already satisfied: nvidia-cudnn-cu12==9.10.2.21 in /usr/local/lib/python3.12/dist-packages (from torch~=2.8.0->-r https://raw.githubusercontent.com/jeremiedecock/polytechnique-csc-53439-ep-2025-students/main/requirements_lab1_google_colab.txt (line 13)) (9.10.2.21)\n",
            "Requirement already satisfied: nvidia-cublas-cu12==12.6.4.1 in /usr/local/lib/python3.12/dist-packages (from torch~=2.8.0->-r https://raw.githubusercontent.com/jeremiedecock/polytechnique-csc-53439-ep-2025-students/main/requirements_lab1_google_colab.txt (line 13)) (12.6.4.1)\n",
            "Requirement already satisfied: nvidia-cufft-cu12==11.3.0.4 in /usr/local/lib/python3.12/dist-packages (from torch~=2.8.0->-r https://raw.githubusercontent.com/jeremiedecock/polytechnique-csc-53439-ep-2025-students/main/requirements_lab1_google_colab.txt (line 13)) (11.3.0.4)\n",
            "Requirement already satisfied: nvidia-curand-cu12==10.3.7.77 in /usr/local/lib/python3.12/dist-packages (from torch~=2.8.0->-r https://raw.githubusercontent.com/jeremiedecock/polytechnique-csc-53439-ep-2025-students/main/requirements_lab1_google_colab.txt (line 13)) (10.3.7.77)\n",
            "Requirement already satisfied: nvidia-cusolver-cu12==11.7.1.2 in /usr/local/lib/python3.12/dist-packages (from torch~=2.8.0->-r https://raw.githubusercontent.com/jeremiedecock/polytechnique-csc-53439-ep-2025-students/main/requirements_lab1_google_colab.txt (line 13)) (11.7.1.2)\n",
            "Requirement already satisfied: nvidia-cusparse-cu12==12.5.4.2 in /usr/local/lib/python3.12/dist-packages (from torch~=2.8.0->-r https://raw.githubusercontent.com/jeremiedecock/polytechnique-csc-53439-ep-2025-students/main/requirements_lab1_google_colab.txt (line 13)) (12.5.4.2)\n",
            "Requirement already satisfied: nvidia-cusparselt-cu12==0.7.1 in /usr/local/lib/python3.12/dist-packages (from torch~=2.8.0->-r https://raw.githubusercontent.com/jeremiedecock/polytechnique-csc-53439-ep-2025-students/main/requirements_lab1_google_colab.txt (line 13)) (0.7.1)\n",
            "Requirement already satisfied: nvidia-nccl-cu12==2.27.3 in /usr/local/lib/python3.12/dist-packages (from torch~=2.8.0->-r https://raw.githubusercontent.com/jeremiedecock/polytechnique-csc-53439-ep-2025-students/main/requirements_lab1_google_colab.txt (line 13)) (2.27.3)\n",
            "Requirement already satisfied: nvidia-nvtx-cu12==12.6.77 in /usr/local/lib/python3.12/dist-packages (from torch~=2.8.0->-r https://raw.githubusercontent.com/jeremiedecock/polytechnique-csc-53439-ep-2025-students/main/requirements_lab1_google_colab.txt (line 13)) (12.6.77)\n",
            "Requirement already satisfied: nvidia-nvjitlink-cu12==12.6.85 in /usr/local/lib/python3.12/dist-packages (from torch~=2.8.0->-r https://raw.githubusercontent.com/jeremiedecock/polytechnique-csc-53439-ep-2025-students/main/requirements_lab1_google_colab.txt (line 13)) (12.6.85)\n",
            "Requirement already satisfied: nvidia-cufile-cu12==1.11.1.6 in /usr/local/lib/python3.12/dist-packages (from torch~=2.8.0->-r https://raw.githubusercontent.com/jeremiedecock/polytechnique-csc-53439-ep-2025-students/main/requirements_lab1_google_colab.txt (line 13)) (1.11.1.6)\n",
            "Requirement already satisfied: triton==3.4.0 in /usr/local/lib/python3.12/dist-packages (from torch~=2.8.0->-r https://raw.githubusercontent.com/jeremiedecock/polytechnique-csc-53439-ep-2025-students/main/requirements_lab1_google_colab.txt (line 13)) (3.4.0)\n",
            "Requirement already satisfied: numpy>=1.21.0 in /usr/local/lib/python3.12/dist-packages (from gymnasium~=1.2.1->gymnasium[classic-control]~=1.2.1->-r https://raw.githubusercontent.com/jeremiedecock/polytechnique-csc-53439-ep-2025-students/main/requirements_lab1_google_colab.txt (line 23)) (2.0.2)\n",
            "Requirement already satisfied: cloudpickle>=1.2.0 in /usr/local/lib/python3.12/dist-packages (from gymnasium~=1.2.1->gymnasium[classic-control]~=1.2.1->-r https://raw.githubusercontent.com/jeremiedecock/polytechnique-csc-53439-ep-2025-students/main/requirements_lab1_google_colab.txt (line 23)) (3.1.1)\n",
            "Requirement already satisfied: farama-notifications>=0.0.1 in /usr/local/lib/python3.12/dist-packages (from gymnasium~=1.2.1->gymnasium[classic-control]~=1.2.1->-r https://raw.githubusercontent.com/jeremiedecock/polytechnique-csc-53439-ep-2025-students/main/requirements_lab1_google_colab.txt (line 23)) (0.0.4)\n",
            "Requirement already satisfied: pillow>=8.3.2 in /usr/local/lib/python3.12/dist-packages (from imageio~=2.37.0->-r https://raw.githubusercontent.com/jeremiedecock/polytechnique-csc-53439-ep-2025-students/main/requirements_lab1_google_colab.txt (line 45)) (11.3.0)\n",
            "Collecting comm>=0.1.3 (from ipywidgets~=8.1.7->-r https://raw.githubusercontent.com/jeremiedecock/polytechnique-csc-53439-ep-2025-students/main/requirements_lab1_google_colab.txt (line 47))\n",
            "Downloading comm-0.2.3-py3-none-any.whl.metadata (3.7 kB)\n",
            "Requirement already satisfied: ipython>=6.1.0 in /usr/local/lib/python3.12/dist-packages (from ipywidgets~=8.1.7->-r https://raw.githubusercontent.com/jeremiedecock/polytechnique-csc-53439-ep-2025-students/main/requirements_lab1_google_colab.txt (line 47)) (7.34.0)\n",
            "Requirement already satisfied: traitlets>=4.3.1 in /usr/local/lib/python3.12/dist-packages (from ipywidgets~=8.1.7->-r https://raw.githubusercontent.com/jeremiedecock/polytechnique-csc-53439-ep-2025-students/main/requirements_lab1_google_colab.txt (line 47)) (5.7.1)\n",
            "Collecting widgetsnbextension~=4.0.14 (from ipywidgets~=8.1.7->-r https://raw.githubusercontent.com/jeremiedecock/polytechnique-csc-53439-ep-2025-students/main/requirements_lab1_google_colab.txt (line 47))\n",
            "Downloading widgetsnbextension-4.0.14-py3-none-any.whl.metadata (1.6 kB)\n",
            "Requirement already satisfied: jupyterlab_widgets~=3.0.15 in /usr/local/lib/python3.12/dist-packages (from ipywidgets~=8.1.7->-r https://raw.githubusercontent.com/jeremiedecock/polytechnique-csc-53439-ep-2025-students/main/requirements_lab1_google_colab.txt (line 47)) (3.0.15)\n",
            "Requirement already satisfied: contourpy>=1.0.1 in /usr/local/lib/python3.12/dist-packages (from matplotlib~=3.10.6->-r https://raw.githubusercontent.com/jeremiedecock/polytechnique-csc-53439-ep-2025-students/main/requirements_lab1_google_colab.txt (line 49)) (1.3.3)\n",
            "Requirement already satisfied: cycler>=0.10 in /usr/local/lib/python3.12/dist-packages (from matplotlib~=3.10.6->-r https://raw.githubusercontent.com/jeremiedecock/polytechnique-csc-53439-ep-2025-students/main/requirements_lab1_google_colab.txt (line 49)) (0.12.1)\n",
            "Requirement already satisfied: fonttools>=4.22.0 in /usr/local/lib/python3.12/dist-packages (from matplotlib~=3.10.6->-r https://raw.githubusercontent.com/jeremiedecock/polytechnique-csc-53439-ep-2025-students/main/requirements_lab1_google_colab.txt (line 49)) (4.60.0)\n",
            "Requirement already satisfied: kiwisolver>=1.3.1 in /usr/local/lib/python3.12/dist-packages (from matplotlib~=3.10.6->-r https://raw.githubusercontent.com/jeremiedecock/polytechnique-csc-53439-ep-2025-students/main/requirements_lab1_google_colab.txt (line 49)) (1.4.9)\n",
            "Requirement already satisfied: packaging>=20.0 in /usr/local/lib/python3.12/dist-packages (from matplotlib~=3.10.6->-r https://raw.githubusercontent.com/jeremiedecock/polytechnique-csc-53439-ep-2025-students/main/requirements_lab1_google_colab.txt (line 49)) (25.0)\n",
            "Requirement already satisfied: pyparsing>=2.3.1 in /usr/local/lib/python3.12/dist-packages (from matplotlib~=3.10.6->-r https://raw.githubusercontent.com/jeremiedecock/polytechnique-csc-53439-ep-2025-students/main/requirements_lab1_google_colab.txt (line 49)) (3.2.4)\n",
            "Requirement already satisfied: python-dateutil>=2.7 in /usr/local/lib/python3.12/dist-packages (from matplotlib~=3.10.6->-r https://raw.githubusercontent.com/jeremiedecock/polytechnique-csc-53439-ep-2025-students/main/requirements_lab1_google_colab.txt (line 49)) (2.9.0.post0)\n",
            "Requirement already satisfied: pytz>=2020.1 in /usr/local/lib/python3.12/dist-packages (from pandas~=2.3.2->-r https://raw.githubusercontent.com/jeremiedecock/polytechnique-csc-53439-ep-2025-students/main/requirements_lab1_google_colab.txt (line 51)) (2025.2)\n",
            "Requirement already satisfied: tzdata>=2022.7 in /usr/local/lib/python3.12/dist-packages (from pandas~=2.3.2->-r https://raw.githubusercontent.com/jeremiedecock/polytechnique-csc-53439-ep-2025-students/main/requirements_lab1_google_colab.txt (line 51)) (2025.2)\n",
            "Collecting aim-ui==3.29.1 (from aim~=3.29.1->-r https://raw.githubusercontent.com/jeremiedecock/polytechnique-csc-53439-ep-2025-students/main/requirements_lab1_google_colab.txt (line 62))\n",
            "Downloading aim-ui-3.29.1.tar.gz (31.0 MB)\n",
            "━━━━━━━━━━━━━━━━━━━━━━━━━━━━━━━━━━━━━━━━ 31.0/31.0 MB 63.9 MB/s eta 0:00:00\n",
            "Preparing metadata (setup.py): started\n",
            "Preparing metadata (setup.py): finished with status 'done'\n",
            "Collecting aimrecords==0.0.7 (from aim~=3.29.1->-r https://raw.githubusercontent.com/jeremiedecock/polytechnique-csc-53439-ep-2025-students/main/requirements_lab1_google_colab.txt (line 62))\n",
            "Downloading aimrecords-0.0.7-py2.py3-none-any.whl.metadata (2.1 kB)\n",
            "Collecting aimrocks==0.5.* (from aim~=3.29.1->-r https://raw.githubusercontent.com/jeremiedecock/polytechnique-csc-53439-ep-2025-students/main/requirements_lab1_google_colab.txt (line 62))\n",
            "Downloading aimrocks-0.5.2-cp312-cp312-manylinux_2_17_x86_64.manylinux2014_x86_64.whl.metadata (580 bytes)\n",
            "Requirement already satisfied: cachetools>=4.0.0 in /usr/local/lib/python3.12/dist-packages (from aim~=3.29.1->-r https://raw.githubusercontent.com/jeremiedecock/polytechnique-csc-53439-ep-2025-students/main/requirements_lab1_google_colab.txt (line 62)) (5.5.2)\n",
            "Requirement already satisfied: click>=7.0 in /usr/local/lib/python3.12/dist-packages (from aim~=3.29.1->-r https://raw.githubusercontent.com/jeremiedecock/polytechnique-csc-53439-ep-2025-students/main/requirements_lab1_google_colab.txt (line 62)) (8.2.1)\n",
            "Requirement already satisfied: cryptography>=3.0 in /usr/local/lib/python3.12/dist-packages (from aim~=3.29.1->-r https://raw.githubusercontent.com/jeremiedecock/polytechnique-csc-53439-ep-2025-students/main/requirements_lab1_google_colab.txt (line 62)) (43.0.3)\n",
            "Requirement already satisfied: psutil>=5.6.7 in /usr/local/lib/python3.12/dist-packages (from aim~=3.29.1->-r https://raw.githubusercontent.com/jeremiedecock/polytechnique-csc-53439-ep-2025-students/main/requirements_lab1_google_colab.txt (line 62)) (5.9.5)\n",
            "Collecting RestrictedPython>=5.1 (from aim~=3.29.1->-r https://raw.githubusercontent.com/jeremiedecock/polytechnique-csc-53439-ep-2025-students/main/requirements_lab1_google_colab.txt (line 62))\n",
            "Downloading RestrictedPython-8.0-py3-none-any.whl.metadata (14 kB)\n",
            "Requirement already satisfied: aiofiles>=0.5.0 in /usr/local/lib/python3.12/dist-packages (from aim~=3.29.1->-r https://raw.githubusercontent.com/jeremiedecock/polytechnique-csc-53439-ep-2025-students/main/requirements_lab1_google_colab.txt (line 62)) (24.1.0)\n",
            "Requirement already satisfied: alembic<2,>=1.5.0 in /usr/local/lib/python3.12/dist-packages (from aim~=3.29.1->-r https://raw.githubusercontent.com/jeremiedecock/polytechnique-csc-53439-ep-2025-students/main/requirements_lab1_google_colab.txt (line 62)) (1.16.5)\n",
            "Requirement already satisfied: fastapi<1,>=0.69.0 in /usr/local/lib/python3.12/dist-packages (from aim~=3.29.1->-r https://raw.githubusercontent.com/jeremiedecock/polytechnique-csc-53439-ep-2025-students/main/requirements_lab1_google_colab.txt (line 62)) (0.116.2)\n",
            "Requirement already satisfied: SQLAlchemy>=1.4.1 in /usr/local/lib/python3.12/dist-packages (from aim~=3.29.1->-r https://raw.githubusercontent.com/jeremiedecock/polytechnique-csc-53439-ep-2025-students/main/requirements_lab1_google_colab.txt (line 62)) (2.0.43)\n",
            "Requirement already satisfied: uvicorn<1,>=0.12.0 in /usr/local/lib/python3.12/dist-packages (from aim~=3.29.1->-r https://raw.githubusercontent.com/jeremiedecock/polytechnique-csc-53439-ep-2025-students/main/requirements_lab1_google_colab.txt (line 62)) (0.35.0)\n",
            "Requirement already satisfied: requests in /usr/local/lib/python3.12/dist-packages (from aim~=3.29.1->-r https://raw.githubusercontent.com/jeremiedecock/polytechnique-csc-53439-ep-2025-students/main/requirements_lab1_google_colab.txt (line 62)) (2.32.4)\n",
            "Requirement already satisfied: watchdog in /usr/local/lib/python3.12/dist-packages (from aim~=3.29.1->-r https://raw.githubusercontent.com/jeremiedecock/polytechnique-csc-53439-ep-2025-students/main/requirements_lab1_google_colab.txt (line 62)) (6.0.0)\n",
            "Requirement already satisfied: websockets in /usr/local/lib/python3.12/dist-packages (from aim~=3.29.1->-r https://raw.githubusercontent.com/jeremiedecock/polytechnique-csc-53439-ep-2025-students/main/requirements_lab1_google_colab.txt (line 62)) (15.0.1)\n",
            "Collecting boto3 (from aim~=3.29.1->-r https://raw.githubusercontent.com/jeremiedecock/polytechnique-csc-53439-ep-2025-students/main/requirements_lab1_google_colab.txt (line 62))\n",
            "Downloading boto3-1.40.44-py3-none-any.whl.metadata (6.7 kB)\n",
            "Collecting base58==2.0.1 (from aimrecords==0.0.7->aim~=3.29.1->-r https://raw.githubusercontent.com/jeremiedecock/polytechnique-csc-53439-ep-2025-students/main/requirements_lab1_google_colab.txt (line 62))\n",
            "Downloading base58-2.0.1-py3-none-any.whl.metadata (540 bytes)\n",
            "Collecting colorlog (from optuna~=4.5.0->-r https://raw.githubusercontent.com/jeremiedecock/polytechnique-csc-53439-ep-2025-students/main/requirements_lab1_google_colab.txt (line 64))\n",
            "Downloading colorlog-6.9.0-py3-none-any.whl.metadata (10 kB)\n",
            "Requirement already satisfied: PyYAML in /usr/local/lib/python3.12/dist-packages (from optuna~=4.5.0->-r https://raw.githubusercontent.com/jeremiedecock/polytechnique-csc-53439-ep-2025-students/main/requirements_lab1_google_colab.txt (line 64)) (6.0.2)\n",
            "Requirement already satisfied: absl-py>=0.4 in /usr/local/lib/python3.12/dist-packages (from tensorboard~=2.20.0->-r https://raw.githubusercontent.com/jeremiedecock/polytechnique-csc-53439-ep-2025-students/main/requirements_lab1_google_colab.txt (line 66)) (1.4.0)\n",
            "Requirement already satisfied: grpcio>=1.48.2 in /usr/local/lib/python3.12/dist-packages (from tensorboard~=2.20.0->-r https://raw.githubusercontent.com/jeremiedecock/polytechnique-csc-53439-ep-2025-students/main/requirements_lab1_google_colab.txt (line 66)) (1.75.0)\n",
            "Requirement already satisfied: markdown>=2.6.8 in /usr/local/lib/python3.12/dist-packages (from tensorboard~=2.20.0->-r https://raw.githubusercontent.com/jeremiedecock/polytechnique-csc-53439-ep-2025-students/main/requirements_lab1_google_colab.txt (line 66)) (3.9)\n",
            "Requirement already satisfied: protobuf!=4.24.0,>=3.19.6 in /usr/local/lib/python3.12/dist-packages (from tensorboard~=2.20.0->-r https://raw.githubusercontent.com/jeremiedecock/polytechnique-csc-53439-ep-2025-students/main/requirements_lab1_google_colab.txt (line 66)) (5.29.5)\n",
            "Requirement already satisfied: tensorboard-data-server<0.8.0,>=0.7.0 in /usr/local/lib/python3.12/dist-packages (from tensorboard~=2.20.0->-r https://raw.githubusercontent.com/jeremiedecock/polytechnique-csc-53439-ep-2025-students/main/requirements_lab1_google_colab.txt (line 66)) (0.7.2)\n",
            "Requirement already satisfied: werkzeug>=1.0.1 in /usr/local/lib/python3.12/dist-packages (from tensorboard~=2.20.0->-r https://raw.githubusercontent.com/jeremiedecock/polytechnique-csc-53439-ep-2025-students/main/requirements_lab1_google_colab.txt (line 66)) (3.1.3)\n",
            "Requirement already satisfied: markdown-it-py>=1.0 in /usr/local/lib/python3.12/dist-packages (from jupytext~=1.17.3->-r https://raw.githubusercontent.com/jeremiedecock/polytechnique-csc-53439-ep-2025-students/main/requirements_lab1_google_colab.txt (line 72)) (4.0.0)\n",
            "Requirement already satisfied: mdit-py-plugins in /usr/local/lib/python3.12/dist-packages (from jupytext~=1.17.3->-r https://raw.githubusercontent.com/jeremiedecock/polytechnique-csc-53439-ep-2025-students/main/requirements_lab1_google_colab.txt (line 72)) (0.5.0)\n",
            "Requirement already satisfied: nbformat in /usr/local/lib/python3.12/dist-packages (from jupytext~=1.17.3->-r https://raw.githubusercontent.com/jeremiedecock/polytechnique-csc-53439-ep-2025-students/main/requirements_lab1_google_colab.txt (line 72)) (5.10.4)\n",
            "Collecting mypy_extensions>=1.0.0 (from mypy~=1.18.2->-r https://raw.githubusercontent.com/jeremiedecock/polytechnique-csc-53439-ep-2025-students/main/requirements_lab1_google_colab.txt (line 73))\n",
            "Downloading mypy_extensions-1.1.0-py3-none-any.whl.metadata (1.1 kB)\n",
            "Collecting pathspec>=0.9.0 (from mypy~=1.18.2->-r https://raw.githubusercontent.com/jeremiedecock/polytechnique-csc-53439-ep-2025-students/main/requirements_lab1_google_colab.txt (line 73))\n",
            "Downloading pathspec-0.12.1-py3-none-any.whl.metadata (21 kB)\n",
            "Requirement already satisfied: pygame>=2.1.3 in /usr/local/lib/python3.12/dist-packages (from gymnasium[classic-control]~=1.2.1->-r https://raw.githubusercontent.com/jeremiedecock/polytechnique-csc-53439-ep-2025-students/main/requirements_lab1_google_colab.txt (line 23)) (2.6.1)\n",
            "Requirement already satisfied: Mako in /usr/local/lib/python3.12/dist-packages (from alembic<2,>=1.5.0->aim~=3.29.1->-r https://raw.githubusercontent.com/jeremiedecock/polytechnique-csc-53439-ep-2025-students/main/requirements_lab1_google_colab.txt (line 62)) (1.3.10)\n",
            "Requirement already satisfied: cffi>=1.12 in /usr/local/lib/python3.12/dist-packages (from cryptography>=3.0->aim~=3.29.1->-r https://raw.githubusercontent.com/jeremiedecock/polytechnique-csc-53439-ep-2025-students/main/requirements_lab1_google_colab.txt (line 62)) (2.0.0)\n",
            "Requirement already satisfied: starlette<0.49.0,>=0.40.0 in /usr/local/lib/python3.12/dist-packages (from fastapi<1,>=0.69.0->aim~=3.29.1->-r https://raw.githubusercontent.com/jeremiedecock/polytechnique-csc-53439-ep-2025-students/main/requirements_lab1_google_colab.txt (line 62)) (0.48.0)\n",
            "Requirement already satisfied: pydantic!=1.8,!=1.8.1,!=2.0.0,!=2.0.1,!=2.1.0,<3.0.0,>=1.7.4 in /usr/local/lib/python3.12/dist-packages (from fastapi<1,>=0.69.0->aim~=3.29.1->-r https://raw.githubusercontent.com/jeremiedecock/polytechnique-csc-53439-ep-2025-students/main/requirements_lab1_google_colab.txt (line 62)) (2.11.9)\n",
            "Collecting jedi>=0.16 (from ipython>=6.1.0->ipywidgets~=8.1.7->-r https://raw.githubusercontent.com/jeremiedecock/polytechnique-csc-53439-ep-2025-students/main/requirements_lab1_google_colab.txt (line 47))\n",
            "Downloading jedi-0.19.2-py2.py3-none-any.whl.metadata (22 kB)\n",
            "Requirement already satisfied: decorator in /usr/local/lib/python3.12/dist-packages (from ipython>=6.1.0->ipywidgets~=8.1.7->-r https://raw.githubusercontent.com/jeremiedecock/polytechnique-csc-53439-ep-2025-students/main/requirements_lab1_google_colab.txt (line 47)) (4.4.2)\n",
            "Requirement already satisfied: pickleshare in /usr/local/lib/python3.12/dist-packages (from ipython>=6.1.0->ipywidgets~=8.1.7->-r https://raw.githubusercontent.com/jeremiedecock/polytechnique-csc-53439-ep-2025-students/main/requirements_lab1_google_colab.txt (line 47)) (0.7.5)\n",
            "Requirement already satisfied: prompt-toolkit!=3.0.0,!=3.0.1,<3.1.0,>=2.0.0 in /usr/local/lib/python3.12/dist-packages (from ipython>=6.1.0->ipywidgets~=8.1.7->-r https://raw.githubusercontent.com/jeremiedecock/polytechnique-csc-53439-ep-2025-students/main/requirements_lab1_google_colab.txt (line 47)) (3.0.52)\n",
            "Requirement already satisfied: pygments in /usr/local/lib/python3.12/dist-packages (from ipython>=6.1.0->ipywidgets~=8.1.7->-r https://raw.githubusercontent.com/jeremiedecock/polytechnique-csc-53439-ep-2025-students/main/requirements_lab1_google_colab.txt (line 47)) (2.19.2)\n",
            "Requirement already satisfied: backcall in /usr/local/lib/python3.12/dist-packages (from ipython>=6.1.0->ipywidgets~=8.1.7->-r https://raw.githubusercontent.com/jeremiedecock/polytechnique-csc-53439-ep-2025-students/main/requirements_lab1_google_colab.txt (line 47)) (0.2.0)\n",
            "Requirement already satisfied: matplotlib-inline in /usr/local/lib/python3.12/dist-packages (from ipython>=6.1.0->ipywidgets~=8.1.7->-r https://raw.githubusercontent.com/jeremiedecock/polytechnique-csc-53439-ep-2025-students/main/requirements_lab1_google_colab.txt (line 47)) (0.1.7)\n",
            "Requirement already satisfied: pexpect>4.3 in /usr/local/lib/python3.12/dist-packages (from ipython>=6.1.0->ipywidgets~=8.1.7->-r https://raw.githubusercontent.com/jeremiedecock/polytechnique-csc-53439-ep-2025-students/main/requirements_lab1_google_colab.txt (line 47)) (4.9.0)\n",
            "Requirement already satisfied: MarkupSafe>=2.0 in /usr/local/lib/python3.12/dist-packages (from jinja2->torch~=2.8.0->-r https://raw.githubusercontent.com/jeremiedecock/polytechnique-csc-53439-ep-2025-students/main/requirements_lab1_google_colab.txt (line 13)) (3.0.2)\n",
            "Requirement already satisfied: mdurl~=0.1 in /usr/local/lib/python3.12/dist-packages (from markdown-it-py>=1.0->jupytext~=1.17.3->-r https://raw.githubusercontent.com/jeremiedecock/polytechnique-csc-53439-ep-2025-students/main/requirements_lab1_google_colab.txt (line 72)) (0.1.2)\n",
            "Requirement already satisfied: six>=1.5 in /usr/local/lib/python3.12/dist-packages (from python-dateutil>=2.7->matplotlib~=3.10.6->-r https://raw.githubusercontent.com/jeremiedecock/polytechnique-csc-53439-ep-2025-students/main/requirements_lab1_google_colab.txt (line 49)) (1.17.0)\n",
            "Requirement already satisfied: greenlet>=1 in /usr/local/lib/python3.12/dist-packages (from SQLAlchemy>=1.4.1->aim~=3.29.1->-r https://raw.githubusercontent.com/jeremiedecock/polytechnique-csc-53439-ep-2025-students/main/requirements_lab1_google_colab.txt (line 62)) (3.2.4)\n",
            "Requirement already satisfied: mpmath<1.4,>=1.1.0 in /usr/local/lib/python3.12/dist-packages (from sympy>=1.13.3->torch~=2.8.0->-r https://raw.githubusercontent.com/jeremiedecock/polytechnique-csc-53439-ep-2025-students/main/requirements_lab1_google_colab.txt (line 13)) (1.3.0)\n",
            "Requirement already satisfied: h11>=0.8 in /usr/local/lib/python3.12/dist-packages (from uvicorn<1,>=0.12.0->aim~=3.29.1->-r https://raw.githubusercontent.com/jeremiedecock/polytechnique-csc-53439-ep-2025-students/main/requirements_lab1_google_colab.txt (line 62)) (0.16.0)\n",
            "Collecting botocore<1.41.0,>=1.40.44 (from boto3->aim~=3.29.1->-r https://raw.githubusercontent.com/jeremiedecock/polytechnique-csc-53439-ep-2025-students/main/requirements_lab1_google_colab.txt (line 62))\n",
            "Downloading botocore-1.40.44-py3-none-any.whl.metadata (5.7 kB)\n",
            "Collecting jmespath<2.0.0,>=0.7.1 (from boto3->aim~=3.29.1->-r https://raw.githubusercontent.com/jeremiedecock/polytechnique-csc-53439-ep-2025-students/main/requirements_lab1_google_colab.txt (line 62))\n",
            "Downloading jmespath-1.0.1-py3-none-any.whl.metadata (7.6 kB)\n",
            "Collecting s3transfer<0.15.0,>=0.14.0 (from boto3->aim~=3.29.1->-r https://raw.githubusercontent.com/jeremiedecock/polytechnique-csc-53439-ep-2025-students/main/requirements_lab1_google_colab.txt (line 62))\n",
            "Downloading s3transfer-0.14.0-py3-none-any.whl.metadata (1.7 kB)\n",
            "Requirement already satisfied: fastjsonschema>=2.15 in /usr/local/lib/python3.12/dist-packages (from nbformat->jupytext~=1.17.3->-r https://raw.githubusercontent.com/jeremiedecock/polytechnique-csc-53439-ep-2025-students/main/requirements_lab1_google_colab.txt (line 72)) (2.21.2)\n",
            "Requirement already satisfied: jsonschema>=2.6 in /usr/local/lib/python3.12/dist-packages (from nbformat->jupytext~=1.17.3->-r https://raw.githubusercontent.com/jeremiedecock/polytechnique-csc-53439-ep-2025-students/main/requirements_lab1_google_colab.txt (line 72)) (4.25.1)\n",
            "Requirement already satisfied: jupyter-core!=5.0.*,>=4.12 in /usr/local/lib/python3.12/dist-packages (from nbformat->jupytext~=1.17.3->-r https://raw.githubusercontent.com/jeremiedecock/polytechnique-csc-53439-ep-2025-students/main/requirements_lab1_google_colab.txt (line 72)) (5.8.1)\n",
            "Requirement already satisfied: charset_normalizer<4,>=2 in /usr/local/lib/python3.12/dist-packages (from requests->aim~=3.29.1->-r https://raw.githubusercontent.com/jeremiedecock/polytechnique-csc-53439-ep-2025-students/main/requirements_lab1_google_colab.txt (line 62)) (3.4.3)\n",
            "Requirement already satisfied: idna<4,>=2.5 in /usr/local/lib/python3.12/dist-packages (from requests->aim~=3.29.1->-r https://raw.githubusercontent.com/jeremiedecock/polytechnique-csc-53439-ep-2025-students/main/requirements_lab1_google_colab.txt (line 62)) (3.10)\n",
            "Requirement already satisfied: urllib3<3,>=1.21.1 in /usr/local/lib/python3.12/dist-packages (from requests->aim~=3.29.1->-r https://raw.githubusercontent.com/jeremiedecock/polytechnique-csc-53439-ep-2025-students/main/requirements_lab1_google_colab.txt (line 62)) (2.5.0)\n",
            "Requirement already satisfied: certifi>=2017.4.17 in /usr/local/lib/python3.12/dist-packages (from requests->aim~=3.29.1->-r https://raw.githubusercontent.com/jeremiedecock/polytechnique-csc-53439-ep-2025-students/main/requirements_lab1_google_colab.txt (line 62)) (2025.8.3)\n",
            "Requirement already satisfied: pycparser in /usr/local/lib/python3.12/dist-packages (from cffi>=1.12->cryptography>=3.0->aim~=3.29.1->-r https://raw.githubusercontent.com/jeremiedecock/polytechnique-csc-53439-ep-2025-students/main/requirements_lab1_google_colab.txt (line 62)) (2.23)\n",
            "Requirement already satisfied: parso<0.9.0,>=0.8.4 in /usr/local/lib/python3.12/dist-packages (from jedi>=0.16->ipython>=6.1.0->ipywidgets~=8.1.7->-r https://raw.githubusercontent.com/jeremiedecock/polytechnique-csc-53439-ep-2025-students/main/requirements_lab1_google_colab.txt (line 47)) (0.8.5)\n",
            "Requirement already satisfied: attrs>=22.2.0 in /usr/local/lib/python3.12/dist-packages (from jsonschema>=2.6->nbformat->jupytext~=1.17.3->-r https://raw.githubusercontent.com/jeremiedecock/polytechnique-csc-53439-ep-2025-students/main/requirements_lab1_google_colab.txt (line 72)) (25.3.0)\n",
            "Requirement already satisfied: jsonschema-specifications>=2023.03.6 in /usr/local/lib/python3.12/dist-packages (from jsonschema>=2.6->nbformat->jupytext~=1.17.3->-r https://raw.githubusercontent.com/jeremiedecock/polytechnique-csc-53439-ep-2025-students/main/requirements_lab1_google_colab.txt (line 72)) (2025.9.1)\n",
            "Requirement already satisfied: referencing>=0.28.4 in /usr/local/lib/python3.12/dist-packages (from jsonschema>=2.6->nbformat->jupytext~=1.17.3->-r https://raw.githubusercontent.com/jeremiedecock/polytechnique-csc-53439-ep-2025-students/main/requirements_lab1_google_colab.txt (line 72)) (0.36.2)\n",
            "Requirement already satisfied: rpds-py>=0.7.1 in /usr/local/lib/python3.12/dist-packages (from jsonschema>=2.6->nbformat->jupytext~=1.17.3->-r https://raw.githubusercontent.com/jeremiedecock/polytechnique-csc-53439-ep-2025-students/main/requirements_lab1_google_colab.txt (line 72)) (0.27.1)\n",
            "Requirement already satisfied: platformdirs>=2.5 in /usr/local/lib/python3.12/dist-packages (from jupyter-core!=5.0.*,>=4.12->nbformat->jupytext~=1.17.3->-r https://raw.githubusercontent.com/jeremiedecock/polytechnique-csc-53439-ep-2025-students/main/requirements_lab1_google_colab.txt (line 72)) (4.4.0)\n",
            "Requirement already satisfied: ptyprocess>=0.5 in /usr/local/lib/python3.12/dist-packages (from pexpect>4.3->ipython>=6.1.0->ipywidgets~=8.1.7->-r https://raw.githubusercontent.com/jeremiedecock/polytechnique-csc-53439-ep-2025-students/main/requirements_lab1_google_colab.txt (line 47)) (0.7.0)\n",
            "Requirement already satisfied: wcwidth in /usr/local/lib/python3.12/dist-packages (from prompt-toolkit!=3.0.0,!=3.0.1,<3.1.0,>=2.0.0->ipython>=6.1.0->ipywidgets~=8.1.7->-r https://raw.githubusercontent.com/jeremiedecock/polytechnique-csc-53439-ep-2025-students/main/requirements_lab1_google_colab.txt (line 47)) (0.2.13)\n",
            "Requirement already satisfied: annotated-types>=0.6.0 in /usr/local/lib/python3.12/dist-packages (from pydantic!=1.8,!=1.8.1,!=2.0.0,!=2.0.1,!=2.1.0,<3.0.0,>=1.7.4->fastapi<1,>=0.69.0->aim~=3.29.1->-r https://raw.githubusercontent.com/jeremiedecock/polytechnique-csc-53439-ep-2025-students/main/requirements_lab1_google_colab.txt (line 62)) (0.7.0)\n",
            "Requirement already satisfied: pydantic-core==2.33.2 in /usr/local/lib/python3.12/dist-packages (from pydantic!=1.8,!=1.8.1,!=2.0.0,!=2.0.1,!=2.1.0,<3.0.0,>=1.7.4->fastapi<1,>=0.69.0->aim~=3.29.1->-r https://raw.githubusercontent.com/jeremiedecock/polytechnique-csc-53439-ep-2025-students/main/requirements_lab1_google_colab.txt (line 62)) (2.33.2)\n",
            "Requirement already satisfied: typing-inspection>=0.4.0 in /usr/local/lib/python3.12/dist-packages (from pydantic!=1.8,!=1.8.1,!=2.0.0,!=2.0.1,!=2.1.0,<3.0.0,>=1.7.4->fastapi<1,>=0.69.0->aim~=3.29.1->-r https://raw.githubusercontent.com/jeremiedecock/polytechnique-csc-53439-ep-2025-students/main/requirements_lab1_google_colab.txt (line 62)) (0.4.1)\n",
            "Requirement already satisfied: anyio<5,>=3.6.2 in /usr/local/lib/python3.12/dist-packages (from starlette<0.49.0,>=0.40.0->fastapi<1,>=0.69.0->aim~=3.29.1->-r https://raw.githubusercontent.com/jeremiedecock/polytechnique-csc-53439-ep-2025-students/main/requirements_lab1_google_colab.txt (line 62)) (4.10.0)\n",
            "Requirement already satisfied: sniffio>=1.1 in /usr/local/lib/python3.12/dist-packages (from anyio<5,>=3.6.2->starlette<0.49.0,>=0.40.0->fastapi<1,>=0.69.0->aim~=3.29.1->-r https://raw.githubusercontent.com/jeremiedecock/polytechnique-csc-53439-ep-2025-students/main/requirements_lab1_google_colab.txt (line 62)) (1.3.1)\n",
            "Downloading gymnasium-1.2.1-py3-none-any.whl (951 kB)\n",
            "━━━━━━━━━━━━━━━━━━━━━━━━━━━━━━━━━━━━━━━━ 951.1/951.1 kB 52.8 MB/s eta 0:00:00\n",
            "Downloading ipywidgets-8.1.7-py3-none-any.whl (139 kB)\n",
            "━━━━━━━━━━━━━━━━━━━━━━━━━━━━━━━━━━━━━━━━ 139.8/139.8 kB 10.2 MB/s eta 0:00:00\n",
            "Downloading matplotlib-3.10.6-cp312-cp312-manylinux2014_x86_64.manylinux_2_17_x86_64.whl (8.7 MB)\n",
            "━━━━━━━━━━━━━━━━━━━━━━━━━━━━━━━━━━━━━━━━ 8.7/8.7 MB 109.6 MB/s eta 0:00:00\n",
            "Downloading pandas-2.3.3-cp312-cp312-manylinux_2_24_x86_64.manylinux_2_28_x86_64.whl (12.4 MB)\n",
            "━━━━━━━━━━━━━━━━━━━━━━━━━━━━━━━━━━━━━━━━ 12.4/12.4 MB 114.3 MB/s eta 0:00:00\n",
            "Downloading PyVirtualDisplay-3.0-py3-none-any.whl (15 kB)\n",
            "Downloading aim-3.29.1-cp312-cp312-manylinux_2_28_x86_64.whl (7.6 MB)\n",
            "━━━━━━━━━━━━━━━━━━━━━━━━━━━━━━━━━━━━━━━━ 7.6/7.6 MB 94.1 MB/s eta 0:00:00\n",
            "Downloading aimrecords-0.0.7-py2.py3-none-any.whl (28 kB)\n",
            "Downloading aimrocks-0.5.2-cp312-cp312-manylinux_2_17_x86_64.manylinux2014_x86_64.whl (6.7 MB)\n",
            "━━━━━━━━━━━━━━━━━━━━━━━━━━━━━━━━━━━━━━━━ 6.7/6.7 MB 93.3 MB/s eta 0:00:00\n",
            "Downloading base58-2.0.1-py3-none-any.whl (4.3 kB)\n",
            "Downloading optuna-4.5.0-py3-none-any.whl (400 kB)\n",
            "━━━━━━━━━━━━━━━━━━━━━━━━━━━━━━━━━━━━━━━━ 400.9/400.9 kB 28.3 MB/s eta 0:00:00\n",
            "Downloading tensorboard-2.20.0-py3-none-any.whl (5.5 MB)\n",
            "━━━━━━━━━━━━━━━━━━━━━━━━━━━━━━━━━━━━━━━━ 5.5/5.5 MB 88.2 MB/s eta 0:00:00\n",
            "Downloading mypy-1.18.2-cp312-cp312-manylinux2014_x86_64.manylinux_2_17_x86_64.manylinux_2_28_x86_64.whl (13.3 MB)\n",
            "━━━━━━━━━━━━━━━━━━━━━━━━━━━━━━━━━━━━━━━━ 13.3/13.3 MB 112.9 MB/s eta 0:00:00\n",
            "Downloading ruff-0.13.3-py3-none-manylinux_2_17_x86_64.manylinux2014_x86_64.whl (13.4 MB)\n",
            "━━━━━━━━━━━━━━━━━━━━━━━━━━━━━━━━━━━━━━━━ 13.4/13.4 MB 107.2 MB/s eta 0:00:00\n",
            "Downloading comm-0.2.3-py3-none-any.whl (7.3 kB)\n",
            "Downloading mypy_extensions-1.1.0-py3-none-any.whl (5.0 kB)\n",
            "Downloading pathspec-0.12.1-py3-none-any.whl (31 kB)\n",
            "Downloading RestrictedPython-8.0-py3-none-any.whl (27 kB)\n",
            "Downloading widgetsnbextension-4.0.14-py3-none-any.whl (2.2 MB)\n",
            "━━━━━━━━━━━━━━━━━━━━━━━━━━━━━━━━━━━━━━━━ 2.2/2.2 MB 79.3 MB/s eta 0:00:00\n",
            "Downloading boto3-1.40.44-py3-none-any.whl (139 kB)\n",
            "━━━━━━━━━━━━━━━━━━━━━━━━━━━━━━━━━━━━━━━━ 139.3/139.3 kB 10.5 MB/s eta 0:00:00\n",
            "Downloading colorlog-6.9.0-py3-none-any.whl (11 kB)\n",
            "Downloading botocore-1.40.44-py3-none-any.whl (14.1 MB)\n",
            "━━━━━━━━━━━━━━━━━━━━━━━━━━━━━━━━━━━━━━━━ 14.1/14.1 MB 108.8 MB/s eta 0:00:00\n",
            "Downloading jedi-0.19.2-py2.py3-none-any.whl (1.6 MB)\n",
            "━━━━━━━━━━━━━━━━━━━━━━━━━━━━━━━━━━━━━━━━ 1.6/1.6 MB 69.4 MB/s eta 0:00:00\n",
            "Downloading jmespath-1.0.1-py3-none-any.whl (20 kB)\n",
            "Downloading s3transfer-0.14.0-py3-none-any.whl (85 kB)\n",
            "━━━━━━━━━━━━━━━━━━━━━━━━━━━━━━━━━━━━━━━━ 85.7/85.7 kB 5.8 MB/s eta 0:00:00\n",
            "Building wheels for collected packages: aim-ui\n",
            "Building wheel for aim-ui (setup.py): started\n",
            "Building wheel for aim-ui (setup.py): finished with status 'done'\n",
            "Created wheel for aim-ui: filename=aim_ui-3.29.1-py3-none-any.whl size=31195131 sha256=9452f61189b62fff234f412287613042135acea76066634e5cb5637e88429a16\n",
            "Stored in directory: /root/.cache/pip/wheels/66/52/46/97539bf69f8ac8071748157cd835404e6e6cd7396b809b1782\n",
            "Successfully built aim-ui\n",
            "Installing collected packages: pyvirtualdisplay, aimrocks, aim-ui, widgetsnbextension, ruff, RestrictedPython, pathspec, mypy_extensions, jmespath, jedi, gymnasium, comm, colorlog, base58, tensorboard, pandas, mypy, matplotlib, botocore, aimrecords, s3transfer, optuna, ipywidgets, boto3, aim\n",
            "Attempting uninstall: widgetsnbextension\n",
            "Found existing installation: widgetsnbextension 3.6.10\n",
            "Uninstalling widgetsnbextension-3.6.10:\n",
            "Successfully uninstalled widgetsnbextension-3.6.10\n",
            "Attempting uninstall: ruff\n",
            "Found existing installation: ruff 0.13.0\n",
            "Uninstalling ruff-0.13.0:\n",
            "Successfully uninstalled ruff-0.13.0\n",
            "Attempting uninstall: gymnasium\n",
            "Found existing installation: gymnasium 1.2.0\n",
            "Uninstalling gymnasium-1.2.0:\n",
            "Successfully uninstalled gymnasium-1.2.0\n",
            "Attempting uninstall: tensorboard\n",
            "Found existing installation: tensorboard 2.19.0\n",
            "Uninstalling tensorboard-2.19.0:\n",
            "Successfully uninstalled tensorboard-2.19.0\n",
            "Attempting uninstall: pandas\n",
            "Found existing installation: pandas 2.2.2\n",
            "Uninstalling pandas-2.2.2:\n",
            "Successfully uninstalled pandas-2.2.2\n",
            "Attempting uninstall: matplotlib\n",
            "Found existing installation: matplotlib 3.10.0\n",
            "Uninstalling matplotlib-3.10.0:\n",
            "Successfully uninstalled matplotlib-3.10.0\n",
            "Attempting uninstall: ipywidgets\n",
            "Found existing installation: ipywidgets 7.7.1\n",
            "Uninstalling ipywidgets-7.7.1:\n",
            "Successfully uninstalled ipywidgets-7.7.1\n",
            "Successfully installed RestrictedPython-8.0 aim-3.29.1 aim-ui-3.29.1 aimrecords-0.0.7 aimrocks-0.5.2 base58-2.0.1 boto3-1.40.44 botocore-1.40.44 colorlog-6.9.0 comm-0.2.3 gymnasium-1.2.1 ipywidgets-8.1.7 jedi-0.19.2 jmespath-1.0.1 matplotlib-3.10.6 mypy-1.18.2 mypy_extensions-1.1.0 optuna-4.5.0 pandas-2.3.3 pathspec-0.12.1 pyvirtualdisplay-3.0 ruff-0.13.3 s3transfer-0.14.0 tensorboard-2.20.0 widgetsnbextension-4.0.14\n"
          ]
        }
      ],
      "source": [
        "import sys\n",
        "import subprocess\n",
        "\n",
        "def is_colab():\n",
        "    return \"google.colab\" in sys.modules\n",
        "\n",
        "def run_subprocess_command(cmd):\n",
        "    # run the command\n",
        "    process = subprocess.Popen(cmd.split(), stdout=subprocess.PIPE)\n",
        "    # print the output\n",
        "    for line in process.stdout:\n",
        "        print(line.decode().strip())\n",
        "\n",
        "if is_colab():\n",
        "    # run_subprocess_command(\"apt install xvfb x11-utils\")\n",
        "    run_subprocess_command(\"pip install -r https://raw.githubusercontent.com/jeremiedecock/polytechnique-csc-53439-ep-2025-students/main/requirements_lab1_google_colab.txt\")"
      ]
    },
    {
      "cell_type": "markdown",
      "metadata": {
        "id": "6vDamw2JW9fo"
      },
      "source": [
        "### If you have downloaded the notebook on your computer and execute it in your own Python environment"
      ]
    },
    {
      "cell_type": "markdown",
      "metadata": {
        "id": "o0XdHORYW9fo"
      },
      "source": [
        "To set up the necessary dependencies, run the following commands to establish a [Python virtual environment (venv)](https://docs.python.org/3/library/venv.html) that includes all the essential libraries for this lab.\n",
        "\n",
        "#### On Posix systems (Linux, MacOSX, WSL, ...)\n",
        "\n",
        "```bash\n",
        "python3 -m venv env-lab1\n",
        "source env-lab1/bin/activate\n",
        "python3 -m pip install --upgrade pip\n",
        "python3 -m pip install -r https://raw.githubusercontent.com/jeremiedecock/polytechnique-csc-53439-ep-2025-students/main/requirements_lab1.txt\n",
        "```\n",
        "\n",
        "#### On Windows\n",
        "\n",
        "```bash\n",
        "python3 -m venv env-lab1\n",
        "env-lab1\\Scripts\\activate.bat\n",
        "python3 -m pip install --upgrade pip\n",
        "python3 -m pip install -r https://raw.githubusercontent.com/jeremiedecock/polytechnique-csc-53439-ep-2025-students/main/requirements_lab1.txt\n",
        "```"
      ]
    },
    {
      "cell_type": "markdown",
      "metadata": {
        "id": "noxBC2jnW9fo"
      },
      "source": [
        "### Run CSC-53439-EP notebooks locally in a dedicated Docker container\n",
        "\n",
        "If you are familiar with Docker, an image is available on Docker Hub for this lab:\n",
        "\n",
        "```bash\n",
        "docker run -it --rm --user root -p 8888:8888 -e NB_UID=$(id -u) -e NB_GID=$(id -g) -v \"${PWD}\":/home/jovyan/work jdhp/csc-53439-ep-lab1:latest\n",
        "```"
      ]
    },
    {
      "cell_type": "markdown",
      "metadata": {
        "id": "Oo32tTCQW9fo"
      },
      "source": [
        "### Import required packages"
      ]
    },
    {
      "cell_type": "code",
      "execution_count": 2,
      "metadata": {
        "editable": true,
        "tags": [],
        "id": "xaQSSir-W9fo"
      },
      "outputs": [],
      "source": [
        "import collections\n",
        "import gymnasium as gym\n",
        "import itertools\n",
        "import numpy as np\n",
        "from numpy.typing import NDArray\n",
        "import pandas as pd\n",
        "from pathlib import Path\n",
        "import random\n",
        "import time\n",
        "import torch\n",
        "from torch.optim.lr_scheduler import _LRScheduler\n",
        "from typing import List, Tuple, Deque, Optional, Callable"
      ]
    },
    {
      "cell_type": "code",
      "execution_count": 3,
      "metadata": {
        "id": "wSGedHXAW9fp"
      },
      "outputs": [],
      "source": [
        "%matplotlib inline\n",
        "\n",
        "import matplotlib.pyplot as plt\n",
        "\n",
        "import seaborn as sns\n",
        "from tqdm.notebook import tqdm"
      ]
    },
    {
      "cell_type": "code",
      "execution_count": 4,
      "metadata": {
        "colab": {
          "base_uri": "https://localhost:8080/",
          "height": 36
        },
        "id": "88-ekwoMW9fp",
        "outputId": "db48538b-ff47-4fa5-c7e6-1a5d4e7cf2c9"
      },
      "outputs": [
        {
          "output_type": "execute_result",
          "data": {
            "text/plain": [
              "'1.2.1'"
            ],
            "application/vnd.google.colaboratory.intrinsic+json": {
              "type": "string"
            }
          },
          "metadata": {},
          "execution_count": 4
        }
      ],
      "source": [
        "gym.__version__"
      ]
    },
    {
      "cell_type": "code",
      "execution_count": 5,
      "metadata": {
        "id": "lJ5T688CW9fp"
      },
      "outputs": [],
      "source": [
        "sns.set_context(\"talk\")"
      ]
    },
    {
      "cell_type": "code",
      "execution_count": 6,
      "metadata": {
        "id": "cSoLPJQoW9fq"
      },
      "outputs": [],
      "source": [
        "FIGS_DIR = Path(\"figs/\") / \"lab1\"       # Where to save figures (.gif or .mp4 files)\n",
        "PLOTS_DIR = Path(\"figs/\") / \"lab1\"      # Where to save plots (.png or .svg files)\n",
        "MODELS_DIR = Path(\"models/\") / \"lab1\"   # Where to save models (.pth files)"
      ]
    },
    {
      "cell_type": "code",
      "execution_count": 7,
      "metadata": {
        "editable": true,
        "tags": [],
        "id": "90H-II3OW9fq"
      },
      "outputs": [],
      "source": [
        "if not FIGS_DIR.exists():\n",
        "    FIGS_DIR.mkdir(parents=True)\n",
        "if not PLOTS_DIR.exists():\n",
        "    PLOTS_DIR.mkdir(parents=True)\n",
        "if not MODELS_DIR.exists():\n",
        "    MODELS_DIR.mkdir(parents=True)"
      ]
    },
    {
      "cell_type": "markdown",
      "metadata": {
        "id": "TZR4hVH-W9fq"
      },
      "source": [
        "### Create a Gymnasium rendering wrapper to visualize environments as GIF images within the notebook"
      ]
    },
    {
      "cell_type": "markdown",
      "metadata": {
        "id": "4fyq897PW9fq"
      },
      "source": [
        "This notebook allows you to visualize the episodes as animated GIFs. Run the cell below to enable this feature."
      ]
    },
    {
      "cell_type": "code",
      "execution_count": 8,
      "metadata": {
        "id": "We0FUdPaW9fr"
      },
      "outputs": [],
      "source": [
        "# To display GIF images in the notebook\n",
        "\n",
        "import imageio     # To render episodes in GIF images (otherwise there would be no render on Google Colab)\n",
        "                   # C.f. https://stable-baselines.readthedocs.io/en/master/guide/examples.html#bonus-make-a-gif-of-a-trained-agent\n",
        "import IPython\n",
        "from IPython.display import Image\n",
        "\n",
        "if is_colab():\n",
        "    import pyvirtualdisplay\n",
        "\n",
        "    _display = pyvirtualdisplay.Display(visible=False,  # use False with Xvfb\n",
        "                                        size=(1400, 900))\n",
        "    _ = _display.start()\n",
        "\n",
        "class RenderWrapper:\n",
        "    def __init__(self, env, force_gif=False):\n",
        "        self.env = env\n",
        "        self.force_gif = force_gif\n",
        "        self.reset()\n",
        "\n",
        "    def reset(self):\n",
        "        self.images = []\n",
        "\n",
        "    def render(self):\n",
        "        if not is_colab():\n",
        "            self.env.render()\n",
        "            time.sleep(1./60.)\n",
        "\n",
        "        if is_colab() or self.force_gif:\n",
        "            img = self.env.render()         # Assumes env.render_mode == 'rgb_array'\n",
        "            self.images.append(img)\n",
        "\n",
        "    def make_gif(self, filename=\"render\"):\n",
        "        if is_colab() or self.force_gif:\n",
        "            gif_path = filename.with_suffix('.gif')\n",
        "            imageio.mimsave(gif_path, [np.array(img) for i, img in enumerate(self.images) if i%2 == 0], fps=29, loop=0)\n",
        "            return Image(open(gif_path,'rb').read())\n",
        "\n",
        "    @classmethod\n",
        "    def register(cls, env, force_gif=False):\n",
        "        env.render_wrapper = cls(env, force_gif=True)"
      ]
    },
    {
      "cell_type": "markdown",
      "metadata": {
        "id": "0J0dmBajW9fr"
      },
      "source": [
        "## Define some parameters"
      ]
    },
    {
      "cell_type": "markdown",
      "metadata": {
        "id": "r9l35G1MW9fr"
      },
      "source": [
        "### Number of trainings\n",
        "\n",
        "To achieve more representative outcomes at the conclusion of each exercise, we average the results across multiple training sessions. The `DEFAULT_NUMBER_OF_TRAININGS` variable specifies the number of training sessions conducted before the results are displayed.\n",
        "\n",
        "We recommend setting a lower value (such as 1 or 2) during the development and testing phases of your implementations. Once you have completed your work and are confident in its functionality, you can increase the number of training sessions to minimize the variance in results. Be aware that a higher number of training sessions will extend the execution time, so adjust this setting in accordance with your computer's capabilities.\n",
        "\n",
        "Additionally, you have the option to assign a specific value to the `NUMBER_OF_TRAININGS` variable for each exercise directly within the cells where the training loop is defined (the `NUMBER_OF_TRAININGS` variable is commented out at the beginning of these cells)."
      ]
    },
    {
      "cell_type": "code",
      "execution_count": 9,
      "metadata": {
        "id": "vkeILZyXW9fr"
      },
      "outputs": [],
      "source": [
        "DEFAULT_NUMBER_OF_TRAININGS = 2"
      ]
    },
    {
      "cell_type": "markdown",
      "metadata": {
        "editable": true,
        "tags": [],
        "id": "ZFtJCnP9W9fs"
      },
      "source": [
        "## PyTorch Refresher and Cheat Sheet\n",
        "\n",
        "In this lab, we will be implementing our deep reinforcement learning algorithms using PyTorch.\n",
        "If you need a refresher, you might find this [PyTorch Cheat Sheet](https://web.archive.org/web/20241215022731/https://pytorch.org/tutorials/beginner/ptcheat.html) helpful. It provides a quick reference for many of the most commonly used PyTorch functions and concepts, and can be a valuable resource as you work through this lab.\n",
        "\n",
        "You can also refer to the [official documentation](https://pytorch.org/docs/stable/index.html)."
      ]
    },
    {
      "cell_type": "markdown",
      "metadata": {
        "id": "XO9nm63_W9fs"
      },
      "source": [
        "## PyTorch setup"
      ]
    },
    {
      "cell_type": "markdown",
      "metadata": {
        "id": "bXyOYWw2W9fs"
      },
      "source": [
        "PyTorch can run on both CPUs and GPUs. The following cell will determine the device PyTorch will use. If a GPU is available, PyTorch will use it; otherwise, it will use the CPU."
      ]
    },
    {
      "cell_type": "code",
      "execution_count": 10,
      "metadata": {
        "id": "wvpj4bz5W9fs"
      },
      "outputs": [],
      "source": [
        "device = torch.device(\"cuda\" if torch.cuda.is_available() else \"cpu\")  # Set the device to CUDA if available, otherwise use CPU"
      ]
    },
    {
      "cell_type": "markdown",
      "metadata": {
        "id": "hyYEVqDPW9fs"
      },
      "source": [
        "For utilizing a GPU on Google Colab, you also have to activate it following the steps outlined [here](https://colab.research.google.com/notebooks/gpu.ipynb)."
      ]
    },
    {
      "cell_type": "code",
      "execution_count": 11,
      "metadata": {
        "editable": true,
        "tags": [],
        "colab": {
          "base_uri": "https://localhost:8080/"
        },
        "id": "theiT9DtW9fs",
        "outputId": "02b91b9b-f7bb-4abc-b2ef-f86f5c8ba791"
      },
      "outputs": [
        {
          "output_type": "stream",
          "name": "stdout",
          "text": [
            "Available GPUs:\n",
            "- No GPU available.\n"
          ]
        }
      ],
      "source": [
        "print(\"Available GPUs:\")\n",
        "if torch.cuda.is_available():\n",
        "    for i in range(torch.cuda.device_count()):\n",
        "        print(f\"- Device {i}: {torch.cuda.get_device_name(i)}\")\n",
        "else:\n",
        "    print(\"- No GPU available.\")"
      ]
    },
    {
      "cell_type": "markdown",
      "metadata": {
        "id": "8kF6-0beW9fs"
      },
      "source": [
        "If you have a very recent GPU and want to use it, you might need to install a specific version of PyTorch compatible with your Cuda version. For this, you will have to edit the [requirements-lab1.txt](https://raw.githubusercontent.com/jeremiedecock/polytechnique-csc-53439-ep-2025-students/main/requirements_lab1.txt) file and replace the current version of PyTorch with the one compatible with your Cuda version. Check the [official PyTorch website](https://pytorch.org/get-started/locally/) for more information."
      ]
    },
    {
      "cell_type": "markdown",
      "metadata": {
        "id": "6F09rIKrW9fs"
      },
      "source": [
        "Note that the GPU is not very useful in this lab because CartPole is a simple and quick problem to solve, and CUDA spends more time transferring data between the CPU and GPU than processing it directly on the CPU.\n",
        "\n",
        "You can uncomment the next cell to explicitly instruct PyTorch to train neural networks using the CPU."
      ]
    },
    {
      "cell_type": "code",
      "execution_count": 12,
      "metadata": {
        "id": "-EMPMNLtW9ft"
      },
      "outputs": [],
      "source": [
        "# device = \"cpu\""
      ]
    },
    {
      "cell_type": "code",
      "execution_count": 13,
      "metadata": {
        "colab": {
          "base_uri": "https://localhost:8080/"
        },
        "id": "O5Eyd-a-W9ft",
        "outputId": "476dd34e-a7dd-4ce8-8294-7e7150966127"
      },
      "outputs": [
        {
          "output_type": "stream",
          "name": "stdout",
          "text": [
            "PyTorch will train and test neural networks on cpu\n"
          ]
        }
      ],
      "source": [
        "print(f\"PyTorch will train and test neural networks on {device}\")"
      ]
    },
    {
      "cell_type": "markdown",
      "metadata": {
        "id": "PSXHYJdKW9ft"
      },
      "source": [
        "## Bonus section 1: Monitoring the training process with Tensorboard and Aim\n",
        "\n",
        "Monitoring the training process is crucial for understanding the agent's learning progress. In this section, we will introduce two open-source tools that can help you visualize the training process: Tensorboard and Aim.\n",
        "\n",
        "Tensorflow and Aim are particularly useful for monitoring the training process on a local machine, as they do not require a server to run.\n",
        "Other solutions will be covered in the next tutorials."
      ]
    },
    {
      "cell_type": "markdown",
      "metadata": {
        "id": "17PyZ8W-W9ft"
      },
      "source": [
        "### Monitoring the training process with Tensorboard\n",
        "\n",
        "TensorBoard is a visualization tool developed by Google, primarily used to track and visualize metrics during the training of deep learning models. While initially designed for TensorFlow, it can also be integrated with **PyTorch** through the **torch.utils.tensorboard** API. This allows real-time tracking of metrics such as losses, accuracy, computation graphs, and even examining images, weight distributions, histograms, and more.\n",
        "\n",
        "The following cell demonstrates how to use TensorBoard with PyTorch."
      ]
    },
    {
      "cell_type": "code",
      "execution_count": 14,
      "metadata": {
        "colab": {
          "base_uri": "https://localhost:8080/",
          "height": 356
        },
        "id": "Dy99roYhW9fy",
        "outputId": "16208d33-fee7-47f7-dc9a-0108236f5dba"
      },
      "outputs": [
        {
          "output_type": "error",
          "ename": "KeyboardInterrupt",
          "evalue": "",
          "traceback": [
            "\u001b[0;31m---------------------------------------------------------------------------\u001b[0m",
            "\u001b[0;31mKeyboardInterrupt\u001b[0m                         Traceback (most recent call last)",
            "\u001b[0;32m/tmp/ipython-input-3541129447.py\u001b[0m in \u001b[0;36m<cell line: 0>\u001b[0;34m()\u001b[0m\n\u001b[1;32m     15\u001b[0m \u001b[0;31m# Creating a model, optimizer, and loss function\u001b[0m\u001b[0;34m\u001b[0m\u001b[0;34m\u001b[0m\u001b[0m\n\u001b[1;32m     16\u001b[0m \u001b[0mmodel\u001b[0m \u001b[0;34m=\u001b[0m \u001b[0mSimpleModel\u001b[0m\u001b[0;34m(\u001b[0m\u001b[0;34m)\u001b[0m\u001b[0;34m\u001b[0m\u001b[0;34m\u001b[0m\u001b[0m\n\u001b[0;32m---> 17\u001b[0;31m \u001b[0moptimizer\u001b[0m \u001b[0;34m=\u001b[0m \u001b[0moptim\u001b[0m\u001b[0;34m.\u001b[0m\u001b[0mSGD\u001b[0m\u001b[0;34m(\u001b[0m\u001b[0mmodel\u001b[0m\u001b[0;34m.\u001b[0m\u001b[0mparameters\u001b[0m\u001b[0;34m(\u001b[0m\u001b[0;34m)\u001b[0m\u001b[0;34m,\u001b[0m \u001b[0mlr\u001b[0m\u001b[0;34m=\u001b[0m\u001b[0;36m0.01\u001b[0m\u001b[0;34m)\u001b[0m\u001b[0;34m\u001b[0m\u001b[0;34m\u001b[0m\u001b[0m\n\u001b[0m\u001b[1;32m     18\u001b[0m \u001b[0mloss_fn\u001b[0m \u001b[0;34m=\u001b[0m \u001b[0mnn\u001b[0m\u001b[0;34m.\u001b[0m\u001b[0mMSELoss\u001b[0m\u001b[0;34m(\u001b[0m\u001b[0;34m)\u001b[0m\u001b[0;34m\u001b[0m\u001b[0;34m\u001b[0m\u001b[0m\n\u001b[1;32m     19\u001b[0m \u001b[0;34m\u001b[0m\u001b[0m\n",
            "\u001b[0;32m/usr/local/lib/python3.12/dist-packages/torch/optim/sgd.py\u001b[0m in \u001b[0;36m__init__\u001b[0;34m(self, params, lr, momentum, dampening, weight_decay, nesterov, maximize, foreach, differentiable, fused)\u001b[0m\n\u001b[1;32m     63\u001b[0m         \u001b[0;32mif\u001b[0m \u001b[0mnesterov\u001b[0m \u001b[0;32mand\u001b[0m \u001b[0;34m(\u001b[0m\u001b[0mmomentum\u001b[0m \u001b[0;34m<=\u001b[0m \u001b[0;36m0\u001b[0m \u001b[0;32mor\u001b[0m \u001b[0mdampening\u001b[0m \u001b[0;34m!=\u001b[0m \u001b[0;36m0\u001b[0m\u001b[0;34m)\u001b[0m\u001b[0;34m:\u001b[0m\u001b[0;34m\u001b[0m\u001b[0;34m\u001b[0m\u001b[0m\n\u001b[1;32m     64\u001b[0m             \u001b[0;32mraise\u001b[0m \u001b[0mValueError\u001b[0m\u001b[0;34m(\u001b[0m\u001b[0;34m\"Nesterov momentum requires a momentum and zero dampening\"\u001b[0m\u001b[0;34m)\u001b[0m\u001b[0;34m\u001b[0m\u001b[0;34m\u001b[0m\u001b[0m\n\u001b[0;32m---> 65\u001b[0;31m         \u001b[0msuper\u001b[0m\u001b[0;34m(\u001b[0m\u001b[0;34m)\u001b[0m\u001b[0;34m.\u001b[0m\u001b[0m__init__\u001b[0m\u001b[0;34m(\u001b[0m\u001b[0mparams\u001b[0m\u001b[0;34m,\u001b[0m \u001b[0mdefaults\u001b[0m\u001b[0;34m)\u001b[0m\u001b[0;34m\u001b[0m\u001b[0;34m\u001b[0m\u001b[0m\n\u001b[0m\u001b[1;32m     66\u001b[0m \u001b[0;34m\u001b[0m\u001b[0m\n\u001b[1;32m     67\u001b[0m         \u001b[0;32mif\u001b[0m \u001b[0mfused\u001b[0m\u001b[0;34m:\u001b[0m\u001b[0;34m\u001b[0m\u001b[0;34m\u001b[0m\u001b[0m\n",
            "\u001b[0;32m/usr/local/lib/python3.12/dist-packages/torch/optim/optimizer.py\u001b[0m in \u001b[0;36m__init__\u001b[0;34m(self, params, defaults)\u001b[0m\n\u001b[1;32m    398\u001b[0m \u001b[0;34m\u001b[0m\u001b[0m\n\u001b[1;32m    399\u001b[0m         \u001b[0;32mfor\u001b[0m \u001b[0mparam_group\u001b[0m \u001b[0;32min\u001b[0m \u001b[0mparam_groups\u001b[0m\u001b[0;34m:\u001b[0m\u001b[0;34m\u001b[0m\u001b[0;34m\u001b[0m\u001b[0m\n\u001b[0;32m--> 400\u001b[0;31m             \u001b[0mself\u001b[0m\u001b[0;34m.\u001b[0m\u001b[0madd_param_group\u001b[0m\u001b[0;34m(\u001b[0m\u001b[0mcast\u001b[0m\u001b[0;34m(\u001b[0m\u001b[0mdict\u001b[0m\u001b[0;34m,\u001b[0m \u001b[0mparam_group\u001b[0m\u001b[0;34m)\u001b[0m\u001b[0;34m)\u001b[0m\u001b[0;34m\u001b[0m\u001b[0;34m\u001b[0m\u001b[0m\n\u001b[0m\u001b[1;32m    401\u001b[0m \u001b[0;34m\u001b[0m\u001b[0m\n\u001b[1;32m    402\u001b[0m         \u001b[0;31m# Allows _cuda_graph_capture_health_check to rig a poor man's TORCH_WARN_ONCE in python,\u001b[0m\u001b[0;34m\u001b[0m\u001b[0;34m\u001b[0m\u001b[0m\n",
            "\u001b[0;32m/usr/local/lib/python3.12/dist-packages/torch/_compile.py\u001b[0m in \u001b[0;36minner\u001b[0;34m(*args, **kwargs)\u001b[0m\n\u001b[1;32m     44\u001b[0m             \u001b[0mdisable_fn\u001b[0m \u001b[0;34m=\u001b[0m \u001b[0mgetattr\u001b[0m\u001b[0;34m(\u001b[0m\u001b[0mfn\u001b[0m\u001b[0;34m,\u001b[0m \u001b[0;34m\"__dynamo_disable\"\u001b[0m\u001b[0;34m,\u001b[0m \u001b[0;32mNone\u001b[0m\u001b[0;34m)\u001b[0m\u001b[0;34m\u001b[0m\u001b[0;34m\u001b[0m\u001b[0m\n\u001b[1;32m     45\u001b[0m             \u001b[0;32mif\u001b[0m \u001b[0mdisable_fn\u001b[0m \u001b[0;32mis\u001b[0m \u001b[0;32mNone\u001b[0m\u001b[0;34m:\u001b[0m\u001b[0;34m\u001b[0m\u001b[0;34m\u001b[0m\u001b[0m\n\u001b[0;32m---> 46\u001b[0;31m                 \u001b[0;32mimport\u001b[0m \u001b[0mtorch\u001b[0m\u001b[0;34m.\u001b[0m\u001b[0m_dynamo\u001b[0m\u001b[0;34m\u001b[0m\u001b[0;34m\u001b[0m\u001b[0m\n\u001b[0m\u001b[1;32m     47\u001b[0m \u001b[0;34m\u001b[0m\u001b[0m\n\u001b[1;32m     48\u001b[0m                 \u001b[0;31m# We can safely turn off functools.wraps here because the inner\u001b[0m\u001b[0;34m\u001b[0m\u001b[0;34m\u001b[0m\u001b[0m\n",
            "\u001b[0;32m/usr/local/lib/python3.12/dist-packages/torch/_dynamo/__init__.py\u001b[0m in \u001b[0;36m<module>\u001b[0;34m\u001b[0m\n\u001b[1;32m     11\u001b[0m \u001b[0;32mimport\u001b[0m \u001b[0mtorch\u001b[0m\u001b[0;34m\u001b[0m\u001b[0;34m\u001b[0m\u001b[0m\n\u001b[1;32m     12\u001b[0m \u001b[0;34m\u001b[0m\u001b[0m\n\u001b[0;32m---> 13\u001b[0;31m \u001b[0;32mfrom\u001b[0m \u001b[0;34m.\u001b[0m \u001b[0;32mimport\u001b[0m \u001b[0mconfig\u001b[0m\u001b[0;34m,\u001b[0m \u001b[0mconvert_frame\u001b[0m\u001b[0;34m,\u001b[0m \u001b[0meval_frame\u001b[0m\u001b[0;34m,\u001b[0m \u001b[0mresume_execution\u001b[0m\u001b[0;34m\u001b[0m\u001b[0;34m\u001b[0m\u001b[0m\n\u001b[0m\u001b[1;32m     14\u001b[0m \u001b[0;32mfrom\u001b[0m \u001b[0;34m.\u001b[0m\u001b[0mbackends\u001b[0m\u001b[0;34m.\u001b[0m\u001b[0mregistry\u001b[0m \u001b[0;32mimport\u001b[0m \u001b[0mlist_backends\u001b[0m\u001b[0;34m,\u001b[0m \u001b[0mlookup_backend\u001b[0m\u001b[0;34m,\u001b[0m \u001b[0mregister_backend\u001b[0m\u001b[0;34m\u001b[0m\u001b[0;34m\u001b[0m\u001b[0m\n\u001b[1;32m     15\u001b[0m \u001b[0;32mfrom\u001b[0m \u001b[0;34m.\u001b[0m\u001b[0mcallback\u001b[0m \u001b[0;32mimport\u001b[0m \u001b[0mcallback_handler\u001b[0m\u001b[0;34m,\u001b[0m \u001b[0mon_compile_end\u001b[0m\u001b[0;34m,\u001b[0m \u001b[0mon_compile_start\u001b[0m\u001b[0;34m\u001b[0m\u001b[0;34m\u001b[0m\u001b[0m\n",
            "\u001b[0;32m/usr/local/lib/python3.12/dist-packages/torch/_dynamo/convert_frame.py\u001b[0m in \u001b[0;36m<module>\u001b[0;34m\u001b[0m\n\u001b[1;32m     51\u001b[0m \u001b[0;32mfrom\u001b[0m \u001b[0mtorch\u001b[0m\u001b[0;34m.\u001b[0m\u001b[0m_dynamo\u001b[0m\u001b[0;34m.\u001b[0m\u001b[0mcallback\u001b[0m \u001b[0;32mimport\u001b[0m \u001b[0mCallbackTrigger\u001b[0m\u001b[0;34m\u001b[0m\u001b[0;34m\u001b[0m\u001b[0m\n\u001b[1;32m     52\u001b[0m \u001b[0;32mfrom\u001b[0m \u001b[0mtorch\u001b[0m\u001b[0;34m.\u001b[0m\u001b[0m_dynamo\u001b[0m\u001b[0;34m.\u001b[0m\u001b[0mdistributed\u001b[0m \u001b[0;32mimport\u001b[0m \u001b[0mget_compile_pg\u001b[0m\u001b[0;34m\u001b[0m\u001b[0;34m\u001b[0m\u001b[0m\n\u001b[0;32m---> 53\u001b[0;31m \u001b[0;32mfrom\u001b[0m \u001b[0mtorch\u001b[0m\u001b[0;34m.\u001b[0m\u001b[0m_dynamo\u001b[0m\u001b[0;34m.\u001b[0m\u001b[0msymbolic_convert\u001b[0m \u001b[0;32mimport\u001b[0m \u001b[0mTensorifyState\u001b[0m\u001b[0;34m\u001b[0m\u001b[0;34m\u001b[0m\u001b[0m\n\u001b[0m\u001b[1;32m     54\u001b[0m \u001b[0;32mfrom\u001b[0m \u001b[0mtorch\u001b[0m\u001b[0;34m.\u001b[0m\u001b[0m_guards\u001b[0m \u001b[0;32mimport\u001b[0m \u001b[0mcompile_context\u001b[0m\u001b[0;34m,\u001b[0m \u001b[0mCompileContext\u001b[0m\u001b[0;34m,\u001b[0m \u001b[0mCompileId\u001b[0m\u001b[0;34m,\u001b[0m \u001b[0mtracing\u001b[0m\u001b[0;34m\u001b[0m\u001b[0;34m\u001b[0m\u001b[0m\n\u001b[1;32m     55\u001b[0m \u001b[0;32mfrom\u001b[0m \u001b[0mtorch\u001b[0m\u001b[0;34m.\u001b[0m\u001b[0m_logging\u001b[0m \u001b[0;32mimport\u001b[0m \u001b[0mstructured\u001b[0m\u001b[0;34m\u001b[0m\u001b[0;34m\u001b[0m\u001b[0m\n",
            "\u001b[0;32m/usr/local/lib/python3.12/dist-packages/torch/_dynamo/symbolic_convert.py\u001b[0m in \u001b[0;36m<module>\u001b[0;34m\u001b[0m\n\u001b[1;32m     56\u001b[0m \u001b[0;32mfrom\u001b[0m \u001b[0mtorch\u001b[0m\u001b[0;34m.\u001b[0m\u001b[0mutils\u001b[0m\u001b[0;34m.\u001b[0m\u001b[0m_functools\u001b[0m \u001b[0;32mimport\u001b[0m \u001b[0mcache_method\u001b[0m\u001b[0;34m\u001b[0m\u001b[0;34m\u001b[0m\u001b[0m\n\u001b[1;32m     57\u001b[0m \u001b[0;34m\u001b[0m\u001b[0m\n\u001b[0;32m---> 58\u001b[0;31m from . import (\n\u001b[0m\u001b[1;32m     59\u001b[0m     \u001b[0mconfig\u001b[0m\u001b[0;34m,\u001b[0m\u001b[0;34m\u001b[0m\u001b[0;34m\u001b[0m\u001b[0m\n\u001b[1;32m     60\u001b[0m     \u001b[0mexc\u001b[0m\u001b[0;34m,\u001b[0m\u001b[0;34m\u001b[0m\u001b[0;34m\u001b[0m\u001b[0m\n",
            "\u001b[0;32m/usr/local/lib/python3.12/dist-packages/torch/_dynamo/trace_rules.py\u001b[0m in \u001b[0;36m<module>\u001b[0;34m\u001b[0m\n\u001b[1;32m     45\u001b[0m \u001b[0;34m\u001b[0m\u001b[0m\n\u001b[1;32m     46\u001b[0m \u001b[0;32mimport\u001b[0m \u001b[0mtorch\u001b[0m\u001b[0;34m\u001b[0m\u001b[0;34m\u001b[0m\u001b[0m\n\u001b[0;32m---> 47\u001b[0;31m \u001b[0;32mimport\u001b[0m \u001b[0mtorch\u001b[0m\u001b[0;34m.\u001b[0m\u001b[0m_inductor\u001b[0m\u001b[0;34m.\u001b[0m\u001b[0mtest_operators\u001b[0m\u001b[0;34m\u001b[0m\u001b[0;34m\u001b[0m\u001b[0m\n\u001b[0m\u001b[1;32m     48\u001b[0m \u001b[0;32mimport\u001b[0m \u001b[0mtorch\u001b[0m\u001b[0;34m.\u001b[0m\u001b[0mdistributed\u001b[0m\u001b[0;34m\u001b[0m\u001b[0;34m\u001b[0m\u001b[0m\n\u001b[1;32m     49\u001b[0m \u001b[0;32mimport\u001b[0m \u001b[0mtorch\u001b[0m\u001b[0;34m.\u001b[0m\u001b[0mutils\u001b[0m\u001b[0;34m.\u001b[0m\u001b[0m_content_store\u001b[0m\u001b[0;34m\u001b[0m\u001b[0;34m\u001b[0m\u001b[0m\n",
            "\u001b[0;32m/usr/local/lib/python3.12/dist-packages/torch/_inductor/__init__.py\u001b[0m in \u001b[0;36m<module>\u001b[0;34m\u001b[0m\n\u001b[1;32m     10\u001b[0m \u001b[0;32mimport\u001b[0m \u001b[0mtorch\u001b[0m\u001b[0;34m.\u001b[0m\u001b[0mfx\u001b[0m\u001b[0;34m\u001b[0m\u001b[0;34m\u001b[0m\u001b[0m\n\u001b[1;32m     11\u001b[0m \u001b[0;34m\u001b[0m\u001b[0m\n\u001b[0;32m---> 12\u001b[0;31m \u001b[0;32mfrom\u001b[0m \u001b[0;34m.\u001b[0m\u001b[0mstandalone_compile\u001b[0m \u001b[0;32mimport\u001b[0m \u001b[0mCompiledArtifact\u001b[0m  \u001b[0;31m# noqa: TC001\u001b[0m\u001b[0;34m\u001b[0m\u001b[0;34m\u001b[0m\u001b[0m\n\u001b[0m\u001b[1;32m     13\u001b[0m \u001b[0;34m\u001b[0m\u001b[0m\n\u001b[1;32m     14\u001b[0m \u001b[0;34m\u001b[0m\u001b[0m\n",
            "\u001b[0;32m/usr/local/lib/python3.12/dist-packages/torch/_inductor/standalone_compile.py\u001b[0m in \u001b[0;36m<module>\u001b[0;34m\u001b[0m\n\u001b[1;32m     11\u001b[0m \u001b[0;32mimport\u001b[0m \u001b[0mtorch\u001b[0m\u001b[0;34m.\u001b[0m\u001b[0mfx\u001b[0m\u001b[0;34m\u001b[0m\u001b[0;34m\u001b[0m\u001b[0m\n\u001b[1;32m     12\u001b[0m \u001b[0;32mfrom\u001b[0m \u001b[0mtorch\u001b[0m\u001b[0;34m.\u001b[0m\u001b[0m_dynamo\u001b[0m\u001b[0;34m.\u001b[0m\u001b[0mutils\u001b[0m \u001b[0;32mimport\u001b[0m \u001b[0mdynamo_timed\u001b[0m\u001b[0;34m\u001b[0m\u001b[0;34m\u001b[0m\u001b[0m\n\u001b[0;32m---> 13\u001b[0;31m \u001b[0;32mfrom\u001b[0m \u001b[0mtorch\u001b[0m\u001b[0;34m.\u001b[0m\u001b[0m_inductor\u001b[0m\u001b[0;34m.\u001b[0m\u001b[0mcudagraph_utils\u001b[0m \u001b[0;32mimport\u001b[0m \u001b[0mBoxedDeviceIndex\u001b[0m\u001b[0;34m\u001b[0m\u001b[0;34m\u001b[0m\u001b[0m\n\u001b[0m\u001b[1;32m     14\u001b[0m \u001b[0;32mfrom\u001b[0m \u001b[0mtorch\u001b[0m\u001b[0;34m.\u001b[0m\u001b[0m_inductor\u001b[0m\u001b[0;34m.\u001b[0m\u001b[0mruntime\u001b[0m\u001b[0;34m.\u001b[0m\u001b[0mcache_dir_utils\u001b[0m \u001b[0;32mimport\u001b[0m \u001b[0mtemporary_cache_dir\u001b[0m\u001b[0;34m\u001b[0m\u001b[0;34m\u001b[0m\u001b[0m\n\u001b[1;32m     15\u001b[0m \u001b[0;32mfrom\u001b[0m \u001b[0mtorch\u001b[0m\u001b[0;34m.\u001b[0m\u001b[0m_inductor\u001b[0m\u001b[0;34m.\u001b[0m\u001b[0mutils\u001b[0m \u001b[0;32mimport\u001b[0m \u001b[0mBoxedBool\u001b[0m\u001b[0;34m,\u001b[0m \u001b[0mInputType\u001b[0m\u001b[0;34m\u001b[0m\u001b[0;34m\u001b[0m\u001b[0m\n",
            "\u001b[0;32m/usr/local/lib/python3.12/dist-packages/torch/_inductor/cudagraph_utils.py\u001b[0m in \u001b[0;36m<module>\u001b[0;34m\u001b[0m\n\u001b[1;32m      8\u001b[0m \u001b[0;32mimport\u001b[0m \u001b[0mtorch\u001b[0m\u001b[0;34m\u001b[0m\u001b[0;34m\u001b[0m\u001b[0m\n\u001b[1;32m      9\u001b[0m \u001b[0;32mfrom\u001b[0m \u001b[0mtorch\u001b[0m\u001b[0;34m.\u001b[0m\u001b[0m_dynamo\u001b[0m\u001b[0;34m.\u001b[0m\u001b[0mutils\u001b[0m \u001b[0;32mimport\u001b[0m \u001b[0mcounters\u001b[0m\u001b[0;34m,\u001b[0m \u001b[0mget_metrics_context\u001b[0m\u001b[0;34m\u001b[0m\u001b[0;34m\u001b[0m\u001b[0m\n\u001b[0;32m---> 10\u001b[0;31m \u001b[0;32mfrom\u001b[0m \u001b[0mtorch\u001b[0m\u001b[0;34m.\u001b[0m\u001b[0m_inductor\u001b[0m\u001b[0;34m.\u001b[0m\u001b[0mutils\u001b[0m \u001b[0;32mimport\u001b[0m \u001b[0mGraphPartitionMap\u001b[0m\u001b[0;34m,\u001b[0m \u001b[0mInputType\u001b[0m\u001b[0;34m\u001b[0m\u001b[0;34m\u001b[0m\u001b[0m\n\u001b[0m\u001b[1;32m     11\u001b[0m \u001b[0;32mfrom\u001b[0m \u001b[0mtorch\u001b[0m\u001b[0;34m.\u001b[0m\u001b[0mutils\u001b[0m\u001b[0;34m.\u001b[0m\u001b[0m_ordered_set\u001b[0m \u001b[0;32mimport\u001b[0m \u001b[0mOrderedSet\u001b[0m\u001b[0;34m\u001b[0m\u001b[0;34m\u001b[0m\u001b[0m\n\u001b[1;32m     12\u001b[0m \u001b[0;34m\u001b[0m\u001b[0m\n",
            "\u001b[0;31mKeyboardInterrupt\u001b[0m: "
          ]
        }
      ],
      "source": [
        "import torch\n",
        "import torch.nn as nn\n",
        "import torch.optim as optim\n",
        "from torch.utils.tensorboard import SummaryWriter\n",
        "\n",
        "# Simple example: model and data\n",
        "class SimpleModel(nn.Module):\n",
        "    def __init__(self):\n",
        "        super(SimpleModel, self).__init__()\n",
        "        self.fc = nn.Linear(10, 1)\n",
        "\n",
        "    def forward(self, x):\n",
        "        return self.fc(x)\n",
        "\n",
        "# Creating a model, optimizer, and loss function\n",
        "model = SimpleModel()\n",
        "optimizer = optim.SGD(model.parameters(), lr=0.01)\n",
        "loss_fn = nn.MSELoss()\n",
        "\n",
        "# Initializing TensorBoard SummaryWriter\n",
        "writer = SummaryWriter()\n",
        "\n",
        "# Training example\n",
        "for epoch in range(100):\n",
        "    # Fake data\n",
        "    inputs = torch.randn(32, 10)\n",
        "    targets = torch.randn(32, 1)\n",
        "\n",
        "    # Forward pass\n",
        "    outputs = model(inputs)\n",
        "    loss = loss_fn(outputs, targets)\n",
        "\n",
        "    # Backpropagation\n",
        "    optimizer.zero_grad()\n",
        "    loss.backward()\n",
        "    optimizer.step()\n",
        "\n",
        "    # Log the loss values to TensorBoard\n",
        "    writer.add_scalar('Loss/train', loss.item(), epoch)\n",
        "\n",
        "# Closing SummaryWriter\n",
        "writer.close()"
      ]
    },
    {
      "cell_type": "markdown",
      "metadata": {
        "id": "Vlb_5w7xW9fy"
      },
      "source": [
        "**`SummaryWriter`** is the central tool for logging data to TensorBoard. It captures metric values, like loss, for each iteration/epoch.\n",
        "\n",
        "This example trains a simple model on fake data (32 samples with 10 features) over 100 epochs, and at each epoch, the loss value is sent to TensorBoard via `writer.add_scalar`.\n",
        "\n",
        "To visualize the data from a local machine, run the following command in the terminal:\n",
        "\n",
        "```bash\n",
        "tensorboard --logdir=runs\n",
        "```\n",
        "\n",
        "then open a web browser and go at the address mentioned in the terminal (usually http://localhost:6006/).\n",
        "\n",
        "If you are using Google Colab, you can use the **TensorBoard magic** to visualize the data directly in the notebook."
      ]
    },
    {
      "cell_type": "code",
      "execution_count": null,
      "metadata": {
        "id": "626fgBP8W9fy"
      },
      "outputs": [],
      "source": [
        "# Load TensorBoard extension in Colab\n",
        "%load_ext tensorboard\n",
        "%tensorboard --logdir ./runs"
      ]
    },
    {
      "cell_type": "markdown",
      "metadata": {
        "id": "tzdAhkfYW9fz"
      },
      "source": [
        "For mor information, check the Official Documentation:\n",
        "- [TensorBoard for PyTorch Documentation](https://pytorch.org/docs/stable/tensorboard.html)\n",
        "- [Official TensorBoard Documentation (General)](https://www.tensorflow.org/tensorboard)"
      ]
    },
    {
      "cell_type": "markdown",
      "metadata": {
        "id": "qSBa0MXPW9fz"
      },
      "source": [
        "### Monitoring the training process with AIM\n",
        "\n",
        "Aim is an open-source alternative to TensorBoard for managing and visualizing machine learning experiments.\n",
        "Designed to be simpler and more flexible, **Aim** allows tracking and analyzing metrics, hyperparameters, model outputs, and more for projects using PyTorch, TensorFlow, or other frameworks.\n",
        "\n",
        "<img src=\"https://user-images.githubusercontent.com/13848158/136374529-af267918-5dc6-4a4e-8ed2-f6333a332f96.gif\" width=\"600px\"></img>\n",
        "\n",
        "The following cell demonstrates how to use Aim with PyTorch."
      ]
    },
    {
      "cell_type": "code",
      "execution_count": null,
      "metadata": {
        "id": "3hmXXou3W9fz"
      },
      "outputs": [],
      "source": [
        "import torch\n",
        "import aim\n",
        "\n",
        "# Initialize Aim\n",
        "run = aim.Run()\n",
        "\n",
        "# set training hyperparameters\n",
        "run['hparams'] = {\n",
        "    'learning_rate': 0.01,\n",
        "    'batch_size': 32,\n",
        "}\n",
        "\n",
        "# Simple model example\n",
        "model = torch.nn.Linear(1, 1)\n",
        "criterion = torch.nn.MSELoss()\n",
        "optimizer = torch.optim.SGD(model.parameters(), lr=0.01)\n",
        "\n",
        "for epoch in range(10):\n",
        "    inputs = torch.randn(10, 1)\n",
        "    targets = torch.randn(10, 1)\n",
        "\n",
        "    # Forward pass\n",
        "    outputs = model(inputs)\n",
        "    loss = criterion(outputs, targets)\n",
        "\n",
        "    # Backward pass and optimization\n",
        "    optimizer.zero_grad()\n",
        "    loss.backward()\n",
        "    optimizer.step()\n",
        "\n",
        "    # Track the 'loss' metric\n",
        "    run.track(loss.item(), name='loss', epoch=epoch)    # Log metric with Aim"
      ]
    },
    {
      "cell_type": "markdown",
      "metadata": {
        "id": "DZBq8qcaW9fz"
      },
      "source": [
        "This example trains a simple model on fake data over 10 epochs, and at each epoch, the loss value is sent to Aim via `run.track`.\n",
        "\n",
        "To visualize the data from a local machine, run the following command in the terminal:\n",
        "\n",
        "```bash\n",
        "aim up\n",
        "```\n",
        "\n",
        "then open a web browser and go at the address mentioned in the terminal (usually http://localhost:43800/).\n",
        "\n",
        "Or alternatively, you can use the **Aim magic** to [visualize the data directly in the notebook](https://aimstack.readthedocs.io/en/latest/using/jupyter_notebook_ui.html) (for instance if you are using Google Colab)."
      ]
    },
    {
      "cell_type": "code",
      "execution_count": null,
      "metadata": {
        "id": "2jkfjC2BW9fz"
      },
      "outputs": [],
      "source": [
        "%load_ext aim\n",
        "%aim up"
      ]
    },
    {
      "cell_type": "markdown",
      "metadata": {
        "id": "QaSM2Mu3W9fz"
      },
      "source": [
        "For more information, check the official Documentation:\n",
        "- [Aim Documentation](https://aimstack.readthedocs.io/en/latest/)\n",
        "- [GitHub Aim](https://github.com/aimhubio/aim)\n",
        "- [Quick start](https://github.com/aimhubio/aim#-quick-start)\n",
        "- [Getting started](https://aimstack.readthedocs.io/en/latest/quick_start/setup.html)"
      ]
    },
    {
      "cell_type": "markdown",
      "metadata": {
        "id": "jRT5Zwl6W9f0"
      },
      "source": [
        "## Part 1: Hands on Cart Pole environment [reminder]"
      ]
    },
    {
      "cell_type": "markdown",
      "metadata": {
        "id": "ptj48l-gW9f0"
      },
      "source": [
        "For the purpose of focusing on the algorithms, we will use standard environments provided by the Gymnasium suite.\n",
        "Gymnasium provides controllable environments (https://gymnasium.farama.org/environments/classic_control/) for research in reinforcement learning.\n",
        "Especially, we will try to solve the CartPole-v1 environment (c.f. https://gymnasium.farama.org/environments/classic_control/cart_pole/) which offers a continuous state space and discrete action space.\n",
        "The Cart Pole task consists in maintaining a pole in a vertical position by moving a cart on which the pole is attached with a joint.\n",
        "No friction is considered.\n",
        "The task is supposed to be solved if the pole stays up-right (within 15 degrees) for 200 steps in average over 100 episodes while keeping the cart position within reasonable bounds.\n",
        "The state is given by $\\{x,\\frac{d x}{d t},\\omega,\\frac{d \\omega}{d t}\\}$ where $x$ is the position of the cart and $\\omega$ is the angle between the pole and vertical position.\n",
        "There are only two possible actions: $a \\in \\{0, 1\\}$ where $a = 0$ means \"push the cart to the LEFT\" and $a = 1$ means \"push the cart to the RIGHT\"."
      ]
    },
    {
      "cell_type": "markdown",
      "metadata": {
        "id": "cYluO0yPW9f0"
      },
      "source": [
        "### Exercise 1: Hands on Cart Pole\n",
        "\n",
        "**Task 1:** refer to the following link [CartPole Environment](https://gymnasium.farama.org/environments/classic_control/cart_pole/) to familiarize yourself with the CartPole environment if you are not already.\n",
        "\n",
        "**Note:** for a refresher on the key concepts of Gymnasium, you can visit this [Basic Usage Guide](https://gymnasium.farama.org/introduction/basic_usage/)."
      ]
    },
    {
      "cell_type": "markdown",
      "metadata": {
        "id": "0w_9xoo_W9f0"
      },
      "source": [
        "Print some information about the environment:"
      ]
    },
    {
      "cell_type": "code",
      "execution_count": 15,
      "metadata": {
        "colab": {
          "base_uri": "https://localhost:8080/"
        },
        "id": "X0hCrkTJW9f0",
        "outputId": "4ce5082b-70c9-4a98-f86d-9531a801296e"
      },
      "outputs": [
        {
          "output_type": "stream",
          "name": "stdout",
          "text": [
            "State space size is: Box([-4.8               -inf -0.41887903        -inf], [4.8               inf 0.41887903        inf], (4,), float32)\n",
            "Action space size is: Discrete(2)\n",
            "Actions are: {0, 1}\n"
          ]
        }
      ],
      "source": [
        "env = gym.make('CartPole-v1', render_mode=\"rgb_array\")\n",
        "\n",
        "state_dim = env.observation_space.shape[0]\n",
        "action_dim = env.action_space.n.item()\n",
        "\n",
        "print(f\"State space size is: { env.observation_space }\")\n",
        "print(f\"Action space size is: { env.action_space }\")\n",
        "print(\"Actions are: {\" + \", \".join([str(a) for a in range(env.action_space.n)]) + \"}\")\n",
        "\n",
        "env.close()"
      ]
    },
    {
      "cell_type": "markdown",
      "metadata": {
        "id": "_n0ZZSvcW9f0"
      },
      "source": [
        "**Task 2:** Run the following cells and check different basic\n",
        "policies (for instance constant actions or randomly drawn actions) to discover the CartPole environment.\n",
        "Although this environment has easy dynamics that can be computed analytically, we will solve this problem with Policy Gradient based Reinforcement learning."
      ]
    },
    {
      "cell_type": "markdown",
      "metadata": {
        "tags": [],
        "id": "dtcaV_EcW9f0"
      },
      "source": [
        "### Test the CartPole environment with a constant policy"
      ]
    },
    {
      "cell_type": "code",
      "execution_count": 16,
      "metadata": {
        "id": "MpBFi_FgW9f1"
      },
      "outputs": [],
      "source": [
        "import warnings\n",
        "warnings.filterwarnings(\"ignore\", category=UserWarning)"
      ]
    },
    {
      "cell_type": "code",
      "execution_count": 17,
      "metadata": {
        "colab": {
          "base_uri": "https://localhost:8080/",
          "height": 608
        },
        "id": "n2aCXVbYW9f1",
        "outputId": "34513b79-7318-402f-c795-9b66b7d4df9f"
      },
      "outputs": [
        {
          "output_type": "stream",
          "name": "stdout",
          "text": [
            "[-0.00409462  0.03947833 -0.01922821  0.00341554]\n",
            "[-0.00330505 -0.15536267 -0.0191599   0.28997025]\n",
            "[-0.0064123  -0.35020623 -0.0133605   0.5765493 ]\n",
            "[-0.01341643 -0.54513836 -0.00182951  0.8649936 ]\n",
            "[-0.02431919 -0.7402354   0.01547036  1.1571007 ]\n",
            "[-0.0391239  -0.9355555   0.03861237  1.454594  ]\n",
            "[-0.05783501 -1.1311297   0.06770425  1.7590858 ]\n",
            "[-0.08045761 -1.3269498   0.10288597  2.072033  ]\n",
            "[-0.1069966  -1.5229554   0.14432663  2.3946817 ]\n",
            "[-0.13745572 -1.7190173   0.19222026  2.7280016 ]\n",
            "xxxxxxxxxxxxxxxxxxxxxxxxxxxxxxxxxxxxxxxx\n"
          ]
        },
        {
          "output_type": "execute_result",
          "data": {
            "image/png": "[encoded data removed]",
            "text/plain": [
              "<IPython.core.display.Image object>"
            ]
          },
          "metadata": {},
          "execution_count": 17
        }
      ],
      "source": [
        "env = gym.make('CartPole-v1', render_mode='rgb_array')\n",
        "RenderWrapper.register(env, force_gif=True)\n",
        "\n",
        "observation, info = env.reset()\n",
        "done = False\n",
        "\n",
        "for t in range(50):\n",
        "    env.render_wrapper.render()\n",
        "\n",
        "    if not done:\n",
        "        print(observation)\n",
        "    else:\n",
        "        print(\"x\", end=\"\")\n",
        "\n",
        "    action = 0\n",
        "    observation, reward, done, truncated, info = env.step(action)\n",
        "\n",
        "\n",
        "print()\n",
        "env.close()\n",
        "\n",
        "env.render_wrapper.make_gif(FIGS_DIR / \"lab1_ex1left\")"
      ]
    },
    {
      "cell_type": "code",
      "execution_count": null,
      "metadata": {
        "id": "jsR6KHYJW9f1"
      },
      "outputs": [],
      "source": [
        "env = gym.make('CartPole-v1', render_mode='rgb_array')\n",
        "RenderWrapper.register(env, force_gif=True)\n",
        "\n",
        "observation, info = env.reset()\n",
        "done = False\n",
        "\n",
        "for t in range(50):\n",
        "    env.render_wrapper.render()\n",
        "\n",
        "    if not done:\n",
        "        print(observation)\n",
        "    else:\n",
        "        print(\"x\", end=\"\")\n",
        "\n",
        "    action = 1\n",
        "    observation, reward, done, truncated, info = env.step(action)\n",
        "\n",
        "print()\n",
        "env.close()\n",
        "\n",
        "env.render_wrapper.make_gif(FIGS_DIR / \"lab1_ex1right\")"
      ]
    },
    {
      "cell_type": "markdown",
      "metadata": {
        "id": "pdqBkV0dW9f1"
      },
      "source": [
        "### Test the CartPole environment with a random policy"
      ]
    },
    {
      "cell_type": "code",
      "execution_count": null,
      "metadata": {
        "id": "UebxrTcFW9f1"
      },
      "outputs": [],
      "source": [
        "env = gym.make('CartPole-v1', render_mode='rgb_array')\n",
        "RenderWrapper.register(env, force_gif=True)\n",
        "\n",
        "for episode_index in range(5):\n",
        "    observation, info = env.reset()\n",
        "    done = False\n",
        "\n",
        "    for t in range(70):\n",
        "        env.render_wrapper.render()\n",
        "\n",
        "        if not done:\n",
        "            print(observation)\n",
        "        else:\n",
        "            print(\"x\", end=\"\")\n",
        "\n",
        "\n",
        "        action = env.action_space.sample()\n",
        "        observation, reward, done, truncated, info = env.step(action)\n",
        "\n",
        "    print()\n",
        "    env.close()\n",
        "\n",
        "env.render_wrapper.make_gif(FIGS_DIR / \"lab1_ex1random\")"
      ]
    },
    {
      "cell_type": "markdown",
      "metadata": {
        "id": "tUHXk_umW9f1"
      },
      "source": [
        "## Part 2: Deep value-based reinforcement learning with Deep Q-Networks (DQN) [reminder]\n",
        "\n",
        "In this part, we will begin our exploration of deep reinforcement learning with Deep Q-Networks (DQN), a famous value-based method.\n",
        "\n",
        "Deep reinforcement learning methods like DQN (Deep Q-Networks) are significant advancements over tabular methods such as Q-Learning because they can handle complex, high-dimensional environments that were previously intractable. While Q-Learning is limited to environments where the state and action spaces are sufficiently small to maintain a table of values, DQN uses neural networks to approximate the Q-value function, allowing it to generalize across similar states and scale to problems with vast state spaces. This enables DQN to learn optimal policies for tasks like video games, robotic control, and other applications where the number of possible states is extraordinarily large."
      ]
    },
    {
      "cell_type": "markdown",
      "metadata": {
        "id": "ugowBrqyW9f1"
      },
      "source": [
        "### Exercise 2: Implement a naive value-based deep reinforcement learning algorithm"
      ]
    },
    {
      "cell_type": "markdown",
      "metadata": {
        "id": "DjVtZy3eW9f2"
      },
      "source": [
        "Our first step will be to write a naive implementation of a version of Q-Learning, where the Q-function is approximated by a neural network. This approach combines traditional Q-Learning with the power of function approximation provided by neural networks, allowing us to handle environments with large state spaces."
      ]
    },
    {
      "cell_type": "markdown",
      "metadata": {
        "id": "2P9CSGADW9f2"
      },
      "source": [
        "#### The algorithm"
      ]
    },
    {
      "cell_type": "markdown",
      "metadata": {
        "id": "D_4qy23OW9f2"
      },
      "source": [
        "<b>Input</b>:<br>\n",
        "\t$\\quad\\quad$ none<br>\n",
        "<b>Algorithm parameter</b>:<br>\n",
        "\t$\\quad\\quad$ discount factor $\\gamma$<br>\n",
        "\t$\\quad\\quad$ step size $\\alpha \\in (0,1]$<br>\n",
        "\t$\\quad\\quad$ small $\\epsilon > 0$<br><br>\n",
        "\n",
        "<b>FOR EACH</b> episode<br>\n",
        "\t$\\quad$ $\\mathbf{s} \\leftarrow \\text{env.reset}()$<br>\n",
        "\t$\\quad$ <b>DO</b> <br>\n",
        "\t\t$\\quad\\quad$ $\\mathbf{a} \\leftarrow \\epsilon\\text{-greedy}(\\mathbf{s}, \\hat{Q}_{\\mathbf{\\omega}}$ $)$<br>\n",
        "\t\t$\\quad\\quad$ $r, \\mathbf{s'} \\leftarrow \\text{env.step}(\\mathbf{a})$<br>\n",
        "\t\t$\\quad\\quad$ $y \\leftarrow\n",
        "\t\t\\begin{cases}\n",
        "\t\t\tr & \\text{for terminal } \\mathbf{s'}\\\\\n",
        "\t\t\tr + \\gamma \\max_{\\mathbf{a}^\\star \\in \\mathcal{A}} \\hat{Q}_{\\mathbf{\\omega}}(\\mathbf{s'})_{\\mathbf{a}^\\star} & \\text{for non-terminal } \\mathbf{s'}\n",
        "\t\t\\end{cases}$<br>\n",
        "\t\t$\\quad\\quad$ $\\mathbf{\\omega} \\leftarrow \\mathbf{\\omega} + \\alpha \\left[ y - \\hat{Q}_{\\mathbf{\\omega}}(\\mathbf{s})_{\\mathbf{a}} \\right] ~ \\nabla_{\\mathbf{\\omega}} \\hat{Q}_{\\mathbf{\\omega}}(\\mathbf{s})_{\\mathbf{a}}$ <br>\n",
        "\t\t$\\quad\\quad$ $\\mathbf{s} \\leftarrow \\mathbf{s'}$ <br>\n",
        "\t$\\quad$ <b>UNTIL</b> $\\mathbf{s}$ is final<br><br>\n",
        "<b>RETURN</b> $\\mathbf{\\omega}$ <br>"
      ]
    },
    {
      "cell_type": "markdown",
      "metadata": {
        "id": "hT3Z6A0nW9f2"
      },
      "source": [
        "#### Implement the Q-network\n",
        "\n",
        "The Q-Network is used to approximate the action value function, which gives the expected future reward for taking a particular action in a particular state. The network is trained to minimize the difference between its predicted Q-values and the actual return received.\n",
        "\n",
        "In this exercise, the Q-Network is implemented as a simple feedforward neural network with two hidden layers. The input to the network consists of the observed state, and the output provides a Q-value for each possible action.  \n",
        "Each hidden layer applies the ReLU activation function, while the output layer uses a linear activation function.\n",
        "\n",
        "**Important note:** The \"naive\" agent you will implement in this exercise is **not** a DQN agent and **will not be able to solve the CartPole environment**. However, it serves as a stepping stone toward implementing the DQN agent in Exercises 3 and 4.\n",
        "\n",
        "**Task 2.1:** implement the constructor and the `forward` method of the Q-network we will use in our RL agents"
      ]
    },
    {
      "cell_type": "code",
      "execution_count": 18,
      "metadata": {
        "id": "hQXSUXvkW9f2"
      },
      "outputs": [],
      "source": [
        "class QNetwork(torch.nn.Module):\n",
        "    \"\"\"\n",
        "    A Q-Network implemented with PyTorch.\n",
        "\n",
        "    Attributes\n",
        "    ----------\n",
        "    layer1 : torch.nn.Linear\n",
        "        First fully connected layer.\n",
        "    layer2 : torch.nn.Linear\n",
        "        Second fully connected layer.\n",
        "    layer3 : torch.nn.Linear\n",
        "        Third fully connected layer.\n",
        "\n",
        "    Methods\n",
        "    -------\n",
        "    forward(x: torch.Tensor) -> torch.Tensor\n",
        "        Define the forward pass of the QNetwork.\n",
        "    \"\"\"\n",
        "\n",
        "    def __init__(self, n_observations: int, n_actions: int, nn_l1: int, nn_l2: int):\n",
        "        \"\"\"\n",
        "        Initialize a new instance of QNetwork.\n",
        "\n",
        "        Parameters\n",
        "        ----------\n",
        "        n_observations : int\n",
        "            The size of the observation space.\n",
        "        n_actions : int\n",
        "            The size of the action space.\n",
        "        nn_l1 : int\n",
        "            The number of neurons on the first layer.\n",
        "        nn_l2 : int\n",
        "            The number of neurons on the second layer.\n",
        "        \"\"\"\n",
        "        super(QNetwork, self).__init__()\n",
        "\n",
        "        self.layer1 = torch.nn.Linear(n_observations, nn_l1)\n",
        "        self.layer2 = torch.nn.Linear(nn_l1, nn_l2)\n",
        "        self.layer3 = torch.nn.Linear(nn_l2, n_actions)\n",
        "\n",
        "    def forward(self, x: torch.Tensor) -> torch.Tensor:\n",
        "        \"\"\"\n",
        "        Define the forward pass of the QNetwork.\n",
        "\n",
        "        Parameters\n",
        "        ----------\n",
        "        x : torch.Tensor\n",
        "            The input tensor (state).\n",
        "\n",
        "        Returns\n",
        "        -------\n",
        "        torch.Tensor\n",
        "            The output tensor (Q-values).\n",
        "        \"\"\"\n",
        "\n",
        "        x = torch.relu(self.layer1(x))\n",
        "        x = torch.relu(self.layer2(x))\n",
        "        x = self.layer3(x)\n",
        "\n",
        "        return x"
      ]
    },
    {
      "cell_type": "markdown",
      "metadata": {
        "id": "ZLPcrq_4W9f2"
      },
      "source": [
        "#### Implement an inference function"
      ]
    },
    {
      "cell_type": "markdown",
      "metadata": {
        "id": "-5CZA60PW9f2"
      },
      "source": [
        "##### Parctical tips\n",
        "\n",
        "To complete task 2.2, you need to be familiar with the following PyTorch concepts:\n",
        "\n",
        "- [torch.squeeze](https://pytorch.org/docs/stable/generated/torch.squeeze.html) (or [torch.Tensor.squeeze](https://pytorch.org/docs/stable/generated/torch.Tensor.squeeze.html)) / [torch.unsqueeze](https://pytorch.org/docs/stable/generated/torch.unsqueeze.html) (or [torch.Tensor.unsqueeze](https://pytorch.org/docs/stable/generated/torch.Tensor.unsqueeze.html)) to add / remove a batch dimension.\n",
        "- [torch.argmax](https://pytorch.org/docs/stable/generated/torch.argmax.html) (or [torch.Tensor.argmax](https://pytorch.org/docs/stable/generated/torch.Tensor.argmax.html)) to get the index of the maximum value of a tensor.\n",
        "- [torch.Tensor.item](https://pytorch.org/docs/stable/generated/torch.Tensor.item.html) to get the value of a tensor with a single element as a standard Python number."
      ]
    },
    {
      "cell_type": "markdown",
      "metadata": {
        "id": "Zrd7AXzWW9f3"
      },
      "source": [
        "**Task 2.2:** Your next assignment is to complete the function below, which will be used to evaluate the performance of an agent in a simulated environment over one or multiple episodes."
      ]
    },
    {
      "cell_type": "code",
      "execution_count": 19,
      "metadata": {
        "id": "tJw4yzNUW9f3"
      },
      "outputs": [],
      "source": [
        "def test_q_network_agent(env: gym.Env, q_network: torch.nn.Module, num_episode: int = 1, render: bool = True) -> List[int]:\n",
        "    \"\"\"\n",
        "    Test a naive agent in the given environment using the provided Q-network.\n",
        "\n",
        "    Parameters\n",
        "    ----------\n",
        "    env : gym.Env\n",
        "        The environment in which to test the agent.\n",
        "    q_network : torch.nn.Module\n",
        "        The Q-network to use for decision making.\n",
        "    num_episode : int, optional\n",
        "        The number of episodes to run, by default 1.\n",
        "    render : bool, optional\n",
        "        Whether to render the environment, by default True.\n",
        "\n",
        "    Returns\n",
        "    -------\n",
        "    List[int]\n",
        "        A list of rewards per episode.\n",
        "    \"\"\"\n",
        "    episode_reward_list = []\n",
        "\n",
        "    for episode_id in range(num_episode):\n",
        "\n",
        "        state, info = env.reset()\n",
        "        done = False\n",
        "        episode_reward = 0\n",
        "\n",
        "        while not done:\n",
        "            if render:\n",
        "                env.render_wrapper.render()\n",
        "\n",
        "            # Convert the state to a PyTorch tensor and add a batch dimension (unsqueeze)\n",
        "            state_tensor = torch.tensor(state, dtype=torch.float32, device=device).unsqueeze(0)\n",
        "\n",
        "            # q_values = TODO... # Compute the Q-values for the current state using the Q-network\n",
        "            q_values = q_network(state_tensor)\n",
        "\n",
        "            # action = TODO... # Select the action with the highest Q-value\n",
        "            action = torch.argmax(q_values).item()\n",
        "\n",
        "            next_state, reward, terminated, truncated, info = env.step(action)\n",
        "            done = terminated or truncated\n",
        "\n",
        "            episode_reward += reward\n",
        "\n",
        "            state = next_state\n",
        "\n",
        "        episode_reward_list.append(episode_reward)\n",
        "        print(f\"Episode reward: {episode_reward}\")\n",
        "\n",
        "    return episode_reward_list"
      ]
    },
    {
      "cell_type": "markdown",
      "metadata": {
        "id": "DkvPB3oYW9f3"
      },
      "source": [
        "**Task 2.3:** Test this function on the untrained agent."
      ]
    },
    {
      "cell_type": "code",
      "execution_count": 20,
      "metadata": {
        "id": "edRutox3W9f3"
      },
      "outputs": [],
      "source": [
        "q_network = QNetwork(state_dim, action_dim, nn_l1=128, nn_l2=128).to(device)"
      ]
    },
    {
      "cell_type": "code",
      "execution_count": 21,
      "metadata": {
        "colab": {
          "base_uri": "https://localhost:8080/",
          "height": 504
        },
        "id": "B6TIChqdW9f3",
        "outputId": "accbdb96-dba5-4394-d3e8-53a6f524d051"
      },
      "outputs": [
        {
          "output_type": "stream",
          "name": "stdout",
          "text": [
            "Episode reward: 12.0\n",
            "Episode reward: 21.0\n",
            "Episode reward: 25.0\n",
            "Episode reward: 9.0\n",
            "Episode reward: 21.0\n"
          ]
        },
        {
          "output_type": "execute_result",
          "data": {
            "image/png": "[encoded data removed]",
            "text/plain": [
              "<IPython.core.display.Image object>"
            ]
          },
          "metadata": {},
          "execution_count": 21
        }
      ],
      "source": [
        "env = gym.make('CartPole-v1', render_mode='rgb_array')\n",
        "RenderWrapper.register(env, force_gif=True)\n",
        "\n",
        "test_q_network_agent(env, q_network, num_episode=5)\n",
        "\n",
        "env.close()\n",
        "\n",
        "env.render_wrapper.make_gif(FIGS_DIR / \"lab1_dqn_naive_untained\")"
      ]
    },
    {
      "cell_type": "markdown",
      "metadata": {
        "id": "gddBWpN5W9f3"
      },
      "source": [
        "#### Implement the epsilon greedy function\n",
        "\n",
        "In the following cell, you will implement the epsilon-greedy strategy, which is a crucial component in balancing exploration and exploitation during the learning process of our reinforcement learning agent.\n",
        "In this implementation, the epsilon value will decrease over time to encourage the agent to explore more in the early stages of training and exploit more as training progresses. After a certain number of episodes, the epsilon value will remain constant at a minimum value.\n",
        "\n",
        "The figure below illustrates the usage of `epsilon`, `epsilon_min` and `epsilon_start`:\n",
        "\n",
        "<img src=\"https://raw.githubusercontent.com/jeremiedecock/polytechnique-csc-53439-ep-2025-students/main/assets/lab1_epsilon.svg\" width=\"600px\" />\n",
        "\n",
        "**Task 2.4:** Now, let's proceed to implement the epsilon-greedy strategy, which is a crucial component in balancing exploration and exploitation during the learning process of our reinforcement learning agent. To accomplish this, complete the `__call__` function in the following code block.\n",
        "\n",
        "**Tips:** `EpsilonGreedy` is a *[callable](https://docs.python.org/3/glossary.html#term-callable) class* (a.k.a a Python *functor*) that can be used as a function. The `__call__` method is called when the instance is \"called\" as a function. In this case, the `__call__` method should return a random action with probability `epsilon` and the action with the highest Q-value with probability `1 - epsilon`."
      ]
    },
    {
      "cell_type": "code",
      "execution_count": 22,
      "metadata": {
        "id": "8u0vAGNCW9f4"
      },
      "outputs": [],
      "source": [
        "class EpsilonGreedy:\n",
        "    \"\"\"\n",
        "    An Epsilon-Greedy policy.\n",
        "\n",
        "    Attributes\n",
        "    ----------\n",
        "    epsilon : float\n",
        "        The initial probability of choosing a random action.\n",
        "    epsilon_min : float\n",
        "        The minimum probability of choosing a random action.\n",
        "    epsilon_decay : float\n",
        "        The decay rate for the epsilon value after each action.\n",
        "    env : gym.Env\n",
        "        The environment in which the agent is acting.\n",
        "    q_network : torch.nn.Module\n",
        "        The Q-Network used to estimate action values.\n",
        "\n",
        "    Methods\n",
        "    -------\n",
        "    __call__(state: np.ndarray) -> np.int64\n",
        "        Select an action for the given state using the epsilon-greedy policy.\n",
        "    decay_epsilon()\n",
        "        Decay the epsilon value after each action.\n",
        "    \"\"\"\n",
        "\n",
        "    def __init__(self,\n",
        "                 epsilon_start: float,\n",
        "                 epsilon_min: float,\n",
        "                 epsilon_decay:float,\n",
        "                 env: gym.Env,\n",
        "                 q_network: torch.nn.Module):\n",
        "        \"\"\"\n",
        "        Initialize a new instance of EpsilonGreedy.\n",
        "\n",
        "        Parameters\n",
        "        ----------\n",
        "        epsilon_start : float\n",
        "            The initial probability of choosing a random action.\n",
        "        epsilon_min : float\n",
        "            The minimum probability of choosing a random action.\n",
        "        epsilon_decay : float\n",
        "            The decay rate for the epsilon value after each episode.\n",
        "        env : gym.Env\n",
        "            The environment in which the agent is acting.\n",
        "        q_network : torch.nn.Module\n",
        "            The Q-Network used to estimate action values.\n",
        "        \"\"\"\n",
        "        self.epsilon = epsilon_start\n",
        "        self.epsilon_min = epsilon_min\n",
        "        self.epsilon_decay = epsilon_decay\n",
        "        self.env = env\n",
        "        self.q_network = q_network\n",
        "\n",
        "    def __call__(self, state: np.ndarray) -> np.int64:\n",
        "        \"\"\"\n",
        "        Select an action for the given state using the epsilon-greedy policy.\n",
        "\n",
        "        If a randomly chosen number is less than epsilon, a random action is chosen.\n",
        "        Otherwise, the action with the highest estimated action value is chosen.\n",
        "\n",
        "        Parameters\n",
        "        ----------\n",
        "        state : np.ndarray\n",
        "            The current state of the environment.\n",
        "\n",
        "        Returns\n",
        "        -------\n",
        "        np.int64\n",
        "            The chosen action.\n",
        "        \"\"\"\n",
        "\n",
        "        if random.random() < self.epsilon:\n",
        "            action = self.env.action_space.sample()\n",
        "        else:\n",
        "            with torch.no_grad():\n",
        "                # state_tensor = TODO... # Convert the state to a PyTorch tensor and add a batch dimension (unsqueeze)\n",
        "                state_tensor = torch.tensor(state, dtype=torch.float32, device=device).unsqueeze(0)\n",
        "\n",
        "                # q_values = TODO... # Compute the Q-values for the current state using the Q-network\n",
        "                q_values = self.q_network(state_tensor)\n",
        "\n",
        "                # action = TODO... # Select the action with the highest Q-value\n",
        "                action = torch.argmax(q_values).item()\n",
        "\n",
        "        return action\n",
        "\n",
        "    def decay_epsilon(self):\n",
        "        \"\"\"\n",
        "        Decay the epsilon value after each episode.\n",
        "\n",
        "        The new epsilon value is the maximum of `epsilon_min` and the product of the current\n",
        "        epsilon value and `epsilon_decay`.\n",
        "        \"\"\"\n",
        "        self.epsilon = max(self.epsilon_min, self.epsilon * self.epsilon_decay)"
      ]
    },
    {
      "cell_type": "markdown",
      "metadata": {
        "id": "Tcog_J8ZW9f4"
      },
      "source": [
        "#### Implementing a Learning Rate Scheduler\n",
        "\n",
        "The following cell introduces a PyTorch Learning Rate (LR) scheduler. This scheduler is used for managing and adjusting the learning rate ($\\alpha$ in the \"naive value-based reinforcement learning algorithm\") throughout the training process of our agent. It is designed to adjust the learning rate of an optimizer at each *epoch*, following an exponential decay strategy, but with a lower limit on the learning rate."
      ]
    },
    {
      "cell_type": "code",
      "execution_count": 23,
      "metadata": {
        "id": "wPGDihfbW9f4"
      },
      "outputs": [],
      "source": [
        "class MinimumExponentialLR(torch.optim.lr_scheduler.ExponentialLR):\n",
        "    def __init__(self, optimizer: torch.optim.Optimizer, lr_decay: float, last_epoch: int = -1, min_lr: float = 1e-6):\n",
        "        \"\"\"\n",
        "        Initialize a new instance of MinimumExponentialLR.\n",
        "\n",
        "        Parameters\n",
        "        ----------\n",
        "        optimizer : torch.optim.Optimizer\n",
        "            The optimizer whose learning rate should be scheduled.\n",
        "        lr_decay : float\n",
        "            The multiplicative factor of learning rate decay.\n",
        "        last_epoch : int, optional\n",
        "            The index of the last epoch. Default is -1.\n",
        "        min_lr : float, optional\n",
        "            The minimum learning rate. Default is 1e-6.\n",
        "        \"\"\"\n",
        "        self.min_lr = min_lr\n",
        "        super().__init__(optimizer, lr_decay, last_epoch=-1)\n",
        "\n",
        "    def get_lr(self) -> List[float]:\n",
        "        \"\"\"\n",
        "        Compute learning rate using chainable form of the scheduler.\n",
        "\n",
        "        Returns\n",
        "        -------\n",
        "        List[float]\n",
        "            The learning rates of each parameter group.\n",
        "        \"\"\"\n",
        "        return [\n",
        "            max(base_lr * self.gamma ** self.last_epoch, self.min_lr)\n",
        "            for base_lr in self.base_lrs\n",
        "        ]"
      ]
    },
    {
      "cell_type": "markdown",
      "metadata": {
        "id": "xjFLRTwOW9f4"
      },
      "source": [
        "#### Implementing the Training Function\n",
        "\n",
        "The following function is the final component of our initial agent. It orchestrates the training process, enabling the agent to learn from its interactions with the environment.\n",
        "\n",
        "During each episode, the agent selects actions based on an epsilon-greedy policy, observes the next state and reward from the environment, and updates the weights of the Q-Network based on the observed reward and the maximum predicted Q-value of the next state."
      ]
    },
    {
      "cell_type": "markdown",
      "metadata": {
        "id": "bLMytOInW9f4"
      },
      "source": [
        "##### Parctical tips\n",
        "\n",
        "To compute the target value, you can eliminate the need for an if statement to differentiate between terminal and non-terminal states by using the following formula:  \n",
        "\n",
        "$$\n",
        "y = r + \\gamma \\max_{\\mathbf{a}^\\star \\in \\mathcal{A}} \\hat{Q}_{\\mathbf{\\omega}}(\\mathbf{s'})_{\\mathbf{a}^\\star} \\times (1 - \\text{done})\n",
        "$$\n",
        "\n",
        "where $\\text{done} = 1$ if $s'$ is a terminal state and 0 otherwise.\n",
        "\n",
        "To complete task 2.5, you also need to be familiar with the following PyTorch concepts:\n",
        "\n",
        "- [torch.max](https://pytorch.org/docs/stable/generated/torch.max.html) (or [torch.Tensor.max](https://pytorch.org/docs/stable/generated/torch.Tensor.max.html)) to get the maximum value of a tensor."
      ]
    },
    {
      "cell_type": "markdown",
      "metadata": {
        "id": "3SsoWfvzW9f4"
      },
      "source": [
        "**Task 2.5:** complete this function"
      ]
    },
    {
      "cell_type": "code",
      "execution_count": 24,
      "metadata": {
        "id": "nPlDjfR8W9f4"
      },
      "outputs": [],
      "source": [
        "def train_naive_agent(env: gym.Env,\n",
        "                      q_network: torch.nn.Module,\n",
        "                      optimizer: torch.optim.Optimizer,\n",
        "                      loss_fn: Callable,\n",
        "                      epsilon_greedy: EpsilonGreedy,\n",
        "                      device: torch.device,\n",
        "                      lr_scheduler: _LRScheduler,\n",
        "                      num_episodes: int,\n",
        "                      gamma: float) -> List[float]:\n",
        "    \"\"\"\n",
        "    Train the Q-network on the given environment.\n",
        "\n",
        "    Parameters\n",
        "    ----------\n",
        "    env : gym.Env\n",
        "        The environment to train on.\n",
        "    q_network : torch.nn.Module\n",
        "        The Q-network to train.\n",
        "    optimizer : torch.optim.Optimizer\n",
        "        The optimizer to use for training.\n",
        "    loss_fn : callable\n",
        "        The loss function to use for training.\n",
        "    epsilon_greedy : EpsilonGreedy\n",
        "        The epsilon-greedy policy to use for action selection.\n",
        "    device : torch.device\n",
        "        The device to use for PyTorch computations.\n",
        "    lr_scheduler : torch.optim.lr_scheduler._LRScheduler\n",
        "        The learning rate scheduler to adjust the learning rate during training.\n",
        "    num_episodes : int\n",
        "        The number of episodes to train for.\n",
        "    gamma : float\n",
        "        The discount factor for future rewards.\n",
        "\n",
        "    Returns\n",
        "    -------\n",
        "    List[float]\n",
        "        A list of cumulated rewards per episode.\n",
        "    \"\"\"\n",
        "    episode_reward_list = []\n",
        "\n",
        "    for episode_index in tqdm(range(1, num_episodes)):\n",
        "        state, info = env.reset()\n",
        "        episode_reward = 0\n",
        "\n",
        "        for t in itertools.count():\n",
        "\n",
        "\n",
        "            # Get action, next_state and reward\n",
        "\n",
        "            action = epsilon_greedy(state)\n",
        "\n",
        "            next_state, reward, terminated, truncated, info = env.step(action)\n",
        "            done = terminated or truncated\n",
        "\n",
        "            episode_reward += reward\n",
        "\n",
        "            # Update the q_network weights\n",
        "\n",
        "            with torch.no_grad():\n",
        "                # next_state_tensor = TODO... # Convert the next_state to a PyTorch tensor and add a batch dimension (unsqueeze)\n",
        "                next_state_tensor = torch.tensor(next_state, dtype=torch.float32, device=device).unsqueeze(0)\n",
        "\n",
        "                # target = TODO... # Compute the **target** Q-value\n",
        "                target = reward + gamma * torch.max(q_network(next_state_tensor)) * (1 - done)\n",
        "\n",
        "            # state_tensor = TODO... # Convert the state to a PyTorch tensor and add a batch dimension (unsqueeze)\n",
        "            state_tensor = torch.tensor(state, dtype=torch.float32, device=device).unsqueeze(0)\n",
        "\n",
        "            # q_values = TODO... # Compute the Q-values for the current state using the Q-network\n",
        "            q_values = q_network(state_tensor)\n",
        "\n",
        "            # q_value_of_current_action = TODO... # Get the Q-value of the current action\n",
        "            q_value_of_current_action = q_values[0][action]\n",
        "\n",
        "            loss = loss_fn(q_value_of_current_action, target)\n",
        "\n",
        "            optimizer.zero_grad()\n",
        "            loss.backward()\n",
        "            optimizer.step()\n",
        "\n",
        "            lr_scheduler.step()\n",
        "\n",
        "            if done:\n",
        "                break\n",
        "\n",
        "            state = next_state\n",
        "\n",
        "\n",
        "        episode_reward_list.append(episode_reward)\n",
        "        epsilon_greedy.decay_epsilon()\n",
        "\n",
        "    return episode_reward_list"
      ]
    },
    {
      "cell_type": "markdown",
      "metadata": {
        "id": "X4ze174VW9f5"
      },
      "source": [
        "#### Train the agent"
      ]
    },
    {
      "cell_type": "code",
      "execution_count": 26,
      "metadata": {
        "colab": {
          "base_uri": "https://localhost:8080/",
          "height": 356
        },
        "id": "WVRuxeBZW9f5",
        "outputId": "86467892-53ff-49ee-ed15-0e32d1d49033"
      },
      "outputs": [
        {
          "output_type": "error",
          "ename": "AttributeError",
          "evalue": "partially initialized module 'torch._dynamo' has no attribute 'utils' (most likely due to a circular import)",
          "traceback": [
            "\u001b[0;31m---------------------------------------------------------------------------\u001b[0m",
            "\u001b[0;31mAttributeError\u001b[0m                            Traceback (most recent call last)",
            "\u001b[0;32m/tmp/ipython-input-2788259603.py\u001b[0m in \u001b[0;36m<cell line: 0>\u001b[0;34m()\u001b[0m\n\u001b[1;32m      9\u001b[0m \u001b[0;34m\u001b[0m\u001b[0m\n\u001b[1;32m     10\u001b[0m     \u001b[0mq_network\u001b[0m \u001b[0;34m=\u001b[0m \u001b[0mQNetwork\u001b[0m\u001b[0;34m(\u001b[0m\u001b[0mstate_dim\u001b[0m\u001b[0;34m,\u001b[0m \u001b[0maction_dim\u001b[0m\u001b[0;34m,\u001b[0m \u001b[0mnn_l1\u001b[0m\u001b[0;34m=\u001b[0m\u001b[0;36m128\u001b[0m\u001b[0;34m,\u001b[0m \u001b[0mnn_l2\u001b[0m\u001b[0;34m=\u001b[0m\u001b[0;36m128\u001b[0m\u001b[0;34m)\u001b[0m\u001b[0;34m.\u001b[0m\u001b[0mto\u001b[0m\u001b[0;34m(\u001b[0m\u001b[0mdevice\u001b[0m\u001b[0;34m)\u001b[0m\u001b[0;34m\u001b[0m\u001b[0;34m\u001b[0m\u001b[0m\n\u001b[0;32m---> 11\u001b[0;31m     \u001b[0moptimizer\u001b[0m \u001b[0;34m=\u001b[0m \u001b[0mtorch\u001b[0m\u001b[0;34m.\u001b[0m\u001b[0moptim\u001b[0m\u001b[0;34m.\u001b[0m\u001b[0mAdamW\u001b[0m\u001b[0;34m(\u001b[0m\u001b[0mq_network\u001b[0m\u001b[0;34m.\u001b[0m\u001b[0mparameters\u001b[0m\u001b[0;34m(\u001b[0m\u001b[0;34m)\u001b[0m\u001b[0;34m,\u001b[0m \u001b[0mlr\u001b[0m\u001b[0;34m=\u001b[0m\u001b[0;36m0.004\u001b[0m\u001b[0;34m,\u001b[0m \u001b[0mamsgrad\u001b[0m\u001b[0;34m=\u001b[0m\u001b[0;32mTrue\u001b[0m\u001b[0;34m)\u001b[0m\u001b[0;34m\u001b[0m\u001b[0;34m\u001b[0m\u001b[0m\n\u001b[0m\u001b[1;32m     12\u001b[0m     \u001b[0;31m#lr_scheduler = torch.optim.lr_scheduler.ExponentialLR(optimizer, gamma=0.999)\u001b[0m\u001b[0;34m\u001b[0m\u001b[0;34m\u001b[0m\u001b[0m\n\u001b[1;32m     13\u001b[0m     \u001b[0mlr_scheduler\u001b[0m \u001b[0;34m=\u001b[0m \u001b[0mMinimumExponentialLR\u001b[0m\u001b[0;34m(\u001b[0m\u001b[0moptimizer\u001b[0m\u001b[0;34m,\u001b[0m \u001b[0mlr_decay\u001b[0m\u001b[0;34m=\u001b[0m\u001b[0;36m0.97\u001b[0m\u001b[0;34m,\u001b[0m \u001b[0mmin_lr\u001b[0m\u001b[0;34m=\u001b[0m\u001b[0;36m0.0001\u001b[0m\u001b[0;34m)\u001b[0m\u001b[0;34m\u001b[0m\u001b[0;34m\u001b[0m\u001b[0m\n",
            "\u001b[0;32m/usr/local/lib/python3.12/dist-packages/torch/optim/adamw.py\u001b[0m in \u001b[0;36m__init__\u001b[0;34m(self, params, lr, betas, eps, weight_decay, amsgrad, maximize, foreach, capturable, differentiable, fused)\u001b[0m\n\u001b[1;32m     35\u001b[0m         \u001b[0mfused\u001b[0m\u001b[0;34m:\u001b[0m \u001b[0mOptional\u001b[0m\u001b[0;34m[\u001b[0m\u001b[0mbool\u001b[0m\u001b[0;34m]\u001b[0m \u001b[0;34m=\u001b[0m \u001b[0;32mNone\u001b[0m\u001b[0;34m,\u001b[0m\u001b[0;34m\u001b[0m\u001b[0;34m\u001b[0m\u001b[0m\n\u001b[1;32m     36\u001b[0m     ):\n\u001b[0;32m---> 37\u001b[0;31m         super().__init__(\n\u001b[0m\u001b[1;32m     38\u001b[0m             \u001b[0mparams\u001b[0m\u001b[0;34m,\u001b[0m\u001b[0;34m\u001b[0m\u001b[0;34m\u001b[0m\u001b[0m\n\u001b[1;32m     39\u001b[0m             \u001b[0mlr\u001b[0m\u001b[0;34m,\u001b[0m\u001b[0;34m\u001b[0m\u001b[0;34m\u001b[0m\u001b[0m\n",
            "\u001b[0;32m/usr/local/lib/python3.12/dist-packages/torch/optim/adam.py\u001b[0m in \u001b[0;36m__init__\u001b[0;34m(self, params, lr, betas, eps, weight_decay, amsgrad, foreach, maximize, capturable, differentiable, fused, decoupled_weight_decay)\u001b[0m\n\u001b[1;32m     99\u001b[0m             \u001b[0mdecoupled_weight_decay\u001b[0m\u001b[0;34m=\u001b[0m\u001b[0mdecoupled_weight_decay\u001b[0m\u001b[0;34m,\u001b[0m\u001b[0;34m\u001b[0m\u001b[0;34m\u001b[0m\u001b[0m\n\u001b[1;32m    100\u001b[0m         )\n\u001b[0;32m--> 101\u001b[0;31m         \u001b[0msuper\u001b[0m\u001b[0;34m(\u001b[0m\u001b[0;34m)\u001b[0m\u001b[0;34m.\u001b[0m\u001b[0m__init__\u001b[0m\u001b[0;34m(\u001b[0m\u001b[0mparams\u001b[0m\u001b[0;34m,\u001b[0m \u001b[0mdefaults\u001b[0m\u001b[0;34m)\u001b[0m\u001b[0;34m\u001b[0m\u001b[0;34m\u001b[0m\u001b[0m\n\u001b[0m\u001b[1;32m    102\u001b[0m \u001b[0;34m\u001b[0m\u001b[0m\n\u001b[1;32m    103\u001b[0m         \u001b[0;32mif\u001b[0m \u001b[0mfused\u001b[0m\u001b[0;34m:\u001b[0m\u001b[0;34m\u001b[0m\u001b[0;34m\u001b[0m\u001b[0m\n",
            "\u001b[0;32m/usr/local/lib/python3.12/dist-packages/torch/optim/optimizer.py\u001b[0m in \u001b[0;36m__init__\u001b[0;34m(self, params, defaults)\u001b[0m\n\u001b[1;32m    398\u001b[0m \u001b[0;34m\u001b[0m\u001b[0m\n\u001b[1;32m    399\u001b[0m         \u001b[0;32mfor\u001b[0m \u001b[0mparam_group\u001b[0m \u001b[0;32min\u001b[0m \u001b[0mparam_groups\u001b[0m\u001b[0;34m:\u001b[0m\u001b[0;34m\u001b[0m\u001b[0;34m\u001b[0m\u001b[0m\n\u001b[0;32m--> 400\u001b[0;31m             \u001b[0mself\u001b[0m\u001b[0;34m.\u001b[0m\u001b[0madd_param_group\u001b[0m\u001b[0;34m(\u001b[0m\u001b[0mcast\u001b[0m\u001b[0;34m(\u001b[0m\u001b[0mdict\u001b[0m\u001b[0;34m,\u001b[0m \u001b[0mparam_group\u001b[0m\u001b[0;34m)\u001b[0m\u001b[0;34m)\u001b[0m\u001b[0;34m\u001b[0m\u001b[0;34m\u001b[0m\u001b[0m\n\u001b[0m\u001b[1;32m    401\u001b[0m \u001b[0;34m\u001b[0m\u001b[0m\n\u001b[1;32m    402\u001b[0m         \u001b[0;31m# Allows _cuda_graph_capture_health_check to rig a poor man's TORCH_WARN_ONCE in python,\u001b[0m\u001b[0;34m\u001b[0m\u001b[0;34m\u001b[0m\u001b[0m\n",
            "\u001b[0;32m/usr/local/lib/python3.12/dist-packages/torch/_compile.py\u001b[0m in \u001b[0;36minner\u001b[0;34m(*args, **kwargs)\u001b[0m\n\u001b[1;32m     44\u001b[0m             \u001b[0mdisable_fn\u001b[0m \u001b[0;34m=\u001b[0m \u001b[0mgetattr\u001b[0m\u001b[0;34m(\u001b[0m\u001b[0mfn\u001b[0m\u001b[0;34m,\u001b[0m \u001b[0;34m\"__dynamo_disable\"\u001b[0m\u001b[0;34m,\u001b[0m \u001b[0;32mNone\u001b[0m\u001b[0;34m)\u001b[0m\u001b[0;34m\u001b[0m\u001b[0;34m\u001b[0m\u001b[0m\n\u001b[1;32m     45\u001b[0m             \u001b[0;32mif\u001b[0m \u001b[0mdisable_fn\u001b[0m \u001b[0;32mis\u001b[0m \u001b[0;32mNone\u001b[0m\u001b[0;34m:\u001b[0m\u001b[0;34m\u001b[0m\u001b[0;34m\u001b[0m\u001b[0m\n\u001b[0;32m---> 46\u001b[0;31m                 \u001b[0;32mimport\u001b[0m \u001b[0mtorch\u001b[0m\u001b[0;34m.\u001b[0m\u001b[0m_dynamo\u001b[0m\u001b[0;34m\u001b[0m\u001b[0;34m\u001b[0m\u001b[0m\n\u001b[0m\u001b[1;32m     47\u001b[0m \u001b[0;34m\u001b[0m\u001b[0m\n\u001b[1;32m     48\u001b[0m                 \u001b[0;31m# We can safely turn off functools.wraps here because the inner\u001b[0m\u001b[0;34m\u001b[0m\u001b[0;34m\u001b[0m\u001b[0m\n",
            "\u001b[0;32m/usr/local/lib/python3.12/dist-packages/torch/_dynamo/__init__.py\u001b[0m in \u001b[0;36m<module>\u001b[0;34m\u001b[0m\n\u001b[1;32m     11\u001b[0m \u001b[0;32mimport\u001b[0m \u001b[0mtorch\u001b[0m\u001b[0;34m\u001b[0m\u001b[0;34m\u001b[0m\u001b[0m\n\u001b[1;32m     12\u001b[0m \u001b[0;34m\u001b[0m\u001b[0m\n\u001b[0;32m---> 13\u001b[0;31m \u001b[0;32mfrom\u001b[0m \u001b[0;34m.\u001b[0m \u001b[0;32mimport\u001b[0m \u001b[0mconfig\u001b[0m\u001b[0;34m,\u001b[0m \u001b[0mconvert_frame\u001b[0m\u001b[0;34m,\u001b[0m \u001b[0meval_frame\u001b[0m\u001b[0;34m,\u001b[0m \u001b[0mresume_execution\u001b[0m\u001b[0;34m\u001b[0m\u001b[0;34m\u001b[0m\u001b[0m\n\u001b[0m\u001b[1;32m     14\u001b[0m \u001b[0;32mfrom\u001b[0m \u001b[0;34m.\u001b[0m\u001b[0mbackends\u001b[0m\u001b[0;34m.\u001b[0m\u001b[0mregistry\u001b[0m \u001b[0;32mimport\u001b[0m \u001b[0mlist_backends\u001b[0m\u001b[0;34m,\u001b[0m \u001b[0mlookup_backend\u001b[0m\u001b[0;34m,\u001b[0m \u001b[0mregister_backend\u001b[0m\u001b[0;34m\u001b[0m\u001b[0;34m\u001b[0m\u001b[0m\n\u001b[1;32m     15\u001b[0m \u001b[0;32mfrom\u001b[0m \u001b[0;34m.\u001b[0m\u001b[0mcallback\u001b[0m \u001b[0;32mimport\u001b[0m \u001b[0mcallback_handler\u001b[0m\u001b[0;34m,\u001b[0m \u001b[0mon_compile_end\u001b[0m\u001b[0;34m,\u001b[0m \u001b[0mon_compile_start\u001b[0m\u001b[0;34m\u001b[0m\u001b[0;34m\u001b[0m\u001b[0m\n",
            "\u001b[0;32m/usr/local/lib/python3.12/dist-packages/torch/_dynamo/convert_frame.py\u001b[0m in \u001b[0;36m<module>\u001b[0;34m\u001b[0m\n\u001b[1;32m     51\u001b[0m \u001b[0;32mfrom\u001b[0m \u001b[0mtorch\u001b[0m\u001b[0;34m.\u001b[0m\u001b[0m_dynamo\u001b[0m\u001b[0;34m.\u001b[0m\u001b[0mcallback\u001b[0m \u001b[0;32mimport\u001b[0m \u001b[0mCallbackTrigger\u001b[0m\u001b[0;34m\u001b[0m\u001b[0;34m\u001b[0m\u001b[0m\n\u001b[1;32m     52\u001b[0m \u001b[0;32mfrom\u001b[0m \u001b[0mtorch\u001b[0m\u001b[0;34m.\u001b[0m\u001b[0m_dynamo\u001b[0m\u001b[0;34m.\u001b[0m\u001b[0mdistributed\u001b[0m \u001b[0;32mimport\u001b[0m \u001b[0mget_compile_pg\u001b[0m\u001b[0;34m\u001b[0m\u001b[0;34m\u001b[0m\u001b[0m\n\u001b[0;32m---> 53\u001b[0;31m \u001b[0;32mfrom\u001b[0m \u001b[0mtorch\u001b[0m\u001b[0;34m.\u001b[0m\u001b[0m_dynamo\u001b[0m\u001b[0;34m.\u001b[0m\u001b[0msymbolic_convert\u001b[0m \u001b[0;32mimport\u001b[0m \u001b[0mTensorifyState\u001b[0m\u001b[0;34m\u001b[0m\u001b[0;34m\u001b[0m\u001b[0m\n\u001b[0m\u001b[1;32m     54\u001b[0m \u001b[0;32mfrom\u001b[0m \u001b[0mtorch\u001b[0m\u001b[0;34m.\u001b[0m\u001b[0m_guards\u001b[0m \u001b[0;32mimport\u001b[0m \u001b[0mcompile_context\u001b[0m\u001b[0;34m,\u001b[0m \u001b[0mCompileContext\u001b[0m\u001b[0;34m,\u001b[0m \u001b[0mCompileId\u001b[0m\u001b[0;34m,\u001b[0m \u001b[0mtracing\u001b[0m\u001b[0;34m\u001b[0m\u001b[0;34m\u001b[0m\u001b[0m\n\u001b[1;32m     55\u001b[0m \u001b[0;32mfrom\u001b[0m \u001b[0mtorch\u001b[0m\u001b[0;34m.\u001b[0m\u001b[0m_logging\u001b[0m \u001b[0;32mimport\u001b[0m \u001b[0mstructured\u001b[0m\u001b[0;34m\u001b[0m\u001b[0;34m\u001b[0m\u001b[0m\n",
            "\u001b[0;32m/usr/local/lib/python3.12/dist-packages/torch/_dynamo/symbolic_convert.py\u001b[0m in \u001b[0;36m<module>\u001b[0;34m\u001b[0m\n\u001b[1;32m     56\u001b[0m \u001b[0;32mfrom\u001b[0m \u001b[0mtorch\u001b[0m\u001b[0;34m.\u001b[0m\u001b[0mutils\u001b[0m\u001b[0;34m.\u001b[0m\u001b[0m_functools\u001b[0m \u001b[0;32mimport\u001b[0m \u001b[0mcache_method\u001b[0m\u001b[0;34m\u001b[0m\u001b[0;34m\u001b[0m\u001b[0m\n\u001b[1;32m     57\u001b[0m \u001b[0;34m\u001b[0m\u001b[0m\n\u001b[0;32m---> 58\u001b[0;31m from . import (\n\u001b[0m\u001b[1;32m     59\u001b[0m     \u001b[0mconfig\u001b[0m\u001b[0;34m,\u001b[0m\u001b[0;34m\u001b[0m\u001b[0;34m\u001b[0m\u001b[0m\n\u001b[1;32m     60\u001b[0m     \u001b[0mexc\u001b[0m\u001b[0;34m,\u001b[0m\u001b[0;34m\u001b[0m\u001b[0;34m\u001b[0m\u001b[0m\n",
            "\u001b[0;32m/usr/local/lib/python3.12/dist-packages/torch/_dynamo/trace_rules.py\u001b[0m in \u001b[0;36m<module>\u001b[0;34m\u001b[0m\n\u001b[1;32m     45\u001b[0m \u001b[0;34m\u001b[0m\u001b[0m\n\u001b[1;32m     46\u001b[0m \u001b[0;32mimport\u001b[0m \u001b[0mtorch\u001b[0m\u001b[0;34m\u001b[0m\u001b[0;34m\u001b[0m\u001b[0m\n\u001b[0;32m---> 47\u001b[0;31m \u001b[0;32mimport\u001b[0m \u001b[0mtorch\u001b[0m\u001b[0;34m.\u001b[0m\u001b[0m_inductor\u001b[0m\u001b[0;34m.\u001b[0m\u001b[0mtest_operators\u001b[0m\u001b[0;34m\u001b[0m\u001b[0;34m\u001b[0m\u001b[0m\n\u001b[0m\u001b[1;32m     48\u001b[0m \u001b[0;32mimport\u001b[0m \u001b[0mtorch\u001b[0m\u001b[0;34m.\u001b[0m\u001b[0mdistributed\u001b[0m\u001b[0;34m\u001b[0m\u001b[0;34m\u001b[0m\u001b[0m\n\u001b[1;32m     49\u001b[0m \u001b[0;32mimport\u001b[0m \u001b[0mtorch\u001b[0m\u001b[0;34m.\u001b[0m\u001b[0mutils\u001b[0m\u001b[0;34m.\u001b[0m\u001b[0m_content_store\u001b[0m\u001b[0;34m\u001b[0m\u001b[0;34m\u001b[0m\u001b[0m\n",
            "\u001b[0;32m/usr/local/lib/python3.12/dist-packages/torch/_inductor/__init__.py\u001b[0m in \u001b[0;36m<module>\u001b[0;34m\u001b[0m\n\u001b[1;32m     10\u001b[0m \u001b[0;32mimport\u001b[0m \u001b[0mtorch\u001b[0m\u001b[0;34m.\u001b[0m\u001b[0mfx\u001b[0m\u001b[0;34m\u001b[0m\u001b[0;34m\u001b[0m\u001b[0m\n\u001b[1;32m     11\u001b[0m \u001b[0;34m\u001b[0m\u001b[0m\n\u001b[0;32m---> 12\u001b[0;31m \u001b[0;32mfrom\u001b[0m \u001b[0;34m.\u001b[0m\u001b[0mstandalone_compile\u001b[0m \u001b[0;32mimport\u001b[0m \u001b[0mCompiledArtifact\u001b[0m  \u001b[0;31m# noqa: TC001\u001b[0m\u001b[0;34m\u001b[0m\u001b[0;34m\u001b[0m\u001b[0m\n\u001b[0m\u001b[1;32m     13\u001b[0m \u001b[0;34m\u001b[0m\u001b[0m\n\u001b[1;32m     14\u001b[0m \u001b[0;34m\u001b[0m\u001b[0m\n",
            "\u001b[0;32m/usr/local/lib/python3.12/dist-packages/torch/_inductor/standalone_compile.py\u001b[0m in \u001b[0;36m<module>\u001b[0;34m\u001b[0m\n\u001b[1;32m     11\u001b[0m \u001b[0;32mimport\u001b[0m \u001b[0mtorch\u001b[0m\u001b[0;34m.\u001b[0m\u001b[0mfx\u001b[0m\u001b[0;34m\u001b[0m\u001b[0;34m\u001b[0m\u001b[0m\n\u001b[1;32m     12\u001b[0m \u001b[0;32mfrom\u001b[0m \u001b[0mtorch\u001b[0m\u001b[0;34m.\u001b[0m\u001b[0m_dynamo\u001b[0m\u001b[0;34m.\u001b[0m\u001b[0mutils\u001b[0m \u001b[0;32mimport\u001b[0m \u001b[0mdynamo_timed\u001b[0m\u001b[0;34m\u001b[0m\u001b[0;34m\u001b[0m\u001b[0m\n\u001b[0;32m---> 13\u001b[0;31m \u001b[0;32mfrom\u001b[0m \u001b[0mtorch\u001b[0m\u001b[0;34m.\u001b[0m\u001b[0m_inductor\u001b[0m\u001b[0;34m.\u001b[0m\u001b[0mcudagraph_utils\u001b[0m \u001b[0;32mimport\u001b[0m \u001b[0mBoxedDeviceIndex\u001b[0m\u001b[0;34m\u001b[0m\u001b[0;34m\u001b[0m\u001b[0m\n\u001b[0m\u001b[1;32m     14\u001b[0m \u001b[0;32mfrom\u001b[0m \u001b[0mtorch\u001b[0m\u001b[0;34m.\u001b[0m\u001b[0m_inductor\u001b[0m\u001b[0;34m.\u001b[0m\u001b[0mruntime\u001b[0m\u001b[0;34m.\u001b[0m\u001b[0mcache_dir_utils\u001b[0m \u001b[0;32mimport\u001b[0m \u001b[0mtemporary_cache_dir\u001b[0m\u001b[0;34m\u001b[0m\u001b[0;34m\u001b[0m\u001b[0m\n\u001b[1;32m     15\u001b[0m \u001b[0;32mfrom\u001b[0m \u001b[0mtorch\u001b[0m\u001b[0;34m.\u001b[0m\u001b[0m_inductor\u001b[0m\u001b[0;34m.\u001b[0m\u001b[0mutils\u001b[0m \u001b[0;32mimport\u001b[0m \u001b[0mBoxedBool\u001b[0m\u001b[0;34m,\u001b[0m \u001b[0mInputType\u001b[0m\u001b[0;34m\u001b[0m\u001b[0;34m\u001b[0m\u001b[0m\n",
            "\u001b[0;32m/usr/local/lib/python3.12/dist-packages/torch/_inductor/cudagraph_utils.py\u001b[0m in \u001b[0;36m<module>\u001b[0;34m\u001b[0m\n\u001b[1;32m      8\u001b[0m \u001b[0;32mimport\u001b[0m \u001b[0mtorch\u001b[0m\u001b[0;34m\u001b[0m\u001b[0;34m\u001b[0m\u001b[0m\n\u001b[1;32m      9\u001b[0m \u001b[0;32mfrom\u001b[0m \u001b[0mtorch\u001b[0m\u001b[0;34m.\u001b[0m\u001b[0m_dynamo\u001b[0m\u001b[0;34m.\u001b[0m\u001b[0mutils\u001b[0m \u001b[0;32mimport\u001b[0m \u001b[0mcounters\u001b[0m\u001b[0;34m,\u001b[0m \u001b[0mget_metrics_context\u001b[0m\u001b[0;34m\u001b[0m\u001b[0;34m\u001b[0m\u001b[0m\n\u001b[0;32m---> 10\u001b[0;31m \u001b[0;32mfrom\u001b[0m \u001b[0mtorch\u001b[0m\u001b[0;34m.\u001b[0m\u001b[0m_inductor\u001b[0m\u001b[0;34m.\u001b[0m\u001b[0mutils\u001b[0m \u001b[0;32mimport\u001b[0m \u001b[0mGraphPartitionMap\u001b[0m\u001b[0;34m,\u001b[0m \u001b[0mInputType\u001b[0m\u001b[0;34m\u001b[0m\u001b[0;34m\u001b[0m\u001b[0m\n\u001b[0m\u001b[1;32m     11\u001b[0m \u001b[0;32mfrom\u001b[0m \u001b[0mtorch\u001b[0m\u001b[0;34m.\u001b[0m\u001b[0mutils\u001b[0m\u001b[0;34m.\u001b[0m\u001b[0m_ordered_set\u001b[0m \u001b[0;32mimport\u001b[0m \u001b[0mOrderedSet\u001b[0m\u001b[0;34m\u001b[0m\u001b[0;34m\u001b[0m\u001b[0m\n\u001b[1;32m     12\u001b[0m \u001b[0;34m\u001b[0m\u001b[0m\n",
            "\u001b[0;32m/usr/local/lib/python3.12/dist-packages/torch/_inductor/utils.py\u001b[0m in \u001b[0;36m<module>\u001b[0;34m\u001b[0m\n\u001b[1;32m    117\u001b[0m \u001b[0;34m\u001b[0m\u001b[0m\n\u001b[1;32m    118\u001b[0m \u001b[0;32mfrom\u001b[0m \u001b[0;34m.\u001b[0m \u001b[0;32mimport\u001b[0m \u001b[0mconfig\u001b[0m\u001b[0;34m\u001b[0m\u001b[0;34m\u001b[0m\u001b[0m\n\u001b[0;32m--> 119\u001b[0;31m \u001b[0;32mfrom\u001b[0m \u001b[0;34m.\u001b[0m\u001b[0mruntime\u001b[0m\u001b[0;34m.\u001b[0m\u001b[0mruntime_utils\u001b[0m \u001b[0;32mimport\u001b[0m \u001b[0mceildiv\u001b[0m \u001b[0;32mas\u001b[0m \u001b[0mruntime_ceildiv\u001b[0m\u001b[0;34m\u001b[0m\u001b[0;34m\u001b[0m\u001b[0m\n\u001b[0m\u001b[1;32m    120\u001b[0m \u001b[0;34m\u001b[0m\u001b[0m\n\u001b[1;32m    121\u001b[0m \u001b[0;34m\u001b[0m\u001b[0m\n",
            "\u001b[0;32m/usr/local/lib/python3.12/dist-packages/torch/_inductor/runtime/runtime_utils.py\u001b[0m in \u001b[0;36m<module>\u001b[0;34m\u001b[0m\n\u001b[1;32m    150\u001b[0m \u001b[0;34m\u001b[0m\u001b[0m\n\u001b[1;32m    151\u001b[0m \u001b[0;34m\u001b[0m\u001b[0m\n\u001b[0;32m--> 152\u001b[0;31m \u001b[0mdynamo_timed\u001b[0m \u001b[0;34m=\u001b[0m \u001b[0mtorch\u001b[0m\u001b[0;34m.\u001b[0m\u001b[0m_dynamo\u001b[0m\u001b[0;34m.\u001b[0m\u001b[0mutils\u001b[0m\u001b[0;34m.\u001b[0m\u001b[0mdynamo_timed\u001b[0m  \u001b[0;31m# type: ignore[has-type]\u001b[0m\u001b[0;34m\u001b[0m\u001b[0;34m\u001b[0m\u001b[0m\n\u001b[0m\u001b[1;32m    153\u001b[0m \u001b[0;34m\u001b[0m\u001b[0m\n\u001b[1;32m    154\u001b[0m \u001b[0;34m\u001b[0m\u001b[0m\n",
            "\u001b[0;31mAttributeError\u001b[0m: partially initialized module 'torch._dynamo' has no attribute 'utils' (most likely due to a circular import)"
          ]
        }
      ],
      "source": [
        "env = gym.make('CartPole-v1')\n",
        "\n",
        "NUMBER_OF_TRAININGS = DEFAULT_NUMBER_OF_TRAININGS    # Change the default (global) value here if you want a specific number of trainings for this exercise\n",
        "naive_trains_result_list = [[], [], []]\n",
        "\n",
        "for train_index in range(NUMBER_OF_TRAININGS):\n",
        "\n",
        "    # Instantiate required objects\n",
        "\n",
        "    q_network = QNetwork(state_dim, action_dim, nn_l1=128, nn_l2=128).to(device)\n",
        "    optimizer = torch.optim.AdamW(q_network.parameters(), lr=0.004, amsgrad=True)\n",
        "    #lr_scheduler = torch.optim.lr_scheduler.ExponentialLR(optimizer, gamma=0.999)\n",
        "    lr_scheduler = MinimumExponentialLR(optimizer, lr_decay=0.97, min_lr=0.0001)\n",
        "    loss_fn = torch.nn.MSELoss()\n",
        "\n",
        "    epsilon_greedy = EpsilonGreedy(epsilon_start=0.82, epsilon_min=0.013, epsilon_decay=0.9675, env=env, q_network=q_network)\n",
        "\n",
        "    # Train the q-network\n",
        "\n",
        "    episode_reward_list = train_naive_agent(env,\n",
        "                                            q_network,\n",
        "                                            optimizer,\n",
        "                                            loss_fn,\n",
        "                                            epsilon_greedy,\n",
        "                                            device,\n",
        "                                            lr_scheduler,\n",
        "                                            num_episodes=150,\n",
        "                                            gamma=0.9)\n",
        "    naive_trains_result_list[0].extend(range(len(episode_reward_list)))\n",
        "    naive_trains_result_list[1].extend(episode_reward_list)\n",
        "    naive_trains_result_list[2].extend([train_index for _ in episode_reward_list])\n",
        "\n",
        "naive_trains_result_df = pd.DataFrame(np.array(naive_trains_result_list).T, columns=[\"num_episodes\", \"mean_final_episode_reward\", \"training_index\"])\n",
        "naive_trains_result_df[\"agent\"] = \"Naive\"\n",
        "\n",
        "# Save the action-value estimation function of the last train\n",
        "\n",
        "torch.save(q_network, MODELS_DIR / \"lab1_naive_q_network.pth\")\n",
        "\n",
        "env.close()"
      ]
    },
    {
      "cell_type": "markdown",
      "metadata": {
        "id": "GbYv8HIMW9f5"
      },
      "source": [
        "#### Plot results"
      ]
    },
    {
      "cell_type": "code",
      "execution_count": null,
      "metadata": {
        "id": "_hq-_pIoW9f5"
      },
      "outputs": [],
      "source": [
        "g = sns.relplot(x=\"num_episodes\", y=\"mean_final_episode_reward\", kind=\"line\", hue=\"agent\", estimator=None, units=\"training_index\", data=naive_trains_result_df,\n",
        "                height=7, aspect=2, alpha=0.5);"
      ]
    },
    {
      "cell_type": "code",
      "execution_count": null,
      "metadata": {
        "id": "FLC_oDxeW9f5"
      },
      "outputs": [],
      "source": [
        "g = sns.relplot(x=\"num_episodes\", y=\"mean_final_episode_reward\", hue=\"agent\", kind=\"line\", data=naive_trains_result_df, height=7, aspect=2)"
      ]
    },
    {
      "cell_type": "markdown",
      "metadata": {
        "id": "X5e-AraQW9f5"
      },
      "source": [
        "#### Test it"
      ]
    },
    {
      "cell_type": "code",
      "execution_count": null,
      "metadata": {
        "id": "CpCLR8rwW9f5"
      },
      "outputs": [],
      "source": [
        "# q_network = torch.load(\"naive_q_network.pth\").to(device)\n",
        "\n",
        "env = gym.make('CartPole-v1', render_mode='rgb_array')\n",
        "RenderWrapper.register(env, force_gif=True)\n",
        "\n",
        "test_q_network_agent(env, q_network, num_episode=5)\n",
        "\n",
        "env.close()\n",
        "\n",
        "env.render_wrapper.make_gif(FIGS_DIR / \"lab1_dqn_naive_tained\")"
      ]
    },
    {
      "cell_type": "markdown",
      "metadata": {
        "id": "yxXxEvvMW9f6"
      },
      "source": [
        "#### Why It Doesn't Work: The Complexity of Deep Reinforcement Learning\n",
        "\n",
        "Our initial deep value-based agent did not converge, primarily due to the three fundamental challenges of value-based deep reinforcement learning:\n",
        "\n",
        "1. **Coverage**: Convergence to the optimal Q-function relies on comprehensive coverage of the state space. However, in the context of deep RL, the state space is often too large to be fully covered. In situations where not all states are sampled due to their vast number, the guarantee of convergence no longer holds.\n",
        "\n",
        "2. **Correlation**: The probability of transitioning to the next state is highly influenced by the current state. This strong correlation can lead to local overfitting and the risk of becoming trapped in a local optimum: the neural network, which approximates the Q-function, may become overly specialized in a small portion of the action-state space and neglect the rest.\n",
        "\n",
        "3. **Convergence**: The \"targets\" used as the truth to be achieved \"move\" during the learning process. For the same prediction (estimation of the value of a state-action pair, i.e., its Q-value), the loss of a given example changes during the learning process (due to *bootstrapping* a main concept of TD-Learning). In other words, DQN tries to minimize a moving target, a target that depends on the model we are learning and optimizing. This can lead to instability and make it difficult for the learning process to converge to an optimal policy.\n",
        "\n",
        "In the following sections, we will explore strategies to address these challenges and improve the performance of our deep reinforcement learning agent."
      ]
    },
    {
      "cell_type": "markdown",
      "metadata": {
        "id": "dWGpqP4xW9f6"
      },
      "source": [
        "### Exercise 3: Implement Deep Q-Networks v1 (DQN version 2013 with experience replay)"
      ]
    },
    {
      "cell_type": "markdown",
      "metadata": {
        "id": "S7h2tmsWW9f6"
      },
      "source": [
        "In 2013, DeepMind made a significant contribution to the field of reinforcement learning with the publication of the paper \"Playing Atari with Deep Reinforcement Learning\" by Volodymyr Mnih and al (https://arxiv.org/abs/1312.5602). This paper marked the introduction of the first version of Deep Q-Networks (DQN).\n",
        "\n",
        "The paper's primary innovation was the development of a technique to decorrelate states in reinforcement learning. This technique, known as *experience replay*, leverages a *replay buffer* to store and sample experiences. The introduction of experience replay greatly enhanced the stability and efficiency of the learning process."
      ]
    },
    {
      "cell_type": "markdown",
      "metadata": {
        "jp-MarkdownHeadingCollapsed": true,
        "id": "ICAMheBmW9f6"
      },
      "source": [
        "#### Experience replay\n",
        "\n",
        "Experience replay is a key technique used in Deep Q-Networks (DQN) to address the issues of correlation.\n",
        "\n",
        "In a typical reinforcement learning setup, an agent learns by interacting with the environment, receiving feedback in the form of rewards, and updating its policy based on this feedback. This process is inherently sequential and the successive states are highly correlated, which can lead to overfitting and instability in learning.\n",
        "\n",
        "Experience replay addresses these issues by storing the agent's experiences, i.e., the tuples of (state, action, reward, next state), in a data structure known as a replay buffer. During the learning process, instead of learning from the most recent experience, the agent randomly samples a batch of experiences from the replay buffer. This random sampling breaks the correlation between successive experiences, leading to more stable and robust learning.\n",
        "\n",
        "Also, by learning from past experiences, the agent can effectively learn from a fixed target, which mitigates the issue of learning from a moving target. This is because the experiences in the replay buffer remain fixed once they are stored, even though the agent's policy continues to evolve."
      ]
    },
    {
      "cell_type": "markdown",
      "metadata": {
        "id": "fjIuJADtW9f6"
      },
      "source": [
        "#### DQN v2013 Algorithm"
      ]
    },
    {
      "cell_type": "markdown",
      "metadata": {
        "id": "Rs8s7HmOW9f6"
      },
      "source": [
        "Note: main differences with the previous algorithm are highlighted in red."
      ]
    },
    {
      "cell_type": "markdown",
      "metadata": {
        "id": "FBGS_e_GW9f6"
      },
      "source": [
        "<b>Input</b>:<br>\n",
        "\t$\\quad\\quad$ none<br>\n",
        "<b>Algorithm parameter</b>:<br>\n",
        "\t$\\quad\\quad$ discount factor $\\gamma$<br>\n",
        "\t$\\quad\\quad$ step size $\\alpha \\in (0,1]$<br>\n",
        "\t$\\quad\\quad$ small $\\epsilon > 0$<br>\n",
        "\t$\\quad\\quad$ capacity of the experience replay memory $\\color{red}{M}$<br>\n",
        "\t$\\quad\\quad$ batch size $\\color{red}{m}$<br><br>\n",
        "\n",
        "<b>Initialize</b> replay memory $\\color{red}{\\mathcal{D}}$ to capacity $M$<br>\n",
        "<b>Initialize</b> action-value function $\\hat{Q}$ with random weights $\\mathbf{\\omega}$<br><br>\n",
        "\n",
        "<b>FOR EACH</b> episode<br>\n",
        "\t$\\quad$ $\\mathbf{s} \\leftarrow \\text{env.reset}()$<br>\n",
        "\t$\\quad$ <b>DO</b> <br>\n",
        "\t\t$\\quad\\quad$ $\\mathbf{a} \\leftarrow \\epsilon\\text{-greedy}(\\mathbf{s}, \\hat{Q}_{\\mathbf{\\omega}})$<br>\n",
        "\t\t$\\quad\\quad$ $r, \\mathbf{s'} \\leftarrow \\text{env.step}(\\mathbf{a})$<br>\n",
        "\t\t$\\quad\\quad$ $\\color{red}{\\text{Store transition } (\\mathbf{s}, \\mathbf{a}, r, \\mathbf{s'}) \\text{ in } \\mathcal{D}}$<br>\n",
        "\t\t$\\quad\\quad$ $\\color{red}{\\text{IF } \\mathcal{D} \\text{ contains \"enough\" transitions}}$<br>\n",
        "\t\t\t$\\quad\\quad\\quad$ $\\color{red}{\\text{Sample random batch of transitions } (\\mathbf{s}_j, \\mathbf{a}_j, r_j, \\mathbf{s'}_j) \\text{ from } \\mathcal{D} \\text{ with } j=1 \\text{ to } m}$<br>\n",
        "\t\t\t$\\quad\\quad\\quad$ $\\color{red}{\\text{For each } j}$, set $y_j \\leftarrow\n",
        "\t\t\t\\begin{cases}\n",
        "\t\t\tr_j & \\text{for terminal } \\mathbf{s'}_j\\\\\n",
        "\t\t\tr_j + \\gamma \\max_{\\mathbf{a}^\\star} \\hat{Q}_{\\mathbf{\\omega}}(\\mathbf{s'}_j)_{\\mathbf{a}^\\star} & \\text{for non-terminal } \\mathbf{s'}_j\n",
        "\t\t\t\\end{cases}$<br>\n",
        "\t\t\t$\\quad\\quad\\quad$ Perform a gradient descent step on $\\left( y_j - \\hat{Q}_{\\mathbf{\\omega}}(\\mathbf{s}_j)_{\\mathbf{a}_j} \\right)^2$ with respect to the weights $\\mathbf{\\omega}$<br>\n",
        "\t\t$\\quad\\quad$ $\\mathbf{s} \\leftarrow \\mathbf{s'}$ <br>\n",
        "\t$\\quad$ <b>UNTIL</b> $\\mathbf{s}$ is final<br><br>\n",
        "<b>RETURN</b> $\\mathbf{\\omega}$ <br>\n"
      ]
    },
    {
      "cell_type": "markdown",
      "metadata": {
        "id": "g8y9xdNiW9f6"
      },
      "source": [
        "#### Implement the Replay Buffer\n",
        "\n",
        "To incorporate experience replay into the provided naive deep value-based reinforcement learning agent definition, we need to introduce a memory buffer where experiences are stored, and then update the algorithm to sample a random batch of experiences from this buffer to update the weights."
      ]
    },
    {
      "cell_type": "code",
      "execution_count": null,
      "metadata": {
        "id": "HWSPpWmRW9f6"
      },
      "outputs": [],
      "source": [
        "class ReplayBuffer:\n",
        "    \"\"\"\n",
        "    A Replay Buffer.\n",
        "\n",
        "    Attributes\n",
        "    ----------\n",
        "    buffer : collections.deque\n",
        "        A double-ended queue where the transitions are stored.\n",
        "\n",
        "    Methods\n",
        "    -------\n",
        "    add(state: np.ndarray, action: np.int64, reward: float, next_state: np.ndarray, done: bool)\n",
        "        Add a new transition to the buffer.\n",
        "    sample(batch_size: int) -> Tuple[np.ndarray, float, float, np.ndarray, bool]\n",
        "        Sample a batch of transitions from the buffer.\n",
        "    __len__()\n",
        "        Return the current size of the buffer.\n",
        "    \"\"\"\n",
        "\n",
        "    def __init__(self, capacity: int):\n",
        "        \"\"\"\n",
        "        Initializes a ReplayBuffer instance.\n",
        "\n",
        "        Parameters\n",
        "        ----------\n",
        "        capacity : int\n",
        "            The maximum number of transitions that can be stored in the buffer.\n",
        "        \"\"\"\n",
        "        self.buffer = collections.deque(maxlen=capacity)\n",
        "\n",
        "    def add(self, state: np.ndarray, action: np.int64, reward: float, next_state: np.ndarray, done: bool):\n",
        "        \"\"\"\n",
        "        Add a new transition to the buffer.\n",
        "\n",
        "        Parameters\n",
        "        ----------\n",
        "        state : np.ndarray\n",
        "            The state vector of the added transition.\n",
        "        action : np.int64\n",
        "            The action of the added transition.\n",
        "        reward : float\n",
        "            The reward of the added transition.\n",
        "        next_state : np.ndarray\n",
        "            The next state vector of the added transition.\n",
        "        done : bool\n",
        "            The final state of the added transition.\n",
        "        \"\"\"\n",
        "        self.buffer.append((state, action, reward, next_state, done))\n",
        "\n",
        "    def sample(self, batch_size: int) -> Tuple[np.ndarray, float, float, np.ndarray, bool]:\n",
        "        \"\"\"\n",
        "        Sample a batch of transitions from the buffer.\n",
        "\n",
        "        Parameters\n",
        "        ----------\n",
        "        batch_size : int\n",
        "            The number of transitions to sample.\n",
        "\n",
        "        Returns\n",
        "        -------\n",
        "        Tuple[np.ndarray, float, float, np.ndarray, bool]\n",
        "            A batch of `batch_size` transitions.\n",
        "        \"\"\"\n",
        "        # Here, `random.sample(self.buffer, batch_size)`\n",
        "        # returns a list of tuples `(state, action, reward, next_state, done)`\n",
        "        # where:\n",
        "        # - `state`  and `next_state` are numpy arrays\n",
        "        # - `action` and `reward` are floats\n",
        "        # - `done` is a boolean\n",
        "        #\n",
        "        # `states, actions, rewards, next_states, dones = zip(*random.sample(self.buffer, batch_size))`\n",
        "        # generates 5 tuples `state`, `action`, `reward`, `next_state` and `done`, each having `batch_size` elements.\n",
        "        states, actions, rewards, next_states, dones = zip(*random.sample(self.buffer, batch_size))\n",
        "        return np.array(states), actions, rewards, np.array(next_states), dones\n",
        "\n",
        "    def __len__(self):\n",
        "        \"\"\"\n",
        "        Return the current size of the buffer.\n",
        "\n",
        "        Returns\n",
        "        -------\n",
        "        int\n",
        "            The current size of the buffer.\n",
        "        \"\"\"\n",
        "        return len(self.buffer)"
      ]
    },
    {
      "cell_type": "markdown",
      "metadata": {
        "id": "crEFlnLuW9f7"
      },
      "source": [
        "#### Implement the training function\n",
        "\n",
        "The training function of our initial deep value-based agent needs to be modified to incorporate the use of the replay buffer effectively.\n",
        "\n",
        "1. **Store Experiences**: After the agent takes an action and receives a reward and the next state from the environment, store this experience in the replay buffer.\n",
        "\n",
        "2. **Sample Experiences**: Instead of using the most recent experience to update the agent's policy, randomly sample a batch of experiences from the replay buffer.\n",
        "\n",
        "3. **Compute Loss and Update Weights**: Use the sampled experiences to compute the loss and update the weights of the Q-Network.\n",
        "\n",
        "4. **Handle Terminal States**: If the 'done' flag of an experience is True, indicating a terminal state, make sure to adjust the target Q-value to be just the received reward. This is because there are no future rewards possible after a terminal state."
      ]
    },
    {
      "cell_type": "markdown",
      "metadata": {
        "id": "bs57gDLQW9f7"
      },
      "source": [
        "##### Parctical tips\n",
        "\n",
        "A key practical difference from the previous exercise is that we now train the Q-network on a (mini)batch of transitions rather than a single transition.  \n",
        "\n",
        "To extract $\\hat{Q}_{\\mathbf{\\omega}}(\\mathbf{s}_j)_{\\mathbf{a}_j}$ from the `q_network` output, it is essential to understand the following PyTorch concept:  \n",
        "\n",
        "- **[torch.gather](https://pytorch.org/docs/stable/generated/torch.gather.html) (or [torch.Tensor.gather](https://pytorch.org/docs/stable/generated/torch.Tensor.gather.html))**: This function retrieves values along a specified axis using an index tensor, making it particularly useful for selecting Q-values corresponding to chosen actions."
      ]
    },
    {
      "cell_type": "markdown",
      "metadata": {
        "id": "t_WRBKQ4W9f7"
      },
      "source": [
        "**Task 3.1:** complete the `train_dqn1_agent` to use the replay buffer."
      ]
    },
    {
      "cell_type": "code",
      "execution_count": null,
      "metadata": {
        "id": "BYfL1xYqW9f7"
      },
      "outputs": [],
      "source": [
        "def train_dqn1_agent(env: gym.Env,\n",
        "                     q_network: torch.nn.Module,\n",
        "                     optimizer: torch.optim.Optimizer,\n",
        "                     loss_fn: Callable,\n",
        "                     epsilon_greedy: EpsilonGreedy,\n",
        "                     device: torch.device,\n",
        "                     lr_scheduler: _LRScheduler,\n",
        "                     num_episodes: int,\n",
        "                     gamma: float,\n",
        "                     batch_size: int,\n",
        "                     replay_buffer: ReplayBuffer) -> List[float]:\n",
        "    \"\"\"\n",
        "    Train the Q-network on the given environment.\n",
        "\n",
        "    Parameters\n",
        "    ----------\n",
        "    env : gym.Env\n",
        "        The environment to train on.\n",
        "    q_network : torch.nn.Module\n",
        "        The Q-network to train.\n",
        "    optimizer : torch.optim.Optimizer\n",
        "        The optimizer to use for training.\n",
        "    loss_fn : callable\n",
        "        The loss function to use for training.\n",
        "    epsilon_greedy : EpsilonGreedy\n",
        "        The epsilon-greedy policy to use for action selection.\n",
        "    device : torch.device\n",
        "        The device to use for PyTorch computations.\n",
        "    lr_scheduler : torch.optim.lr_scheduler._LRScheduler\n",
        "        The learning rate scheduler to adjust the learning rate during training.\n",
        "    num_episodes : int\n",
        "        The number of episodes to train for.\n",
        "    gamma : float\n",
        "        The discount factor for future rewards.\n",
        "    batch_size : int\n",
        "        The size of the batch to use for training.\n",
        "    replay_buffer : ReplayBuffer\n",
        "        The replay buffer storing the experiences with their priorities.\n",
        "\n",
        "    Returns\n",
        "    -------\n",
        "    List[float]\n",
        "        A list of cumulated rewards per episode.\n",
        "    \"\"\"\n",
        "    episode_reward_list = []\n",
        "\n",
        "    for episode_index in tqdm(range(1, num_episodes)):\n",
        "        state, info = env.reset()\n",
        "        episode_reward = 0\n",
        "\n",
        "        for t in itertools.count():\n",
        "\n",
        "            # Get action, next_state and reward\n",
        "\n",
        "            action = epsilon_greedy(state)\n",
        "\n",
        "            next_state, reward, terminated, truncated, info = env.step(action)\n",
        "            done = terminated or truncated\n",
        "\n",
        "            replay_buffer.add(state, action, reward, next_state, done)\n",
        "\n",
        "            episode_reward += reward\n",
        "\n",
        "            # Update the q_network weights with a batch of experiences from the buffer\n",
        "\n",
        "            if len(replay_buffer) > batch_size:\n",
        "                batch_states, batch_actions, batch_rewards, batch_next_states, batch_dones = replay_buffer.sample(batch_size)\n",
        "\n",
        "                # Convert to PyTorch tensors\n",
        "                batch_states_tensor = torch.tensor(batch_states, dtype=torch.float32, device=device)\n",
        "                batch_actions_tensor = torch.tensor(batch_actions, dtype=torch.long, device=device)\n",
        "                batch_rewards_tensor = torch.tensor(batch_rewards, dtype=torch.float32, device=device)\n",
        "                batch_next_states_tensor = torch.tensor(batch_next_states, dtype=torch.float32, device=device)\n",
        "                batch_dones_tensor = torch.tensor(batch_dones, dtype=torch.float32, device=device)\n",
        "\n",
        "                # Compute the target Q values for the batch\n",
        "                with torch.no_grad():\n",
        "                    # next_state_q_values, best_action_index = TODO... # Compute the maximum Q-values for the next states\n",
        "\n",
        "                    # targets = TODO... # Compute the target Q-values for the batch\n",
        "\n",
        "                # current_q_values = TODO... # Compute the Q-values for the current states\n",
        "\n",
        "                # Compute loss\n",
        "                loss = loss_fn(current_q_values, targets)\n",
        "\n",
        "                # Optimize the model\n",
        "                optimizer.zero_grad()\n",
        "                loss.backward()\n",
        "                optimizer.step()\n",
        "\n",
        "                lr_scheduler.step()\n",
        "\n",
        "            if done:\n",
        "                break\n",
        "\n",
        "            state = next_state\n",
        "\n",
        "        episode_reward_list.append(episode_reward)\n",
        "        epsilon_greedy.decay_epsilon()\n",
        "\n",
        "    return episode_reward_list"
      ]
    },
    {
      "cell_type": "markdown",
      "metadata": {
        "id": "_zys5fsCW9f7"
      },
      "source": [
        "#### Train it"
      ]
    },
    {
      "cell_type": "code",
      "execution_count": null,
      "metadata": {
        "id": "K1D1bbnwW9f7"
      },
      "outputs": [],
      "source": [
        "env = gym.make('CartPole-v1')\n",
        "\n",
        "NUMBER_OF_TRAININGS = DEFAULT_NUMBER_OF_TRAININGS    # Change the default (global) value here if you want a specific number of trainings for this exercise\n",
        "dqn1_trains_result_list = [[], [], []]\n",
        "\n",
        "for train_index in range(NUMBER_OF_TRAININGS):\n",
        "\n",
        "    # Instantiate required objects\n",
        "\n",
        "    q_network = QNetwork(state_dim, action_dim, nn_l1=128, nn_l2=128).to(device)\n",
        "    optimizer = torch.optim.AdamW(q_network.parameters(), lr=0.004, amsgrad=True)\n",
        "    #lr_scheduler = torch.optim.lr_scheduler.ExponentialLR(optimizer, gamma=0.999)\n",
        "    lr_scheduler = MinimumExponentialLR(optimizer, lr_decay=0.97, min_lr=0.0001)\n",
        "    loss_fn = torch.nn.MSELoss()\n",
        "\n",
        "    epsilon_greedy = EpsilonGreedy(epsilon_start=0.82, epsilon_min=0.013, epsilon_decay=0.9675, env=env, q_network=q_network)\n",
        "\n",
        "    replay_buffer = ReplayBuffer(2000)\n",
        "\n",
        "    # Train the q-network\n",
        "\n",
        "    episode_reward_list = train_dqn1_agent(env,\n",
        "                                           q_network,\n",
        "                                           optimizer,\n",
        "                                           loss_fn,\n",
        "                                           epsilon_greedy,\n",
        "                                           device,\n",
        "                                           lr_scheduler,\n",
        "                                           num_episodes=150,\n",
        "                                           gamma=0.9,\n",
        "                                           batch_size=128,\n",
        "                                           replay_buffer=replay_buffer)\n",
        "    dqn1_trains_result_list[0].extend(range(len(episode_reward_list)))\n",
        "    dqn1_trains_result_list[1].extend(episode_reward_list)\n",
        "    dqn1_trains_result_list[2].extend([train_index for _ in episode_reward_list])\n",
        "\n",
        "dqn1_trains_result_df = pd.DataFrame(np.array(dqn1_trains_result_list).T, columns=[\"num_episodes\", \"mean_final_episode_reward\", \"training_index\"])\n",
        "dqn1_trains_result_df[\"agent\"] = \"DQN 2013\"\n",
        "\n",
        "# Save the action-value estimation function\n",
        "\n",
        "torch.save(q_network, MODELS_DIR / \"lab1_dqn1_q_network.pth\")\n",
        "\n",
        "env.close()"
      ]
    },
    {
      "cell_type": "markdown",
      "metadata": {
        "id": "5nrhOvdMW9f7"
      },
      "source": [
        "#### Plot results"
      ]
    },
    {
      "cell_type": "code",
      "execution_count": null,
      "metadata": {
        "id": "juWsagvwW9f8"
      },
      "outputs": [],
      "source": [
        "g = sns.relplot(x=\"num_episodes\", y=\"mean_final_episode_reward\", kind=\"line\", hue=\"agent\", estimator=None, units=\"training_index\", data=dqn1_trains_result_df,\n",
        "                height=7, aspect=2, alpha=0.5);"
      ]
    },
    {
      "cell_type": "code",
      "execution_count": null,
      "metadata": {
        "id": "4W09QXywW9f8"
      },
      "outputs": [],
      "source": [
        "#g = sns.relplot(x=\"num_episodes\", y=\"mean_final_episode_reward\", kind=\"line\", hue=\"agent\", data=dqn1_trains_result_df, height=7, aspect=2)"
      ]
    },
    {
      "cell_type": "code",
      "execution_count": null,
      "metadata": {
        "id": "ezAc5x8eW9f8"
      },
      "outputs": [],
      "source": [
        "all_trains_result_df = pd.concat([naive_trains_result_df, dqn1_trains_result_df])\n",
        "g = sns.relplot(x=\"num_episodes\", y=\"mean_final_episode_reward\", kind=\"line\", hue=\"agent\", data=all_trains_result_df, height=7, aspect=2)"
      ]
    },
    {
      "cell_type": "markdown",
      "metadata": {
        "id": "U4u7w51NW9f8"
      },
      "source": [
        "#### Test it"
      ]
    },
    {
      "cell_type": "code",
      "execution_count": null,
      "metadata": {
        "id": "tcoEhpj1W9f8"
      },
      "outputs": [],
      "source": [
        "# q_network = torch.load(\"dqn1_q_network.pth\").to(device)\n",
        "\n",
        "env = gym.make('CartPole-v1', render_mode='rgb_array')\n",
        "RenderWrapper.register(env, force_gif=True)\n",
        "\n",
        "test_q_network_agent(env, q_network, num_episode=3)\n",
        "\n",
        "env.close()\n",
        "\n",
        "env.render_wrapper.make_gif(FIGS_DIR / \"lab1_dqn1_tained\")"
      ]
    },
    {
      "cell_type": "markdown",
      "metadata": {
        "id": "iIgY-IU3W9f8"
      },
      "source": [
        "#### Score"
      ]
    },
    {
      "cell_type": "code",
      "execution_count": null,
      "metadata": {
        "id": "76S_ULd-W9f8"
      },
      "outputs": [],
      "source": [
        "score_ex3 = dqn1_trains_result_df[[\"num_episodes\", \"mean_final_episode_reward\"]].groupby(\"num_episodes\").mean().max()\n",
        "score_ex3"
      ]
    },
    {
      "cell_type": "markdown",
      "metadata": {
        "id": "tyMT5EHrW9f8"
      },
      "source": [
        "### Exercise 4: Implement Deep Q-Networks v2 (DQN version 2015) with *infrequent weight updates*\n",
        "\n",
        "In 2015, DeepMind further advanced the field of reinforcement learning with the publication of the paper \"Human-level control through deep reinforcement learning\" by Volodymyr Mnih and colleagues (https://www.nature.com/articles/nature14236). This work introduced the second version of Deep Q-Networks (DQN).\n",
        "\n",
        "<img src=\"https://raw.githubusercontent.com/jeremiedecock/polytechnique-csc-53439-ep-2025-students/main/assets/lab1_dqn_nature_journal.jpg?raw=true\" width=\"200px\" />\n",
        "\n",
        "The key contribution of this paper was the introduction of a method to stabilize the learning process by infrequently updating the target weights. This technique, known as *infrequent updates of target weights*, significantly improved the stability of the learning process."
      ]
    },
    {
      "cell_type": "markdown",
      "metadata": {
        "id": "_7AsMvkKW9f8"
      },
      "source": [
        "#### Infrequent weight updates\n",
        "\n",
        "Infrequent weight updates, also known as the use of a target network, is a technique used in Deep Q-Networks (DQN) to address the issue of learning from a moving target.\n",
        "\n",
        "In a typical DQN setup, there are two neural networks: the Q-network and the target network. The Q-network is used to predict the Q-values and is updated at every time step. The target network is used to compute the target Q-values for the update, and its weights are updated less frequently, typically every few thousand steps, by copying the weights from the Q-network.\n",
        "\n",
        "The idea behind infrequent weight updates is to stabilize the learning process by keeping the target Q-values fixed for a number of steps. This mitigates the issue of learning from a moving target, as the target Q-values remain fixed between updates.\n",
        "\n",
        "Without infrequent weight updates, both the predicted and target Q-values would change at every step, which could lead to oscillations and divergence in the learning process. By introducing a delay between updates of the target Q-values, the risk of such oscillations is reduced."
      ]
    },
    {
      "cell_type": "markdown",
      "metadata": {
        "id": "Sw9c-S-zW9f9"
      },
      "source": [
        "#### DQN v2015 Algorithm"
      ]
    },
    {
      "cell_type": "markdown",
      "metadata": {
        "id": "oPk5wQWRW9f9"
      },
      "source": [
        "Note: main differences with the previous algorithm are highlighted in red."
      ]
    },
    {
      "cell_type": "markdown",
      "metadata": {
        "id": "Z-QF9seTW9f9"
      },
      "source": [
        "<b>Input</b>:<br>\n",
        "\t$\\quad\\quad$ none<br>\n",
        "<b>Algorithm parameter</b>:<br>\n",
        "\t$\\quad\\quad$ discount factor $\\gamma$<br>\n",
        "\t$\\quad\\quad$ step size $\\alpha \\in (0,1]$<br>\n",
        "\t$\\quad\\quad$ small $\\epsilon > 0$<br>\n",
        "\t$\\quad\\quad$ capacity of the experience replay memory $M$<br>\n",
        "\t$\\quad\\quad$ batch size $m$<br>\n",
        "\t$\\quad\\quad$ target network update frequency $\\color{red}{\\tau}$<br><br>\n",
        "\n",
        "<b>Initialize</b> replay memory $\\mathcal{D}$ to capacity $M$<br>\n",
        "<b>Initialize</b> action-value function $\\hat{Q}_{\\mathbf{\\omega_1}}$ with random weights $\\mathbf{\\omega_1}$<br>\n",
        "<b>Initialize</b> target action-value function $\\hat{Q}_{\\mathbf{\\omega_2}}$ with weights $\\color{red}{\\mathbf{\\omega_2} = \\mathbf{\\omega_1}}$<br><br>\n",
        "\n",
        "<b>FOR EACH</b> episode<br>\n",
        "\t$\\quad$ $\\mathbf{s} \\leftarrow \\text{env.reset}()$<br>\n",
        "\t$\\quad$ <b>DO</b> <br>\n",
        "\t\t$\\quad\\quad$ $\\mathbf{a} \\leftarrow \\epsilon\\text{-greedy}(\\mathbf{s}, \\hat{Q}_{\\mathbf{\\omega_1}})$<br>\n",
        "\t\t$\\quad\\quad$ $r, \\mathbf{s'} \\leftarrow \\text{env.step}(\\mathbf{a})$<br>\n",
        "\t\t$\\quad\\quad$ Store transition $(\\mathbf{s}, \\mathbf{a}, r, \\mathbf{s'})$ in $\\mathcal{D}$<br>\n",
        "\t\t$\\quad\\quad$ If $\\mathcal{D}$ contains \"enough\" transitions<br>\n",
        "\t\t\t$\\quad\\quad\\quad$ Sample random batch of transitions $(\\mathbf{s}_j, \\mathbf{a}_j, r_j, \\mathbf{s'}_j)$ from $\\mathcal{D}$ with $j=1$ to $m$<br>\n",
        "\t\t\t$\\quad\\quad\\quad$ For each $j$, set $y_j =\n",
        "\t\t\t\\begin{cases}\n",
        "\t\t\tr_j & \\text{for terminal } \\mathbf{s'}_j\\\\\n",
        "\t\t\tr_j + \\gamma \\max_{\\mathbf{a}^\\star} \\hat{Q}_{\\mathbf{\\omega_{\\color{red}{2}}}} (\\mathbf{s'}_j)_{\\mathbf{a}^\\star} & \\text{for non-terminal } \\mathbf{s'}_j\n",
        "\t\t\t\\end{cases}$<br>\n",
        "\t\t\t$\\quad\\quad\\quad$ Perform a gradient descent step on $\\left( y_j - \\hat{Q}_{\\mathbf{\\omega_1}}(\\mathbf{s}_j)_{\\mathbf{a}_j} \\right)^2$ with respect to the weights $\\mathbf{\\omega_1}$<br>\n",
        "\t\t\t$\\quad\\quad\\quad$ Every $\\color{red}{\\tau}$ steps reset $\\hat{Q}_{\\mathbf{\\omega_2}}$ to $\\hat{Q}_{\\mathbf{\\omega_1}}$, i.e., set $\\color{red}{\\mathbf{\\omega_2} \\leftarrow \\mathbf{\\omega_1}}$<br>\n",
        "\t\t$\\quad\\quad$ $\\mathbf{s} \\leftarrow \\mathbf{s'}$ <br>\n",
        "\t$\\quad$ <b>UNTIL</b> $\\mathbf{s}$ is final<br><br>\n",
        "<b>RETURN</b> $\\mathbf{\\omega_1}$ <br>\n"
      ]
    },
    {
      "cell_type": "markdown",
      "metadata": {
        "id": "hikO6aciW9f9"
      },
      "source": [
        "#### Implement the training function\n",
        "\n",
        "To incorporate the use of infrequent weight updates in the training function, you would need to make the following modifications:\n",
        "\n",
        "1. **Update the Target Network Infrequently**: Instead of updating the weights of the target network at every time step, update them less frequently, for example, every few thousand steps. The weights of the target network are updated by copying the weights from the Q-network.\n",
        "\n",
        "2. **Compute Target Q-values with the Target Network**: When computing the target Q-values for the update, use the target network instead of the Q-network. This ensures that the target Q-values remain fixed between updates, which stabilizes the learning process."
      ]
    },
    {
      "cell_type": "markdown",
      "metadata": {
        "id": "UVIep2rNW9f9"
      },
      "source": [
        "##### Parctical tips\n",
        "\n",
        "To complete this exercise, you need to be familiar with the following PyTorch concepts.\n",
        "\n",
        "**Copying the weights and biases from one neural network to another**\n",
        "\n",
        "To transfer the parameters from `model1` to `model2`, use the following command:\n",
        "\n",
        "```python\n",
        "model2.load_state_dict(model1.state_dict())\n",
        "```"
      ]
    },
    {
      "cell_type": "markdown",
      "metadata": {
        "id": "98NSoyUGW9f9"
      },
      "source": [
        "**Task 4.1:** complete the `train_dqn2_agent` to apply infrequent weight updates."
      ]
    },
    {
      "cell_type": "code",
      "execution_count": null,
      "metadata": {
        "id": "l1qWhEANW9f9"
      },
      "outputs": [],
      "source": [
        "def train_dqn2_agent(env: gym.Env,\n",
        "                     q_network: torch.nn.Module,\n",
        "                     target_q_network: torch.nn.Module,\n",
        "                     optimizer: torch.optim.Optimizer,\n",
        "                     loss_fn: Callable,\n",
        "                     epsilon_greedy: EpsilonGreedy,\n",
        "                     device: torch.device,\n",
        "                     lr_scheduler: _LRScheduler,\n",
        "                     num_episodes: int,\n",
        "                     gamma: float,\n",
        "                     batch_size: int,\n",
        "                     replay_buffer: ReplayBuffer,\n",
        "                     target_q_network_sync_period: int) -> List[float]:\n",
        "    \"\"\"\n",
        "    Train the Q-network on the given environment.\n",
        "\n",
        "    Parameters\n",
        "    ----------\n",
        "    env : gym.Env\n",
        "        The environment to train on.\n",
        "    q_network : torch.nn.Module\n",
        "        The Q-network to train.\n",
        "    target_q_network : torch.nn.Module\n",
        "        The target Q-network to use for estimating the target Q-values.\n",
        "    optimizer : torch.optim.Optimizer\n",
        "        The optimizer to use for training.\n",
        "    loss_fn : callable\n",
        "        The loss function to use for training.\n",
        "    epsilon_greedy : EpsilonGreedy\n",
        "        The epsilon-greedy policy to use for action selection.\n",
        "    device : torch.device\n",
        "        The device to use for PyTorch computations.\n",
        "    lr_scheduler : torch.optim.lr_scheduler._LRScheduler\n",
        "        The learning rate scheduler to adjust the learning rate during training.\n",
        "    num_episodes : int\n",
        "        The number of episodes to train for.\n",
        "    gamma : float\n",
        "        The discount factor for future rewards.\n",
        "    batch_size : int\n",
        "        The size of the batch to use for training.\n",
        "    replay_buffer : ReplayBuffer\n",
        "        The replay buffer storing the experiences with their priorities.\n",
        "    target_q_network_sync_period : int\n",
        "        The number of episodes after which the target Q-network should be updated with the weights of the Q-network.\n",
        "\n",
        "    Returns\n",
        "    -------\n",
        "    List[float]\n",
        "        A list of cumulated rewards per episode.\n",
        "    \"\"\"\n",
        "    iteration = 0\n",
        "    episode_reward_list = []\n",
        "\n",
        "    for episode_index in tqdm(range(1, num_episodes)):\n",
        "        state, info = env.reset()\n",
        "        episode_reward = 0\n",
        "\n",
        "        for t in itertools.count():\n",
        "\n",
        "            # Get action, next_state and reward\n",
        "\n",
        "            action = epsilon_greedy(state)\n",
        "\n",
        "            next_state, reward, terminated, truncated, info = env.step(action)\n",
        "            done = terminated or truncated\n",
        "\n",
        "            replay_buffer.add(state, action, reward, next_state, done)\n",
        "\n",
        "            episode_reward += reward\n",
        "\n",
        "            # Update the q_network weights with a batch of experiences from the buffer\n",
        "\n",
        "            if len(replay_buffer) > batch_size:\n",
        "                batch_states, batch_actions, batch_rewards, batch_next_states, batch_dones = replay_buffer.sample(batch_size)\n",
        "\n",
        "                # Convert to PyTorch tensors\n",
        "                batch_states_tensor = torch.tensor(batch_states, dtype=torch.float32, device=device)\n",
        "                batch_actions_tensor = torch.tensor(batch_actions, dtype=torch.long, device=device)\n",
        "                batch_rewards_tensor = torch.tensor(batch_rewards, dtype=torch.float32, device=device)\n",
        "                batch_next_states_tensor = torch.tensor(batch_next_states, dtype=torch.float32, device=device)\n",
        "                batch_dones_tensor = torch.tensor(batch_dones, dtype=torch.float32, device=device)\n",
        "\n",
        "                # Compute the target Q values for the batch\n",
        "                with torch.no_grad():\n",
        "                    # next_state_q_values, best_action_index = TODO...\n",
        "\n",
        "                    # targets = TODO...\n",
        "\n",
        "                # current_q_values = TODO...\n",
        "\n",
        "                # Compute loss\n",
        "                loss = loss_fn(current_q_values, targets)\n",
        "\n",
        "                # Optimize the model\n",
        "                optimizer.zero_grad()\n",
        "                loss.backward()\n",
        "                optimizer.step()\n",
        "\n",
        "                lr_scheduler.step()\n",
        "\n",
        "            # Update the target q-network\n",
        "\n",
        "            # TODO:...  # Every episodes (e.g., every `target_q_network_sync_period` episodes), the weights of the target network are updated with the weights of the Q-network\n",
        "\n",
        "            iteration += 1\n",
        "\n",
        "            if done:\n",
        "                break\n",
        "\n",
        "            state = next_state\n",
        "\n",
        "        episode_reward_list.append(episode_reward)\n",
        "        epsilon_greedy.decay_epsilon()\n",
        "\n",
        "    return episode_reward_list"
      ]
    },
    {
      "cell_type": "markdown",
      "metadata": {
        "id": "LdjbDNnFW9f-"
      },
      "source": [
        "#### Train it\n",
        "\n",
        "In order to test this new implementation, we needs de adapt the following cell to instantiate and initialize the two neural networks.\n",
        "\n",
        "**Task 4.2:** complete the following cell to make the two Q-Networks. Initialize a target network that has the same architecture as the Q-network. The weights of the target network are initially copied from the Q-network."
      ]
    },
    {
      "cell_type": "code",
      "execution_count": null,
      "metadata": {
        "id": "X99x529qW9f-"
      },
      "outputs": [],
      "source": [
        "env = gym.make('CartPole-v1')\n",
        "\n",
        "# NUMBER_OF_TRAININGS = 20\n",
        "dqn2_trains_result_list = [[], [], []]\n",
        "\n",
        "for train_index in range(NUMBER_OF_TRAININGS):\n",
        "\n",
        "    # Instantiate required objects\n",
        "\n",
        "    # q_network = TODO...\n",
        "\n",
        "    # target_q_network = TODO... # The target Q-network is used to compute the target Q-values for the loss function\n",
        "\n",
        "    # TODO... # Initialize the target Q-network with the same weights as the Q-network (c.f. the \"Practical tips\" section of the exercise)\n",
        "\n",
        "    optimizer = torch.optim.AdamW(q_network.parameters(), lr=0.004, amsgrad=True)\n",
        "    #lr_scheduler = torch.optim.lr_scheduler.ExponentialLR(optimizer, gamma=0.999)\n",
        "    lr_scheduler = MinimumExponentialLR(optimizer, lr_decay=0.97, min_lr=0.0001)\n",
        "    loss_fn = torch.nn.MSELoss()\n",
        "\n",
        "    epsilon_greedy = EpsilonGreedy(epsilon_start=0.82, epsilon_min=0.013, epsilon_decay=0.9675, env=env, q_network=q_network)\n",
        "\n",
        "    replay_buffer = ReplayBuffer(2000)\n",
        "\n",
        "    # Train the q-network\n",
        "\n",
        "    episode_reward_list = train_dqn2_agent(env,\n",
        "                                           q_network,\n",
        "                                           target_q_network,\n",
        "                                           optimizer,\n",
        "                                           loss_fn,\n",
        "                                           epsilon_greedy,\n",
        "                                           device,\n",
        "                                           lr_scheduler,\n",
        "                                           num_episodes=150,\n",
        "                                           gamma=0.9,\n",
        "                                           batch_size=128,\n",
        "                                           replay_buffer=replay_buffer,\n",
        "                                           target_q_network_sync_period=30)\n",
        "    dqn2_trains_result_list[0].extend(range(len(episode_reward_list)))\n",
        "    dqn2_trains_result_list[1].extend(episode_reward_list)\n",
        "    dqn2_trains_result_list[2].extend([train_index for _ in episode_reward_list])\n",
        "\n",
        "dqn2_trains_result_df = pd.DataFrame(np.array(dqn2_trains_result_list).T, columns=[\"num_episodes\", \"mean_final_episode_reward\", \"training_index\"])\n",
        "dqn2_trains_result_df[\"agent\"] = \"DQN 2015\"\n",
        "\n",
        "# Save the action-value estimation function\n",
        "\n",
        "torch.save(q_network, MODELS_DIR / \"lab1_dqn2_q_network.pth\")\n",
        "\n",
        "env.close()"
      ]
    },
    {
      "cell_type": "markdown",
      "metadata": {
        "id": "Fj2nQK7uW9f-"
      },
      "source": [
        "#### Plot results"
      ]
    },
    {
      "cell_type": "code",
      "execution_count": null,
      "metadata": {
        "id": "xDSOx5feW9f-"
      },
      "outputs": [],
      "source": [
        "g = sns.relplot(x=\"num_episodes\", y=\"mean_final_episode_reward\", kind=\"line\", hue=\"agent\", estimator=None, units=\"training_index\", data=dqn2_trains_result_df,\n",
        "                height=7, aspect=2, alpha=0.5);"
      ]
    },
    {
      "cell_type": "code",
      "execution_count": null,
      "metadata": {
        "id": "gUoqstI8W9f-"
      },
      "outputs": [],
      "source": [
        "#g = sns.relplot(x=\"num_episodes\", y=\"mean_final_episode_reward\", kind=\"line\", hue=\"agent\", data=dqn2_trains_result_df, height=7, aspect=2)"
      ]
    },
    {
      "cell_type": "code",
      "execution_count": null,
      "metadata": {
        "id": "TenBr6txW9f-"
      },
      "outputs": [],
      "source": [
        "all_trains_result_df = pd.concat([naive_trains_result_df, dqn1_trains_result_df, dqn2_trains_result_df])\n",
        "g = sns.relplot(x=\"num_episodes\", y=\"mean_final_episode_reward\", kind=\"line\", hue=\"agent\", data=all_trains_result_df, height=7, aspect=2)"
      ]
    },
    {
      "cell_type": "markdown",
      "metadata": {
        "id": "IWPLEzRUW9f_"
      },
      "source": [
        "#### Test it"
      ]
    },
    {
      "cell_type": "code",
      "execution_count": null,
      "metadata": {
        "id": "ox8E3PyWW9f_"
      },
      "outputs": [],
      "source": [
        "# q_network = torch.load(\"dqn2_q_network.pth\").to(device)\n",
        "\n",
        "env = gym.make('CartPole-v1', render_mode='rgb_array')\n",
        "RenderWrapper.register(env, force_gif=True)\n",
        "\n",
        "test_q_network_agent(env, q_network, num_episode=3)\n",
        "\n",
        "env.close()\n",
        "\n",
        "env.render_wrapper.make_gif(FIGS_DIR / \"lab1_dqn2_tained\")"
      ]
    },
    {
      "cell_type": "markdown",
      "metadata": {
        "id": "gVBBfDS1W9f_"
      },
      "source": [
        "#### Score"
      ]
    },
    {
      "cell_type": "code",
      "execution_count": null,
      "metadata": {
        "id": "ZLSBDriDW9f_"
      },
      "outputs": [],
      "source": [
        "score_ex4 = dqn2_trains_result_df[[\"num_episodes\", \"mean_final_episode_reward\"]].groupby(\"num_episodes\").mean().max()\n",
        "score_ex4"
      ]
    },
    {
      "cell_type": "markdown",
      "metadata": {
        "id": "Z7x4k-O0W9f_"
      },
      "source": [
        "## Part 3: Double Deep Q-Network (DDQN)\n",
        "\n",
        "Hado Van Hasselt et al. introduced Double Deep Q-Networks in the publication \"Deep reinforcement learning with Double Q-Learning\" in 2016 (https://arxiv.org/abs/1509.06461).\n",
        "\n",
        "Double Deep Q-Networks (DDQN) is an enhancement over the standard Deep Q-Network (DQN). It was designed to reduce the overestimation of action values that can occur in DQN. The fundamental concept behind DDQN is the separation of action selection from their evaluation to reduce the overestimation of action values in DQN."
      ]
    },
    {
      "cell_type": "markdown",
      "metadata": {
        "id": "dbOQsPCdW9f_"
      },
      "source": [
        "### DDQN Algorithm\n",
        "\n",
        "Note: main differences with the previous algorithm are highlighted in red.\n",
        "\n",
        "<b>Input</b>:<br>\n",
        "\t$\\quad\\quad$ none<br>\n",
        "<b>Algorithm parameter</b>:<br>\n",
        "\t$\\quad\\quad$ discount factor $\\gamma$<br>\n",
        "\t$\\quad\\quad$ step size $\\alpha \\in (0,1]$<br>\n",
        "\t$\\quad\\quad$ small $\\epsilon > 0$<br>\n",
        "\t$\\quad\\quad$ capacity of the experience replay memory $M$<br>\n",
        "\t$\\quad\\quad$ batch size $m$<br>\n",
        "\t$\\quad\\quad$ target network update frequency $\\tau$<br><br>\n",
        "\n",
        "<b>Initialize</b> replay memory $\\mathcal{D}$ to capacity $M$<br>\n",
        "<b>Initialize</b> action-value function $\\hat{Q}$ with random weights $\\mathbf{\\omega_1}$<br>\n",
        "<b>Initialize</b> target action-value function $\\hat{Q}$ with weights $\\mathbf{\\omega_2} = \\mathbf{\\omega_1}$<br><br>\n",
        "\n",
        "<b>FOR EACH</b> episode<br>\n",
        "\t$\\quad$ $\\mathbf{s} \\leftarrow \\text{env.reset}()$<br>\n",
        "\t$\\quad$ <b>DO</b> <br>\n",
        "\t\t$\\quad\\quad$ $\\mathbf{a} \\leftarrow \\epsilon\\text{-greedy}(\\mathbf{s}, \\hat{Q}_{\\mathbf{\\omega_1}})$<br>\n",
        "\t\t$\\quad\\quad$ $r, \\mathbf{s'} \\leftarrow \\text{env.step}(\\mathbf{a})$<br>\n",
        "\t\t$\\quad\\quad$ Store transition $(\\mathbf{s}, \\mathbf{a}, r, \\mathbf{s'})$ in $\\mathcal{D}$<br>\n",
        "\t\t$\\quad\\quad$ If $\\mathcal{D}$ contains \"enough\" transitions<br>\n",
        "\t\t\t$\\quad\\quad\\quad$ Sample random batch of transitions $(\\mathbf{s}_j, \\mathbf{a}_j, r_j, \\mathbf{s'}_j)$ from $\\mathcal{D}$ with $j=1$ to $m$<br>\n",
        "\t\t\t$\\quad\\quad\\quad$ For each $j$, set $\\color{red}{\\mathbf{a}^{\\star} \\leftarrow \\arg\\max_{\\mathbf{a}} \\hat{Q}_{\\mathbf{\\omega_1}}(\\mathbf{s'}_j)_{\\mathbf{a}}}$<br>\n",
        "\t\t\t$\\quad\\quad\\quad$ For each $j$, set $y_j \\leftarrow\n",
        "\t\t\t\\begin{cases}\n",
        "\t\t\tr_j & \\text{for terminal } \\mathbf{s'}_j\\\\\n",
        "\t\t\tr_j + \\gamma \\hat{Q}_{\\mathbf{\\omega_2}} (\\mathbf{s'}_j)_{\\color{red}{\\mathbf{a}^\\star}} & \\text{for non-terminal } \\mathbf{s'}_j\n",
        "\t\t\t\\end{cases}$<br>\n",
        "\t\t\t$\\quad\\quad\\quad$ Perform a gradient descent step on $\\left( y_j - \\hat{Q}_{\\mathbf{\\omega_1}}(\\mathbf{s}_j)_{\\mathbf{a}_j} \\right)^2$ with respect to the weights $\\mathbf{\\omega_1}$<br>\n",
        "\t\t\t$\\quad\\quad\\quad$ Every $\\tau$ steps reset $\\hat{Q}_{\\mathbf{\\omega_2}}$ to $\\hat{Q}_{\\mathbf{\\omega_1}}$, i.e., set $\\mathbf{\\omega_2} \\leftarrow \\mathbf{\\omega_1}$<br>\n",
        "\t\t$\\quad\\quad$ $\\mathbf{s} \\leftarrow \\mathbf{s'}$ <br>\n",
        "\t$\\quad$ <b>UNTIL</b> $\\mathbf{s}$ is final<br><br>\n",
        "<b>RETURN</b> $\\mathbf{\\omega_1}$ <br>"
      ]
    },
    {
      "cell_type": "markdown",
      "metadata": {
        "id": "CLZw9TDnW9f_"
      },
      "source": [
        "### Exercise 5: Implement DDQN"
      ]
    },
    {
      "cell_type": "markdown",
      "metadata": {
        "id": "SErjaVEJW9f_"
      },
      "source": [
        "#### Implement the training function\n",
        "\n",
        "Switching from a Deep Q-Network (DQN) to a Double Deep Q-Network (DDQN) involves a key modification in the way the Q-value update is performed during training.\n",
        "\n",
        "In DQN, the Q-value update is done using the maximum Q-value for the next state from the target network. However, this can lead to an overestimation of Q-values because it always uses the maximum estimate.\n",
        "\n",
        "DDQN addresses this by decoupling the selection of the action from the evaluation of that action. In DDQN, the Q-network is used to select what the next action is, and the target network is used to evaluate the Q-value of taking that action at the next state.\n",
        "\n",
        "**Task 4.2:** complete the `train_ddqn_agent` function."
      ]
    },
    {
      "cell_type": "code",
      "execution_count": null,
      "metadata": {
        "id": "NeW6qCkxW9gA"
      },
      "outputs": [],
      "source": [
        "def train_ddqn_agent(env: gym.Env,\n",
        "                     q_network: torch.nn.Module,\n",
        "                     target_q_network: torch.nn.Module,\n",
        "                     optimizer: torch.optim.Optimizer,\n",
        "                     loss_fn: Callable,\n",
        "                     epsilon_greedy: EpsilonGreedy,\n",
        "                     device: torch.device,\n",
        "                     lr_scheduler: _LRScheduler,\n",
        "                     num_episodes: int,\n",
        "                     gamma: float,\n",
        "                     batch_size: int,\n",
        "                     replay_buffer: ReplayBuffer,\n",
        "                     target_q_network_sync_period: int) -> List[float]:\n",
        "    \"\"\"\n",
        "    Train the Q-network on the given environment.\n",
        "\n",
        "    Parameters\n",
        "    ----------\n",
        "    env : gym.Env\n",
        "        The environment to train on.\n",
        "    q_network : torch.nn.Module\n",
        "        The Q-network to train.\n",
        "    target_q_network : torch.nn.Module\n",
        "        The target Q-network to use for estimating the target Q-values.\n",
        "    optimizer : torch.optim.Optimizer\n",
        "        The optimizer to use for training.\n",
        "    loss_fn : callable\n",
        "        The loss function to use for training.\n",
        "    epsilon_greedy : EpsilonGreedy\n",
        "        The epsilon-greedy policy to use for action selection.\n",
        "    device : torch.device\n",
        "        The device to use for PyTorch computations.\n",
        "    lr_scheduler : torch.optim.lr_scheduler._LRScheduler\n",
        "        The learning rate scheduler to adjust the learning rate during training.\n",
        "    num_episodes : int\n",
        "        The number of episodes to train for.\n",
        "    gamma : float\n",
        "        The discount factor for future rewards.\n",
        "    batch_size : int\n",
        "        The size of the batch to use for training.\n",
        "    replay_buffer : ReplayBuffer\n",
        "        The replay buffer storing the experiences with their priorities.\n",
        "    target_q_network_sync_period : int\n",
        "        The number of episodes after which the target Q-network should be updated with the weights of the Q-network.\n",
        "\n",
        "    Returns\n",
        "    -------\n",
        "    List[float]\n",
        "        A list of cumulated rewards per episode.\n",
        "    \"\"\"\n",
        "    iteration = 0\n",
        "    episode_reward_list = []\n",
        "\n",
        "    for episode_index in tqdm(range(1, num_episodes)):\n",
        "        state, info = env.reset()\n",
        "        episode_reward = 0\n",
        "\n",
        "        for t in itertools.count():\n",
        "\n",
        "            # GET ACTION, NEXT_STATE AND REWARD ###########\n",
        "\n",
        "            action = epsilon_greedy(state)\n",
        "\n",
        "            next_state, reward, terminated, truncated, info = env.step(action)\n",
        "            done = terminated or truncated\n",
        "\n",
        "            replay_buffer.add(state, action, reward, next_state, done)\n",
        "\n",
        "            episode_reward += reward\n",
        "\n",
        "            # UPDATE THE Q_NETWORK WEIGHTS WITH A BATCH OF EXPERIENCES FROM THE BUFFER\n",
        "\n",
        "            if len(replay_buffer) > batch_size:\n",
        "                batch_states, batch_actions, batch_rewards, batch_next_states, batch_dones = replay_buffer.sample(batch_size)\n",
        "\n",
        "                # Convert to PyTorch tensors\n",
        "                batch_states_tensor = torch.tensor(batch_states, dtype=torch.float32, device=device)\n",
        "                batch_actions_tensor = torch.tensor(batch_actions, dtype=torch.long, device=device)\n",
        "                batch_rewards_tensor = torch.tensor(batch_rewards, dtype=torch.float32, device=device)\n",
        "                batch_next_states_tensor = torch.tensor(batch_next_states, dtype=torch.float32, device=device)\n",
        "                batch_dones_tensor = torch.tensor(batch_dones, dtype=torch.float32, device=device)\n",
        "\n",
        "                # Compute the target Q values for the batch\n",
        "                with torch.no_grad():\n",
        "                    # best_actions = TODO... # First, select the best action using the online network (q_network)\n",
        "\n",
        "                    # next_state_q_values = TODO... # Then, use the target network (target_q_network) to get the Q-value for these actions\n",
        "\n",
        "                    # targets = TODO... # The targets for the batch are the rewards plus the discounted maximum Q-values obtained from the next states.\n",
        "\n",
        "\n",
        "                # Compute the current Q values for the batch.\n",
        "                #\n",
        "                # The expression `gather(dim=1, index=batch_actions_tensor.unsqueeze(-1)).squeeze(-1)` is used to select specific elements from the tensor of Q-values returned by the Q-network.\n",
        "                #\n",
        "                # Here's a breakdown of the following line of code:\n",
        "                # - `q_network(batch_states_tensor)`:\n",
        "                #   This is passing a batch of states through the Q-network.\n",
        "                #   For each state, this outputs the Q-value for each possible action.\n",
        "                #   Thus, `q_network(batch_states_tensor)` returns a tensor of shape (batch_size, action_dim).\n",
        "                #\n",
        "                # - `gather(dim=1, index=batch_actions_tensor.unsqueeze(-1))`:\n",
        "                #   This is selecting the Q-values corresponding to the actions that were actually taken.\n",
        "                #   The `gather` function is used to select elements from a tensor using an index.\n",
        "                #   In this case, the index is `batch_actions_tensor.unsqueeze(-1)`, which is a tensor of the actions that were taken.\n",
        "                #   The `unsqueeze(-1)` function is used to add an extra dimension to the tensor, which is necessary for the `gather` function.\n",
        "                #\n",
        "                # - `squeeze(-1)`:\n",
        "                #   This is removing the extra dimension that was added by `unsqueeze(-1)`.\n",
        "                #   The `squeeze` function is used to remove dimensions of size 1 from a tensor.\n",
        "                #\n",
        "                # So, the entire expression is selecting the Q-values of the actions that were actually taken from the tensor of all Q-values,\n",
        "                # and returning a tensor of these selected Q-values.\n",
        "                current_q_values = q_network(batch_states_tensor).gather(dim=1, index=batch_actions_tensor.unsqueeze(-1)).squeeze(-1)\n",
        "\n",
        "                # Compute loss\n",
        "                loss = loss_fn(current_q_values, targets)\n",
        "\n",
        "                # Optimize the model\n",
        "                optimizer.zero_grad()\n",
        "                loss.backward()\n",
        "                optimizer.step()\n",
        "\n",
        "                lr_scheduler.step()\n",
        "\n",
        "            # UPDATE THE TARGET Q-NETWORK #################\n",
        "\n",
        "            # Every few training steps (e.g., every 100 steps), the weights of the target network are updated with the weights of the Q-network\n",
        "\n",
        "            if iteration % target_q_network_sync_period == 0:\n",
        "                target_q_network.load_state_dict(q_network.state_dict())\n",
        "\n",
        "            iteration += 1\n",
        "\n",
        "            if done:\n",
        "                break\n",
        "\n",
        "            state = next_state\n",
        "\n",
        "        episode_reward_list.append(episode_reward)\n",
        "        epsilon_greedy.decay_epsilon()\n",
        "\n",
        "    return episode_reward_list"
      ]
    },
    {
      "cell_type": "markdown",
      "metadata": {
        "id": "Eq6-wGuPW9gA"
      },
      "source": [
        "### Train it"
      ]
    },
    {
      "cell_type": "code",
      "execution_count": null,
      "metadata": {
        "id": "IObDrrlyW9gA"
      },
      "outputs": [],
      "source": [
        "env = gym.make('CartPole-v1')\n",
        "\n",
        "NUMBER_OF_TRAININGS = DEFAULT_NUMBER_OF_TRAININGS    # Change the default (global) value here if you want a specific number of trainings for this exercice\n",
        "ddqn_trains_result_list = [[], [], []]\n",
        "\n",
        "for train_index in range(NUMBER_OF_TRAININGS):\n",
        "\n",
        "    # Instantiate required objects\n",
        "\n",
        "    q_network = QNetwork(state_dim, action_dim, nn_l1=128, nn_l2=128).to(device)\n",
        "    target_q_network = QNetwork(state_dim, action_dim, nn_l1=128, nn_l2=128).to(device) # The target Q-network is used to compute the target Q-values for the loss function\n",
        "    target_q_network.load_state_dict(q_network.state_dict()) # Initialize the target Q-network with the same weights as the Q-network\n",
        "\n",
        "    optimizer = torch.optim.AdamW(q_network.parameters(), lr=0.004, amsgrad=True)\n",
        "    #lr_scheduler = torch.optim.lr_scheduler.ExponentialLR(optimizer, gamma=0.999)\n",
        "    lr_scheduler = MinimumExponentialLR(optimizer, lr_decay=0.97, min_lr=0.0001)\n",
        "    loss_fn = torch.nn.MSELoss()\n",
        "\n",
        "    epsilon_greedy = EpsilonGreedy(epsilon_start=0.82, epsilon_min=0.013, epsilon_decay=0.9675, env=env, q_network=q_network)\n",
        "\n",
        "    replay_buffer = ReplayBuffer(2000)\n",
        "\n",
        "    # Train the q-network\n",
        "\n",
        "    episode_reward_list = train_ddqn_agent(env,\n",
        "                                           q_network,\n",
        "                                           target_q_network,\n",
        "                                           optimizer,\n",
        "                                           loss_fn,\n",
        "                                           epsilon_greedy,\n",
        "                                           device,\n",
        "                                           lr_scheduler,\n",
        "                                           num_episodes=150,\n",
        "                                           gamma=0.9,\n",
        "                                           batch_size=128,\n",
        "                                           replay_buffer=replay_buffer,\n",
        "                                           target_q_network_sync_period=30)\n",
        "    ddqn_trains_result_list[0].extend(range(len(episode_reward_list)))\n",
        "    ddqn_trains_result_list[1].extend(episode_reward_list)\n",
        "    ddqn_trains_result_list[2].extend([train_index for _ in episode_reward_list])\n",
        "\n",
        "ddqn_trains_result_df = pd.DataFrame(np.array(ddqn_trains_result_list).T, columns=[\"num_episodes\", \"mean_final_episode_reward\", \"training_index\"])\n",
        "ddqn_trains_result_df[\"agent\"] = \"DDQN\"\n",
        "\n",
        "# SAVE THE ACTION-VALUE ESTIMATION FUNCTION\n",
        "\n",
        "torch.save(q_network, MODELS_DIR / \"lab1_ddqn_q_network.pth\")\n",
        "\n",
        "env.close()"
      ]
    },
    {
      "cell_type": "markdown",
      "metadata": {
        "id": "31ihqB5IW9gA"
      },
      "source": [
        "### Plot results"
      ]
    },
    {
      "cell_type": "code",
      "execution_count": null,
      "metadata": {
        "id": "Cne6oJpCW9gA"
      },
      "outputs": [],
      "source": [
        "g = sns.relplot(x=\"num_episodes\", y=\"mean_final_episode_reward\", kind=\"line\", hue=\"agent\", estimator=None, units=\"training_index\", data=ddqn_trains_result_df,\n",
        "                height=7, aspect=2, alpha=0.5);"
      ]
    },
    {
      "cell_type": "code",
      "execution_count": null,
      "metadata": {
        "id": "tvYJx_w9W9gA"
      },
      "outputs": [],
      "source": [
        "#g = sns.relplot(x=\"num_episodes\", y=\"mean_final_episode_reward\", kind=\"line\", hue=\"agent\", data=ddqn_trains_result_df, height=7, aspect=2)"
      ]
    },
    {
      "cell_type": "code",
      "execution_count": null,
      "metadata": {
        "id": "wdBSZdmnW9gB"
      },
      "outputs": [],
      "source": [
        "all_trains_result_df = pd.concat([naive_trains_result_df, dqn1_trains_result_df, dqn2_trains_result_df, ddqn_trains_result_df])\n",
        "g = sns.relplot(x=\"num_episodes\", y=\"mean_final_episode_reward\", kind=\"line\", hue=\"agent\", data=all_trains_result_df, height=7, aspect=2)"
      ]
    },
    {
      "cell_type": "markdown",
      "metadata": {
        "id": "20jTWZJlW9gB"
      },
      "source": [
        "### Test it"
      ]
    },
    {
      "cell_type": "code",
      "execution_count": null,
      "metadata": {
        "id": "3XdYSJmEW9gB"
      },
      "outputs": [],
      "source": [
        "# q_network = torch.load(\"ddqn_q_network.pth\").to(device)\n",
        "\n",
        "env = gym.make('CartPole-v1', render_mode='rgb_array')\n",
        "RenderWrapper.register(env, force_gif=True)\n",
        "\n",
        "test_q_network_agent(env, q_network, num_episode=3)\n",
        "\n",
        "env.close()\n",
        "\n",
        "env.render_wrapper.make_gif(FIGS_DIR / \"lab1_ddqn_tained\")"
      ]
    },
    {
      "cell_type": "markdown",
      "metadata": {
        "id": "lOZ3XVo-W9gB"
      },
      "source": [
        "### Experimental results\n",
        "\n",
        "**Task 5.2:** What do you observe? Why?"
      ]
    },
    {
      "cell_type": "markdown",
      "metadata": {
        "id": "3L-3jwPtW9gB"
      },
      "source": [
        "## Part 4: Prioritized Experience Replay (PEX or PER)\n",
        "\n",
        "Prioritized Experience Replay (PER) is an enhancement to the traditional experience replay mechanism used in Deep Q-Networks (DQNs) and other reinforcement learning algorithms. In traditional experience replay, experiences (or transitions) are stored in a replay buffer, and mini-batches are sampled uniformly at random from this buffer to update the agent's Q-network. This means every experience has the same probability of being chosen, regardless of its significance to the learning process.\n",
        "\n",
        "Prioritized Experience Replay (PER) is a technique that modifies the standard experience replay by more frequently replaying experiences that have a high expected learning progress, as measured by their temporal-difference (TD) error.\n",
        "\n",
        "Prioritized Experience Replay was introduced by Tom Schaul et al. in the paper \"Prioritised experience replay\" in 2016 (https://arxiv.org/abs/1511.05952)."
      ]
    },
    {
      "cell_type": "markdown",
      "metadata": {
        "jp-MarkdownHeadingCollapsed": true,
        "id": "CmvL5ur0W9gB"
      },
      "source": [
        "### DQN with PER algorithm\n",
        "\n",
        "The DQN with Prioritized Experience Replay (PER) algorithm is detailed in page 5 of the paper \"Prioritised experience replay\" (https://arxiv.org/abs/1511.05952)."
      ]
    },
    {
      "cell_type": "markdown",
      "metadata": {
        "id": "p248YnhLW9gB"
      },
      "source": [
        "### Exercise 6: Implement DQN with PER\n",
        "\n",
        "To switch from a DQN to a DQN with Prioritized Experience Replay (PER), you need to make a few modifications to the *DQN 2015* agent:\n",
        "\n",
        "1. **Experience Replay Buffer**: Replace the standard experience replay buffer with a prioritized one. This buffer should store experiences with a priority value that is updated after each learning step. The priority value is usually the absolute TD error plus a small constant to avoid experiences having zero probability of being chosen.\n",
        "2. **Sampling Method**: Change the sampling method from uniform to prioritized sampling. This means experiences with higher priority values have a higher probability of being chosen for learning.\n",
        "3. **Loss Function**: Modify the loss function to include importance sampling weights. These weights compensate for the bias introduced by the non-uniform sampling. The weight of each sampled experience is the inverse of its probability of being chosen.\n",
        "\n"
      ]
    },
    {
      "cell_type": "markdown",
      "metadata": {
        "id": "6BK7EeOxW9gC"
      },
      "source": [
        "#### Implement the PrioritizedReplayBuffer\n",
        "\n",
        "**Task 6.1:** implement the `PrioritizedReplayBuffer` class."
      ]
    },
    {
      "cell_type": "code",
      "execution_count": null,
      "metadata": {
        "id": "XXHmmFkeW9gC"
      },
      "outputs": [],
      "source": [
        "class PrioritizedReplayBuffer:\n",
        "    \"\"\"\n",
        "    Implements a Prioritized Experience Replay buffer as described in the paper\n",
        "    \"Prioritized Experience Replay\" (https://arxiv.org/abs/1511.05952).\n",
        "\n",
        "    Attributes\n",
        "    ----------\n",
        "    buffer : Deque[Tuple[float, float, float, float, float]]\n",
        "        The replay buffer storing the experiences.\n",
        "    priorities : Deque[float]\n",
        "        The priorities of the experiences in the buffer.\n",
        "    \"\"\"\n",
        "\n",
        "    def __init__(self, capacity: int):\n",
        "        \"\"\"\n",
        "        Initialize the replay buffer.\n",
        "\n",
        "        Parameters\n",
        "        ----------\n",
        "        capacity : int\n",
        "            The maximum number of experiences the buffer can hold.\n",
        "        \"\"\"\n",
        "        self.buffer = collections.deque(maxlen=capacity)\n",
        "        self.priorities = collections.deque(maxlen=capacity)\n",
        "\n",
        "    def add(self, state: float, action: float, reward: float, next_state: float, done: float):\n",
        "        \"\"\"\n",
        "        Add an experience to the buffer.\n",
        "\n",
        "        Parameters\n",
        "        ----------\n",
        "        state : float\n",
        "            The current state.\n",
        "        action : float\n",
        "            The action taken.\n",
        "        reward : float\n",
        "            The reward received.\n",
        "        next_state : float\n",
        "            The next state.\n",
        "        done : float\n",
        "            Whether the episode has ended.\n",
        "        \"\"\"\n",
        "        self.buffer.append((state, action, reward, next_state, done))\n",
        "        self.priorities.append(max(self.priorities, default=1))\n",
        "\n",
        "    def sample(self, batch_size: int, alpha: float = 0.6, beta: float = 0.4) -> Tuple[List[Tuple[float, float, float, float, float]], np.ndarray, np.ndarray]:\n",
        "        \"\"\"\n",
        "        Sample a batch of experiences from the buffer.\n",
        "\n",
        "        Parameters\n",
        "        ----------\n",
        "        batch_size : int\n",
        "            The number of experiences to sample.\n",
        "        alpha : float, optional\n",
        "            The exponent that determines how much prioritization is used.\n",
        "        beta : float, optional\n",
        "            The exponent that determines how much importance sampling is used.\n",
        "\n",
        "        Returns\n",
        "        -------\n",
        "        Tuple[List[Tuple[float, float, float, float, float]], np.ndarray, np.ndarray]\n",
        "            The sampled experiences, the indices of the sampled experiences, and the importance sampling weights.\n",
        "        \"\"\"\n",
        "\n",
        "        # priorities = TODO... # Calculate priorities\n",
        "\n",
        "        # indices = TODO...\n",
        "        # experiences = TODO... # Sample experiences\n",
        "\n",
        "        # weights = TODO... # Calculate weights\n",
        "\n",
        "        return experiences, indices, weights\n",
        "\n",
        "    def update_priorities(self, indices: np.ndarray, errors: List[float], offset: float = 0.1):\n",
        "        \"\"\"\n",
        "        Update the priorities of the sampled experiences.\n",
        "\n",
        "        Parameters\n",
        "        ----------\n",
        "        indices : np.ndarray\n",
        "            The indices of the sampled experiences.\n",
        "        errors : List[float]\n",
        "            The new TD errors for the sampled experiences.\n",
        "        offset : float, optional\n",
        "            A small constant to ensure the priorities are strictly positive.\n",
        "        \"\"\"\n",
        "        for i, error in zip(indices, errors):\n",
        "            self.priorities[i] = error + offset\n",
        "\n",
        "    def __len__(self) -> int:\n",
        "        \"\"\"\n",
        "        Return the current size of the buffer.\n",
        "\n",
        "        Returns\n",
        "        -------\n",
        "        int\n",
        "            The current size of the buffer.\n",
        "        \"\"\"\n",
        "        return len(self.buffer)"
      ]
    },
    {
      "cell_type": "markdown",
      "metadata": {
        "id": "eH4YodCkW9gC"
      },
      "source": [
        "#### Implement the training function\n",
        "\n",
        "**Task 6.2:** complete the `train_dqn_per_agent` function."
      ]
    },
    {
      "cell_type": "code",
      "execution_count": null,
      "metadata": {
        "id": "UXRTCBO-W9gC"
      },
      "outputs": [],
      "source": [
        "def train_dqn_per_agent(env: gym.Env,\n",
        "                        q_network: torch.nn.Module,\n",
        "                        target_q_network: torch.nn.Module,\n",
        "                        optimizer: torch.optim.Optimizer,\n",
        "                        loss_fn: Callable,\n",
        "                        epsilon_greedy: EpsilonGreedy,\n",
        "                        device: torch.device,\n",
        "                        lr_scheduler: _LRScheduler,\n",
        "                        num_episodes: int,\n",
        "                        gamma: float,\n",
        "                        batch_size: int,\n",
        "                        replay_buffer: PrioritizedReplayBuffer,  # Use a Prioritized Replay Buffer\n",
        "                        target_q_network_sync_period: int,\n",
        "                        alpha: float = 0.6,  # Alpha parameter for PER\n",
        "                        beta: float = 0.4):  # Beta parameter for PER\n",
        "    \"\"\"\n",
        "    Train the Q-network on the given environment.\n",
        "\n",
        "    Parameters\n",
        "    ----------\n",
        "    env : gym.Env\n",
        "        The environment to train on.\n",
        "    q_network : torch.nn.Module\n",
        "        The Q-network to train.\n",
        "    target_q_network : torch.nn.Module\n",
        "        The target Q-network to use for estimating the target Q-values.\n",
        "    optimizer : torch.optim.Optimizer\n",
        "        The optimizer to use for training.\n",
        "    loss_fn : callable\n",
        "        The loss function to use for training.\n",
        "    epsilon_greedy : EpsilonGreedy\n",
        "        The epsilon-greedy policy to use for action selection.\n",
        "    device : torch.device\n",
        "        The device to use for PyTorch computations.\n",
        "    lr_scheduler : torch.optim.lr_scheduler._LRScheduler\n",
        "        The learning rate scheduler to adjust the learning rate during training.\n",
        "    num_episodes : int\n",
        "        The number of episodes to train for.\n",
        "    gamma : float\n",
        "        The discount factor for future rewards.\n",
        "    batch_size : int\n",
        "        The size of the batch to use for training.\n",
        "    replay_buffer : PrioritizedReplayBuffer\n",
        "        The replay buffer storing the experiences with their priorities.\n",
        "    target_q_network_sync_period : int\n",
        "        The number of episodes after which the target Q-network should be updated with the weights of the Q-network.\n",
        "    alpha : float\n",
        "        The exponent that determines how much prioritization is used when sampling from the replay buffer.\n",
        "    beta : float\n",
        "        The exponent that determines how much importance sampling is used to adjust the loss function.\n",
        "\n",
        "    Returns\n",
        "    -------\n",
        "    List[float]\n",
        "        A list of cumulated rewards per episode.\n",
        "    \"\"\"\n",
        "    iteration = 0\n",
        "    episode_reward_list = []\n",
        "\n",
        "    for episode_index in tqdm(range(1, num_episodes)):\n",
        "        state, info = env.reset()\n",
        "        episode_reward = 0\n",
        "\n",
        "        for t in itertools.count():\n",
        "\n",
        "            # GET ACTION, NEXT_STATE AND REWARD ###########\n",
        "\n",
        "            action = epsilon_greedy(state)\n",
        "\n",
        "            next_state, reward, terminated, truncated, info = env.step(action)\n",
        "            done = terminated or truncated\n",
        "\n",
        "            replay_buffer.add(state, action, reward, next_state, done)\n",
        "\n",
        "            episode_reward += reward\n",
        "\n",
        "            # UPDATE THE Q_NETWORK WEIGHTS WITH A BATCH OF EXPERIENCES FROM THE BUFFER\n",
        "\n",
        "            if len(replay_buffer) > batch_size:\n",
        "                # Sample experiences and importance-sampling weights from the buffer\n",
        "\n",
        "                # experiences, indices, weights = TODO...\n",
        "                batch_states, batch_actions, batch_rewards, batch_next_states, batch_dones = zip(*experiences)\n",
        "\n",
        "                # Convert to PyTorch tensors\n",
        "                batch_states_tensor = torch.tensor(batch_states, dtype=torch.float32, device=device)\n",
        "                batch_actions_tensor = torch.tensor(batch_actions, dtype=torch.long, device=device)\n",
        "                batch_rewards_tensor = torch.tensor(batch_rewards, dtype=torch.float32, device=device)\n",
        "                batch_next_states_tensor = torch.tensor(batch_next_states, dtype=torch.float32, device=device)\n",
        "                batch_dones_tensor = torch.tensor(batch_dones, dtype=torch.float32, device=device)\n",
        "                weights_tensor = torch.tensor(weights, dtype=torch.float32, device=device)\n",
        "\n",
        "                # Compute the target Q values for the batch\n",
        "                with torch.no_grad():\n",
        "                    # Here's a breakdown of the next line of code:\n",
        "                    # - `q_network(batch_next_states_t)`:\n",
        "                    #   This is passing a batch of \"next states\" through the Q-network.\n",
        "                    #   This outputs the Q-value for each possible action, a tensor of shape (batch_size, action_dim).\n",
        "                    #\n",
        "                    #  - `.max(dim=1)`:\n",
        "                    #   This is finding the maximum Q-value for each state in the batch.\n",
        "                    #   The dim=1 argument specifies that the maximum should be taken over the action dimension.\n",
        "                    #\n",
        "                    # The max() function in PyTorch returns a tuple containing two tensors: the maximum values and the indices where these maximum values were found.\n",
        "                    # In the next lines of code, we will just use the first tensor (the maximum values) and ignoring the second tensor (the indices).\n",
        "                    next_state_q_values, best_action_index = target_q_network(batch_next_states_tensor).max(dim=1)\n",
        "\n",
        "                    # The targets for the batch are the rewards plus the discounted maximum Q-values obtained from the next states.\n",
        "                    # The expression `(1 - batch_dones_tensor)` is used to handle the end of episodes.\n",
        "                    # The `batch_dones_tensor` indicates whether each state in the batch is a terminal state (i.e., the end of an episode).\n",
        "                    # If a state is a terminal state, the corresponding value in `batch_dones_tensor` is 1, otherwise it's 0.\n",
        "                    # The Q-value of a terminal state is defined to be 0. Therefore, when calculating the target Q-values,\n",
        "                    # we don't want to include the Q-value of the next state if the current state is a terminal state.\n",
        "                    # This is achieved by multiplying `next_state_q_values` by `(1 - batch_dones_tensor)`.\n",
        "                    # If the state is a terminal state, this expression becomes 0 and the Q-value of the next state is effectively ignored.\n",
        "                    # If the state is not a terminal state, this expression is 1 and the Q-value of the next state is included in the calculation.\n",
        "                    targets = batch_rewards_tensor + gamma * next_state_q_values * (1 - batch_dones_tensor)\n",
        "\n",
        "                # Compute the current Q values for the batch.\n",
        "                #\n",
        "                # The expression `gather(dim=1, index=batch_actions_tensor.unsqueeze(-1)).squeeze(-1)` is used to select specific elements from the tensor of Q-values returned by the Q-network.\n",
        "                #\n",
        "                # Here's a breakdown of the following line of code:\n",
        "                # - `q_network(batch_states_tensor)`:\n",
        "                #   This is passing a batch of states through the Q-network.\n",
        "                #   For each state, this outputs the Q-value for each possible action.\n",
        "                #   Thus, `q_network(batch_states_tensor)` returns a tensor of shape (batch_size, action_dim).\n",
        "                #\n",
        "                # - `gather(dim=1, index=batch_actions_tensor.unsqueeze(-1))`:\n",
        "                #   This is selecting the Q-values corresponding to the actions that were actually taken.\n",
        "                #   The `gather` function is used to select elements from a tensor using an index.\n",
        "                #   In this case, the index is `batch_actions_tensor.unsqueeze(-1)`, which is a tensor of the actions that were taken.\n",
        "                #   The `unsqueeze(-1)` function is used to add an extra dimension to the tensor, which is necessary for the `gather` function.\n",
        "                #\n",
        "                # - `squeeze(-1)`:\n",
        "                #   This is removing the extra dimension that was added by `unsqueeze(-1)`.\n",
        "                #   The `squeeze` function is used to remove dimensions of size 1 from a tensor.\n",
        "                #\n",
        "                # So, the entire expression is selecting the Q-values of the actions that were actually taken from the tensor of all Q-values,\n",
        "                # and returning a tensor of these selected Q-values.\n",
        "                current_q_values = q_network(batch_states_tensor).gather(dim=1, index=batch_actions_tensor.unsqueeze(-1)).squeeze(-1)\n",
        "\n",
        "                # Compute loss with importance-sampling weights\n",
        "\n",
        "                # loss = TODO...\n",
        "\n",
        "                # Optimize the model\n",
        "                optimizer.zero_grad()\n",
        "                loss.backward()\n",
        "                optimizer.step()\n",
        "\n",
        "                lr_scheduler.step()\n",
        "\n",
        "                # Update priorities in the buffer\n",
        "\n",
        "                with torch.no_grad():\n",
        "                    # new_td_errors = TODO...\n",
        "                replay_buffer.update_priorities(indices, new_td_errors)\n",
        "\n",
        "            # UPDATE THE TARGET Q-NETWORK #################\n",
        "\n",
        "            # Every few training steps (e.g., every 100 steps), the weights of the target network are updated with the weights of the Q-network\n",
        "\n",
        "            if iteration % target_q_network_sync_period == 0:\n",
        "                target_q_network.load_state_dict(q_network.state_dict())\n",
        "\n",
        "            iteration += 1\n",
        "\n",
        "            if done:\n",
        "                break\n",
        "\n",
        "            state = next_state\n",
        "\n",
        "        episode_reward_list.append(episode_reward)\n",
        "        epsilon_greedy.decay_epsilon()\n",
        "\n",
        "    return episode_reward_list"
      ]
    },
    {
      "cell_type": "markdown",
      "metadata": {
        "id": "EZNPN_r7W9gD"
      },
      "source": [
        "### Train it"
      ]
    },
    {
      "cell_type": "code",
      "execution_count": null,
      "metadata": {
        "id": "fWUapCEOW9gD"
      },
      "outputs": [],
      "source": [
        "env = gym.make('CartPole-v1')\n",
        "\n",
        "NUMBER_OF_TRAININGS = DEFAULT_NUMBER_OF_TRAININGS    # Change the default (global) value here if you want a specific number of trainings for this exercice\n",
        "dqn_per_trains_result_list = [[], [], []]\n",
        "\n",
        "for train_index in range(NUMBER_OF_TRAININGS):\n",
        "\n",
        "    # INSTANTIATE REQUIRED OBJECTS\n",
        "\n",
        "    q_network = QNetwork(state_dim, action_dim, nn_l1=128, nn_l2=128).to(device)\n",
        "    target_q_network = QNetwork(state_dim, action_dim, nn_l1=128, nn_l2=128).to(device) # The target Q-network is used to compute the target Q-values for the loss function\n",
        "    target_q_network.load_state_dict(q_network.state_dict()) # Initialize the target Q-network with the same weights as the Q-network\n",
        "\n",
        "    optimizer = torch.optim.AdamW(q_network.parameters(), lr=0.004, amsgrad=True)\n",
        "    #lr_scheduler = torch.optim.lr_scheduler.ExponentialLR(optimizer, gamma=0.999)\n",
        "    lr_scheduler = MinimumExponentialLR(optimizer, lr_decay=0.97, min_lr=0.0001)\n",
        "    loss_fn = torch.nn.MSELoss()\n",
        "\n",
        "    epsilon_greedy = EpsilonGreedy(epsilon_start=0.82, epsilon_min=0.013, epsilon_decay=0.9675, env=env, q_network=q_network)\n",
        "\n",
        "    replay_buffer = PrioritizedReplayBuffer(2000)\n",
        "\n",
        "    # TRAIN THE Q-NETWORK\n",
        "\n",
        "    episode_reward_list = train_dqn_per_agent(env,\n",
        "                                              q_network,\n",
        "                                              target_q_network,\n",
        "                                              optimizer,\n",
        "                                              loss_fn,\n",
        "                                              epsilon_greedy,\n",
        "                                              device,\n",
        "                                              lr_scheduler,\n",
        "                                              num_episodes=150,\n",
        "                                              gamma=0.9,\n",
        "                                              batch_size=128,\n",
        "                                              replay_buffer=replay_buffer,\n",
        "                                              target_q_network_sync_period=30,\n",
        "                                              alpha=0.6,\n",
        "                                              beta=0.4)\n",
        "    dqn_per_trains_result_list[0].extend(range(len(episode_reward_list)))\n",
        "    dqn_per_trains_result_list[1].extend(episode_reward_list)\n",
        "    dqn_per_trains_result_list[2].extend([train_index for _ in episode_reward_list])\n",
        "\n",
        "dqn_per_trains_result_df = pd.DataFrame(np.array(dqn_per_trains_result_list).T, columns=[\"num_episodes\", \"mean_final_episode_reward\", \"training_index\"])\n",
        "dqn_per_trains_result_df[\"agent\"] = \"DQN 2015 + PER\"\n",
        "\n",
        "# SAVE THE ACTION-VALUE ESTIMATION FUNCTION\n",
        "\n",
        "torch.save(q_network, MODELS_DIR / \"lab1_dqn_per_q_network.pth\")\n",
        "\n",
        "env.close()"
      ]
    },
    {
      "cell_type": "markdown",
      "metadata": {
        "id": "_5WY3idbW9gD"
      },
      "source": [
        "### Plot results"
      ]
    },
    {
      "cell_type": "code",
      "execution_count": null,
      "metadata": {
        "id": "MgWEHZtDW9gD"
      },
      "outputs": [],
      "source": [
        "g = sns.relplot(x=\"num_episodes\", y=\"mean_final_episode_reward\", kind=\"line\", hue=\"agent\", estimator=None, units=\"training_index\", data=dqn_per_trains_result_df,\n",
        "                height=7, aspect=2, alpha=0.5);"
      ]
    },
    {
      "cell_type": "code",
      "execution_count": null,
      "metadata": {
        "id": "XJtwYpmZW9gD"
      },
      "outputs": [],
      "source": [
        "#g = sns.relplot(x=\"num_episodes\", y=\"mean_final_episode_reward\", kind=\"line\", hue=\"agent\", data=dqn_per_trains_result_df, height=7, aspect=2)"
      ]
    },
    {
      "cell_type": "code",
      "execution_count": null,
      "metadata": {
        "id": "zri5fsiaW9gD"
      },
      "outputs": [],
      "source": [
        "all_trains_result_df = pd.concat([naive_trains_result_df, dqn1_trains_result_df, dqn2_trains_result_df, ddqn_trains_result_df, dqn_per_trains_result_df])\n",
        "g = sns.relplot(x=\"num_episodes\", y=\"mean_final_episode_reward\", kind=\"line\", hue=\"agent\", data=all_trains_result_df, height=7, aspect=2)"
      ]
    },
    {
      "cell_type": "markdown",
      "metadata": {
        "id": "Nv3lsHIVW9gE"
      },
      "source": [
        "### Test it"
      ]
    },
    {
      "cell_type": "code",
      "execution_count": null,
      "metadata": {
        "id": "gpF422ZyW9gE"
      },
      "outputs": [],
      "source": [
        "# q_network = torch.load(\"dqn_per_q_network.pth\").to(device)\n",
        "\n",
        "env = gym.make('CartPole-v1', render_mode='rgb_array')\n",
        "RenderWrapper.register(env, force_gif=True)\n",
        "\n",
        "test_q_network_agent(env, q_network, num_episode=3)\n",
        "\n",
        "env.close()\n",
        "\n",
        "env.render_wrapper.make_gif(FIGS_DIR / \"lab1_dqn_per_tained\")"
      ]
    },
    {
      "cell_type": "markdown",
      "metadata": {
        "jp-MarkdownHeadingCollapsed": true,
        "id": "dfA1uflJW9gE"
      },
      "source": [
        "### Experimental results\n",
        "\n",
        "**Task 6.2:** What do you observe? Why?"
      ]
    },
    {
      "cell_type": "markdown",
      "metadata": {
        "id": "vKLVI14kW9gE"
      },
      "source": [
        "## Part 5: Dueling Double DQN : DDQN with Advantage function"
      ]
    },
    {
      "cell_type": "markdown",
      "metadata": {
        "id": "9g2SJBOEW9gE"
      },
      "source": [
        "\n",
        "Dueling Double DQN (Dueling DDQN) is an enhancement over the standard DQN that aims to improve the quality of the learned value function (https://arxiv.org/abs/1511.06581). The motivation for Dueling DDQN lies in its architecture, which separately estimates two components: the value of being in a particular state (V(s)), and the advantage of taking a particular action in that state (A(s, a)).\n",
        "\n",
        "In standard DQN, a single stream of network layers estimates the Q-value directly. In contrast, Dueling DDQN has two streams to separately estimate the value and advantage functions, which are then combined to calculate the Q-value. This allows the network to more effectively learn which states are (or are not) valuable without having to learn the effect of each action for each state. This is particularly useful in environments where the value of the state does not vary much across actions.\n",
        "\n",
        "The separation of the estimation process helps in stabilizing learning and often leads to better policy evaluation, especially in cases where the action choice does not have a large impact on what happens next—making Dueling DDQN a more robust and often more efficient learning algorithm compared to the standard DQN.\n",
        "\n",
        "Thus, the Dueling DQN architecture introduces two separate streams within the neural network:\n",
        "\n",
        "   - **Value Stream (`V(s)`):** Estimates the overall value of being in a state, regardless of the action taken.\n",
        "   - **Advantage Stream (`A(s, a)`):** Estimates the relative advantage of each action in a given state.\n",
        "\n",
        "These two streams share some common layers at the beginning and then branch out. They are combined at the end to produce the Q-values using the following formula:\n",
        "\n",
        "$$Q(s, a) = V(s) + \\left( A(s, a) - \\frac{1}{|\\mathcal{A}|} \\sum_{a'} A(s, a') \\right)$$\n",
        "\n",
        "where:\n",
        "- $A(s, a)$ is the advantage of action $a$ in state $s$.\n",
        "- $|\\mathcal{A}|$ is the number of possible actions.\n",
        "\n",
        "<img src=\"https://www.researchgate.net/publication/336715783/figure/fig2/AS:816675293253632@1571721971001/Double-Dueling-Deep-Q-Learning-Network-DDDQN.jpg\"></img>"
      ]
    },
    {
      "cell_type": "markdown",
      "metadata": {
        "id": "OXGAueP_W9gE"
      },
      "source": [
        "### Exercise 7: Implement DDDQN\n",
        "\n",
        "Modify the above `QNetwork` class to implement a **Dueling Double Deep Q-Network (DDDQN)** by completing the `__init__` and `forward` methods of the new class `DuelingQNetwork` partially implemented below."
      ]
    },
    {
      "cell_type": "markdown",
      "metadata": {
        "id": "p2M26ORgW9gE"
      },
      "source": [
        "### Definition of the Dueling DQN network"
      ]
    },
    {
      "cell_type": "markdown",
      "metadata": {
        "id": "aWCYDMLTW9gE"
      },
      "source": [
        "#### Implement the Q-Network\n",
        "\n",
        "**Task 7.1:** complete the `DuelingDQN` class.\n",
        "\n",
        "- **In the `__init__` Method:**\n",
        "  - Initialize the shared layers (`layer1` and `layer2`) as in the original `QNetwork`.\n",
        "  - Define two separate streams after the shared layers:\n",
        "    - **Value Stream:**\n",
        "      - A fully connected layer (`self.value_layer`) that outputs a single value.\n",
        "    - **Advantage Stream:**\n",
        "      - A fully connected layer (`self.advantage_layer`) that outputs a value for each possible action.\n",
        "\n",
        "- **In the `forward` Method:**\n",
        "  - Pass the input through the shared layers with activation functions.\n",
        "  - Pass the output of the shared layers into both the value and advantage streams.\n",
        "  - Combine the outputs of the value and advantage streams to compute the final Q-values using the formula provided."
      ]
    },
    {
      "cell_type": "code",
      "execution_count": null,
      "metadata": {
        "id": "d2tpXvV7W9gF"
      },
      "outputs": [],
      "source": [
        "class DuelingQNetwork(torch.nn.Module):\n",
        "    \"\"\"\n",
        "    A Dueling Q-Network implemented with PyTorch.\n",
        "\n",
        "    Attributes\n",
        "    ----------\n",
        "    layer1 : torch.nn.Linear\n",
        "        First fully connected layer (common feature layer).\n",
        "    layer2 : torch.nn.Linear\n",
        "        Second fully connected layer (common feature layer).\n",
        "    value_layer : torch.nn.Linear\n",
        "        Linear layer for the value stream.\n",
        "    advantage_layer : torch.nn.Linear\n",
        "        Linear layer for the advantage stream.\n",
        "\n",
        "    Methods\n",
        "    -------\n",
        "    forward(x: torch.Tensor) -> torch.Tensor\n",
        "        Define the forward pass of the DuelingQNetwork.\n",
        "    \"\"\"\n",
        "\n",
        "    def __init__(self, n_observations: int, n_actions: int, nn_l1: int, nn_l2: int):\n",
        "        \"\"\"\n",
        "        Initialize a new instance of DuelingQNetwork.\n",
        "\n",
        "        Parameters\n",
        "        ----------\n",
        "        n_observations : int\n",
        "            The size of the observation space.\n",
        "        n_actions : int\n",
        "            The size of the action space.\n",
        "        nn_l1 : int\n",
        "            The number of neurons in the first hidden layer.\n",
        "        nn_l2 : int\n",
        "            The number of neurons in the second hidden layer.\n",
        "        \"\"\"\n",
        "        super(DuelingQNetwork, self).__init__()\n",
        "\n",
        "        # Common feature layers\n",
        "        # self.layer1 = TODO...\n",
        "        # self.layer2 = TODO...\n",
        "\n",
        "        # Value stream\n",
        "        # self.value_layer = TODO...\n",
        "\n",
        "        # Advantage stream\n",
        "        # self.advantage_layer = TODO...\n",
        "\n",
        "\n",
        "    def forward(self, x: torch.Tensor) -> torch.Tensor:\n",
        "        \"\"\"\n",
        "        Define the forward pass of the DuelingQNetwork.\n",
        "\n",
        "        Parameters\n",
        "        ----------\n",
        "        x : torch.Tensor\n",
        "            The input tensor (state).\n",
        "\n",
        "        Returns\n",
        "        -------\n",
        "        torch.Tensor\n",
        "            The output tensor (Q-values).\n",
        "        \"\"\"\n",
        "\n",
        "        # TODO...\n",
        "\n",
        "        return q_values"
      ]
    },
    {
      "cell_type": "markdown",
      "metadata": {
        "id": "1q-A8qkVW9gH"
      },
      "source": [
        "#### Implement the training function\n",
        "\n",
        "**Task 7.2:** complete the `train_dddqn_agent` function (you can simply copy / paste your response from `train_ddqn_agent`)."
      ]
    },
    {
      "cell_type": "code",
      "execution_count": null,
      "metadata": {
        "id": "2cksU0fLW9gH"
      },
      "outputs": [],
      "source": [
        "def train_dddqn_agent(env: gym.Env,\n",
        "                      q_network: torch.nn.Module,\n",
        "                      target_q_network: torch.nn.Module,\n",
        "                      optimizer: torch.optim.Optimizer,\n",
        "                      loss_fn: Callable,\n",
        "                      epsilon_greedy: EpsilonGreedy,\n",
        "                      device: torch.device,\n",
        "                      lr_scheduler: _LRScheduler,\n",
        "                      num_episodes: int,\n",
        "                      gamma: float,\n",
        "                      batch_size: int,\n",
        "                      replay_buffer: ReplayBuffer,\n",
        "                      target_q_network_sync_period: int) -> List[float]:\n",
        "    \"\"\"\n",
        "    Train the Q-network on the given environment.\n",
        "\n",
        "    Parameters\n",
        "    ----------\n",
        "    env : gym.Env\n",
        "        The environment to train on.\n",
        "    q_network : torch.nn.Module\n",
        "        The Q-network to train.\n",
        "    target_q_network : torch.nn.Module\n",
        "        The target Q-network to use for estimating the target Q-values.\n",
        "    optimizer : torch.optim.Optimizer\n",
        "        The optimizer to use for training.\n",
        "    loss_fn : callable\n",
        "        The loss function to use for training.\n",
        "    epsilon_greedy : EpsilonGreedy\n",
        "        The epsilon-greedy policy to use for action selection.\n",
        "    device : torch.device\n",
        "        The device to use for PyTorch computations.\n",
        "    lr_scheduler : torch.optim.lr_scheduler._LRScheduler\n",
        "        The learning rate scheduler to adjust the learning rate during training.\n",
        "    num_episodes : int\n",
        "        The number of episodes to train for.\n",
        "    gamma : float\n",
        "        The discount factor for future rewards.\n",
        "    batch_size : int\n",
        "        The size of the batch to use for training.\n",
        "    replay_buffer : ReplayBuffer\n",
        "        The replay buffer storing the experiences with their priorities.\n",
        "    target_q_network_sync_period : int\n",
        "        The number of episodes after which the target Q-network should be updated with the weights of the Q-network.\n",
        "\n",
        "    Returns\n",
        "    -------\n",
        "    List[float]\n",
        "        A list of cumulated rewards per episode.\n",
        "    \"\"\"\n",
        "    iteration = 0\n",
        "    episode_reward_list = []\n",
        "\n",
        "    for episode_index in tqdm(range(1, num_episodes)):\n",
        "        state, info = env.reset()\n",
        "        episode_reward = 0\n",
        "\n",
        "        for t in itertools.count():\n",
        "\n",
        "            # GET ACTION, NEXT_STATE AND REWARD ###########\n",
        "\n",
        "            action = epsilon_greedy(state)\n",
        "\n",
        "            next_state, reward, terminated, truncated, info = env.step(action)\n",
        "            done = terminated or truncated\n",
        "\n",
        "            replay_buffer.add(state, action, reward, next_state, done)\n",
        "\n",
        "            episode_reward += reward\n",
        "\n",
        "            # UPDATE THE Q_NETWORK WEIGHTS WITH A BATCH OF EXPERIENCES FROM THE BUFFER\n",
        "\n",
        "            if len(replay_buffer) > batch_size:\n",
        "                batch_states, batch_actions, batch_rewards, batch_next_states, batch_dones = replay_buffer.sample(batch_size)\n",
        "\n",
        "                # Convert to PyTorch tensors\n",
        "                batch_states_tensor = torch.tensor(batch_states, dtype=torch.float32, device=device)\n",
        "                batch_actions_tensor = torch.tensor(batch_actions, dtype=torch.long, device=device)\n",
        "                batch_rewards_tensor = torch.tensor(batch_rewards, dtype=torch.float32, device=device)\n",
        "                batch_next_states_tensor = torch.tensor(batch_next_states, dtype=torch.float32, device=device)\n",
        "                batch_dones_tensor = torch.tensor(batch_dones, dtype=torch.float32, device=device)\n",
        "\n",
        "                # Compute the target Q values for the batch\n",
        "                with torch.no_grad():\n",
        "                    # best_actions = TODO... # First, select the best action using the online network (q_network)\n",
        "\n",
        "                    # next_state_q_values = TODO... # Then, use the target network (target_q_network) to get the Q-value for these actions\n",
        "\n",
        "                    # targets = TODO... # The targets for the batch are the rewards plus the discounted maximum Q-values obtained from the next states.\n",
        "\n",
        "\n",
        "                # Compute the current Q values for the batch.\n",
        "                #\n",
        "                # The expression `gather(dim=1, index=batch_actions_tensor.unsqueeze(-1)).squeeze(-1)` is used to select specific elements from the tensor of Q-values returned by the Q-network.\n",
        "                #\n",
        "                # Here's a breakdown of the following line of code:\n",
        "                # - `q_network(batch_states_tensor)`:\n",
        "                #   This is passing a batch of states through the Q-network.\n",
        "                #   For each state, this outputs the Q-value for each possible action.\n",
        "                #   Thus, `q_network(batch_states_tensor)` returns a tensor of shape (batch_size, action_dim).\n",
        "                #\n",
        "                # - `gather(dim=1, index=batch_actions_tensor.unsqueeze(-1))`:\n",
        "                #   This is selecting the Q-values corresponding to the actions that were actually taken.\n",
        "                #   The `gather` function is used to select elements from a tensor using an index.\n",
        "                #   In this case, the index is `batch_actions_tensor.unsqueeze(-1)`, which is a tensor of the actions that were taken.\n",
        "                #   The `unsqueeze(-1)` function is used to add an extra dimension to the tensor, which is necessary for the `gather` function.\n",
        "                #\n",
        "                # - `squeeze(-1)`:\n",
        "                #   This is removing the extra dimension that was added by `unsqueeze(-1)`.\n",
        "                #   The `squeeze` function is used to remove dimensions of size 1 from a tensor.\n",
        "                #\n",
        "                # So, the entire expression is selecting the Q-values of the actions that were actually taken from the tensor of all Q-values,\n",
        "                # and returning a tensor of these selected Q-values.\n",
        "                current_q_values = q_network(batch_states_tensor).gather(dim=1, index=batch_actions_tensor.unsqueeze(-1)).squeeze(-1)\n",
        "\n",
        "                # Compute loss\n",
        "                loss = loss_fn(current_q_values, targets)\n",
        "\n",
        "                # Optimize the model\n",
        "                optimizer.zero_grad()\n",
        "                loss.backward()\n",
        "                optimizer.step()\n",
        "\n",
        "                lr_scheduler.step()\n",
        "\n",
        "            # UPDATE THE TARGET Q-NETWORK #################\n",
        "\n",
        "            # Every few training steps (e.g., every 100 steps), the weights of the target network are updated with the weights of the Q-network\n",
        "\n",
        "            if iteration % target_q_network_sync_period == 0:\n",
        "                target_q_network.load_state_dict(q_network.state_dict())\n",
        "\n",
        "            iteration += 1\n",
        "\n",
        "            if done:\n",
        "                break\n",
        "\n",
        "            state = next_state\n",
        "\n",
        "        episode_reward_list.append(episode_reward)\n",
        "        epsilon_greedy.decay_epsilon()\n",
        "\n",
        "    return episode_reward_list"
      ]
    },
    {
      "cell_type": "markdown",
      "metadata": {
        "id": "j_I4rgutW9gI"
      },
      "source": [
        "### Train it"
      ]
    },
    {
      "cell_type": "code",
      "execution_count": null,
      "metadata": {
        "id": "kADUUqpfW9gI"
      },
      "outputs": [],
      "source": [
        "env = gym.make('CartPole-v1')\n",
        "\n",
        "NUMBER_OF_TRAININGS = DEFAULT_NUMBER_OF_TRAININGS    # Change the default (global) value here if you want a specific number of trainings for this exercice\n",
        "dddqn_trains_result_list = [[], [], []]\n",
        "\n",
        "for train_index in range(NUMBER_OF_TRAININGS):\n",
        "\n",
        "    # Instantiate required objects\n",
        "\n",
        "    q_network = DuelingQNetwork(state_dim, action_dim, nn_l1=128, nn_l2=128).to(device)\n",
        "    target_q_network = DuelingQNetwork(state_dim, action_dim, nn_l1=128, nn_l2=128).to(device) # The target Q-network is used to compute the target Q-values for the loss function\n",
        "    target_q_network.load_state_dict(q_network.state_dict()) # Initialize the target Q-network with the same weights as the Q-network\n",
        "\n",
        "    optimizer = torch.optim.AdamW(q_network.parameters(), lr=0.004, amsgrad=True)\n",
        "    #lr_scheduler = torch.optim.lr_scheduler.ExponentialLR(optimizer, gamma=0.999)\n",
        "    lr_scheduler = MinimumExponentialLR(optimizer, lr_decay=0.97, min_lr=0.0001)\n",
        "    loss_fn = torch.nn.MSELoss()\n",
        "\n",
        "    epsilon_greedy = EpsilonGreedy(epsilon_start=0.82, epsilon_min=0.013, epsilon_decay=0.9675, env=env, q_network=q_network)\n",
        "\n",
        "    replay_buffer = ReplayBuffer(2000)\n",
        "\n",
        "    # Train the q-network\n",
        "\n",
        "    episode_reward_list = train_dddqn_agent(env,\n",
        "                                            q_network,\n",
        "                                            target_q_network,\n",
        "                                            optimizer,\n",
        "                                            loss_fn,\n",
        "                                            epsilon_greedy,\n",
        "                                            device,\n",
        "                                            lr_scheduler,\n",
        "                                            num_episodes=150,\n",
        "                                            gamma=0.9,\n",
        "                                            batch_size=128,\n",
        "                                            replay_buffer=replay_buffer,\n",
        "                                            target_q_network_sync_period=30)\n",
        "    dddqn_trains_result_list[0].extend(range(len(episode_reward_list)))\n",
        "    dddqn_trains_result_list[1].extend(episode_reward_list)\n",
        "    dddqn_trains_result_list[2].extend([train_index for _ in episode_reward_list])\n",
        "\n",
        "dddqn_trains_result_df = pd.DataFrame(np.array(dddqn_trains_result_list).T, columns=[\"num_episodes\", \"mean_final_episode_reward\", \"training_index\"])\n",
        "dddqn_trains_result_df[\"agent\"] = \"DDDQN\"\n",
        "\n",
        "# SAVE THE ACTION-VALUE ESTIMATION FUNCTION\n",
        "\n",
        "torch.save(q_network, MODELS_DIR / \"lab1_dddqn_q_network.pth\")\n",
        "\n",
        "env.close()"
      ]
    },
    {
      "cell_type": "markdown",
      "metadata": {
        "id": "I0CGONdEW9gI"
      },
      "source": [
        "### Plot results"
      ]
    },
    {
      "cell_type": "code",
      "execution_count": null,
      "metadata": {
        "id": "H2J_EDGwW9gI"
      },
      "outputs": [],
      "source": [
        "g = sns.relplot(x=\"num_episodes\", y=\"mean_final_episode_reward\", kind=\"line\", hue=\"agent\", estimator=None, units=\"training_index\", data=dddqn_trains_result_df,\n",
        "                height=7, aspect=2, alpha=0.5);"
      ]
    },
    {
      "cell_type": "code",
      "execution_count": null,
      "metadata": {
        "id": "leyt5cwvW9gI"
      },
      "outputs": [],
      "source": [
        "#g = sns.relplot(x=\"num_episodes\", y=\"mean_final_episode_reward\", kind=\"line\", hue=\"agent\", data=dddqn_trains_result_df, height=7, aspect=2)"
      ]
    },
    {
      "cell_type": "code",
      "execution_count": null,
      "metadata": {
        "id": "cC9YDLnyW9gJ"
      },
      "outputs": [],
      "source": [
        "all_trains_result_df = pd.concat([naive_trains_result_df, dqn1_trains_result_df, dqn2_trains_result_df, ddqn_trains_result_df, dqn_per_trains_result_df, dddqn_trains_result_df])\n",
        "g = sns.relplot(x=\"num_episodes\", y=\"mean_final_episode_reward\", kind=\"line\", hue=\"agent\", data=all_trains_result_df, height=7, aspect=2)"
      ]
    },
    {
      "cell_type": "markdown",
      "metadata": {
        "id": "TpE8zf31W9gJ"
      },
      "source": [
        "### Test it"
      ]
    },
    {
      "cell_type": "code",
      "execution_count": null,
      "metadata": {
        "id": "X8UuQWzKW9gJ"
      },
      "outputs": [],
      "source": [
        "# q_network = torch.load(\"dddqn_q_network.pth\").to(device)\n",
        "\n",
        "env = gym.make('CartPole-v1', render_mode='rgb_array')\n",
        "RenderWrapper.register(env, force_gif=True)\n",
        "\n",
        "test_q_network_agent(env, q_network, num_episode=3)\n",
        "\n",
        "env.close()\n",
        "\n",
        "env.render_wrapper.make_gif(FIGS_DIR / \"lab1_dddqn_tained\")"
      ]
    },
    {
      "cell_type": "markdown",
      "metadata": {
        "id": "30FTSG0rW9gJ"
      },
      "source": [
        "## Bonus 2: Hyperparameters optimization with Optuna\n",
        "\n",
        "Optuna is an open-source hyperparameter optimization framework designed to automate the process of searching for the best hyperparameters in machine learning models. It is highly efficient and flexible, supporting various optimization algorithms. Optuna works with Python-based machine learning libraries like PyTorch, TensorFlow, and Scikit-learn. Optuna’s core feature is its ability to perform dynamic search spaces and pruning, allowing faster convergence by terminating poorly performing trials early.\n",
        "Optuna supports distributed optimization for large-scale tuning.\n",
        "\n",
        "### Official documentation\n",
        "\n",
        "- Optuna GitHub: [https://github.com/optuna/optuna](https://github.com/optuna/optuna)\n",
        "- Optuna Documentation: [https://optuna.org](https://optuna.org)\n",
        "\n",
        "### Example of usage with PyTorch\n",
        "\n",
        "Here's an example of how to use Optuna to optimize the hyperparameters of a simple neural network with PyTorch."
      ]
    },
    {
      "cell_type": "code",
      "execution_count": null,
      "metadata": {
        "id": "ILNvuhqDW9gJ"
      },
      "outputs": [],
      "source": [
        "import torch\n",
        "import torch.nn as nn\n",
        "import torch.optim as optim\n",
        "import optuna\n",
        "from torch.utils.data import DataLoader, TensorDataset\n",
        "\n",
        "# Define the PyTorch model\n",
        "class Net(nn.Module):\n",
        "    def __init__(self, input_size, hidden_size, output_size):\n",
        "        super(Net, self).__init__()\n",
        "        self.fc1 = nn.Linear(input_size, hidden_size)\n",
        "        self.fc2 = nn.Linear(hidden_size, output_size)\n",
        "\n",
        "    def forward(self, x):\n",
        "        x = torch.relu(self.fc1(x))\n",
        "        x = self.fc2(x)\n",
        "        return x\n",
        "\n",
        "# Objective function for Optuna\n",
        "def objective(trial):\n",
        "    # Hyperparameters to be tuned\n",
        "    hidden_size = trial.suggest_int('hidden_size', 32, 128)\n",
        "    lr = trial.suggest_loguniform('lr', 1e-4, 1e-2)\n",
        "\n",
        "    model = Net(input_size=28*28, hidden_size=hidden_size, output_size=10)\n",
        "    optimizer = optim.Adam(model.parameters(), lr=lr)\n",
        "    loss_fn = nn.CrossEntropyLoss()\n",
        "\n",
        "    # Dummy dataset\n",
        "    X = torch.randn(100, 28*28)\n",
        "    y = torch.randint(0, 10, (100,))\n",
        "    train_loader = DataLoader(TensorDataset(X, y), batch_size=32)\n",
        "\n",
        "    # Training loop\n",
        "    for epoch in range(10):\n",
        "        for batch_x, batch_y in train_loader:\n",
        "            optimizer.zero_grad()\n",
        "            output = model(batch_x)\n",
        "            loss = loss_fn(output, batch_y)\n",
        "            loss.backward()\n",
        "            optimizer.step()\n",
        "\n",
        "    return loss.item()\n",
        "\n",
        "# Optimize hyperparameters\n",
        "study = optuna.create_study(direction='minimize')\n",
        "study.optimize(objective, n_trials=10)\n",
        "\n",
        "# Show best hyperparameters\n",
        "print(study.best_trial)"
      ]
    },
    {
      "cell_type": "markdown",
      "metadata": {
        "id": "GMHYm-6NW9gJ"
      },
      "source": [
        "This example creates a basic neural network and tunes the `hidden_size` and learning rate (`lr`) using Optuna."
      ]
    },
    {
      "cell_type": "markdown",
      "metadata": {
        "editable": true,
        "tags": [],
        "id": "PWzKZBiPW9gJ"
      },
      "source": [
        "## Further readings\n",
        "\n",
        "### Rainbow paper: Putting everything together\n",
        "\n",
        "In  2017, Henssel et al. performed a large experiment that combined several DQN enhancements, among them DDQN and PER (https://arxiv.org/abs/1710.02298). They found that the ehancements worked well together. The paper has become known as the Rainbow paper, since the major graph showing the cumulative performance over 57 Atrari games is multicolored.\n",
        "\n",
        "<img src=\"https://raw.githubusercontent.com/jeremiedecock/polytechnique-csc-53439-ep-2025-students/main/assets/lab1_rainbow_curve.png?raw=true\" width=\"600px\" />"
      ]
    }
  ],
  "metadata": {
    "kernelspec": {
      "display_name": "Python 3 (ipykernel)",
      "language": "python",
      "name": "python3"
    },
    "language_info": {
      "codemirror_mode": {
        "name": "ipython",
        "version": 3
      },
      "file_extension": ".py",
      "mimetype": "text/x-python",
      "name": "python",
      "nbconvert_exporter": "python",
      "pygments_lexer": "ipython3",
      "version": "3.13.5"
    },
    "colab": {
      "provenance": []
    }
  },
  "nbformat": 4,
  "nbformat_minor": 0
}